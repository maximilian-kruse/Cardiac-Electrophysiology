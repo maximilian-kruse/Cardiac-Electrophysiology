{
 "cells": [
  {
   "cell_type": "code",
   "execution_count": 1,
   "id": "960be10a",
   "metadata": {},
   "outputs": [],
   "source": [
    "import pickle\n",
    "from dataclasses import asdict, fields\n",
    "from pathlib import Path\n",
    "\n",
    "import igl\n",
    "import numpy as np\n",
    "import pyvista as pv\n",
    "\n",
    "from cardiac_electrophysiology.ulac import parameterization, preprocessing, segmentation, solve"
   ]
  },
  {
   "cell_type": "code",
   "execution_count": 2,
   "id": "46ef9285",
   "metadata": {},
   "outputs": [],
   "source": [
    "patient_id = \"01\"\n",
    "mesh_file = f\"../data/processed/patient_{patient_id}/mesh_with_fibers_tags.vtk\"\n",
    "segmentation_file = Path(\"segmentation.pkl\")\n",
    "feature_tags = segmentation.FeatureTags(MV=0, LAA=1, LIPV=2, LSPV=3, RIPV=4, RSPV=5)\n",
    "\n",
    "alpha_min = 0.0\n",
    "alpha_max = 1.0\n",
    "beta_min = 0.0\n",
    "beta_max = 1.0\n",
    "relative_center_lipv = (2 / 3, 2 / 3)\n",
    "relative_center_lspv = (2 / 3, 1 / 3)\n",
    "relative_center_ripv = (1 / 3, 2 / 3)\n",
    "relative_center_rspv = (1 / 3, 1 / 3)\n",
    "relative_center_laa = (5 / 6, 5 / 6)\n",
    "radius_pv_inner = 0.1\n",
    "radius_pv_outer = 0.05\n",
    "radius_laa = 0.1"
   ]
  },
  {
   "cell_type": "code",
   "execution_count": 3,
   "id": "aad48bdc",
   "metadata": {},
   "outputs": [],
   "source": [
    "vtk_mesh = pv.read(mesh_file)\n",
    "triangular_mesh = preprocessing.convert_unstructured_to_polydata_mesh(vtk_mesh)\n",
    "vertices = np.array(triangular_mesh.points)\n",
    "simplices = preprocessing.convert_pv_cells_to_numpy_cells(triangular_mesh.faces)\n",
    "\n",
    "with segmentation_file.open(\"rb\") as f:\n",
    "    (\n",
    "        boundary_paths,\n",
    "        roof_connection_paths,\n",
    "        diagonal_mv_connection_paths,\n",
    "        pv_inner_outer_connection_paths,\n",
    "        pv_markers,\n",
    "        laa_markers,\n",
    "        mv_markers,\n",
    "    ) = pickle.load(f)"
   ]
  },
  {
   "cell_type": "code",
   "execution_count": 4,
   "id": "bf41e52e",
   "metadata": {},
   "outputs": [],
   "source": [
    "parameterized_pv_paths = parameterization.parameterize_pv_paths_by_arc_length(\n",
    "    triangular_mesh, boundary_paths, pv_markers\n",
    ")\n",
    "parameterized_laa_path = parameterization.parameterize_laa_path_by_arc_length(\n",
    "    triangular_mesh, boundary_paths, laa_markers\n",
    ")\n",
    "parameterized_mv_path = parameterization.parameterize_mv_path_by_arc_length(\n",
    "    triangular_mesh, boundary_paths, mv_markers\n",
    ")\n",
    "parameterized_roof_connections = parameterization.parameterize_roof_connections(\n",
    "    triangular_mesh, roof_connection_paths\n",
    ")\n",
    "parameterized_pv_inner_outer_paths = parameterization.parameterize_pv_inner_outer_paths(\n",
    "    triangular_mesh, pv_inner_outer_connection_paths\n",
    ")\n",
    "parameterized_pv_roof_corners = parameterization.parameterize_pv_roof_corners(\n",
    "    parameterized_pv_paths\n",
    ")\n",
    "parameterized_pv_sections = parameterization.parameterize_pv_sections(parameterized_pv_paths)"
   ]
  },
  {
   "cell_type": "code",
   "execution_count": null,
   "id": "bfc01848",
   "metadata": {},
   "outputs": [],
   "source": [
    "uac_pv_specs = parameterization.get_uac_pv_specs(\n",
    "    alpha_min=alpha_min,\n",
    "    alpha_max=alpha_max,\n",
    "    beta_min=beta_min,\n",
    "    beta_max=beta_max,\n",
    "    relative_center_lipv=relative_center_lipv,\n",
    "    relative_center_lspv=relative_center_lspv,\n",
    "    relative_center_ripv=relative_center_ripv,\n",
    "    relative_center_rspv=relative_center_rspv,\n",
    "    radius_pv_inner=radius_pv_inner,\n",
    "    radius_pv_outer=radius_pv_outer,\n",
    ")\n",
    "uac_laa_specs = parameterization.get_uac_laa_specs(\n",
    "    alpha_min=alpha_min,\n",
    "    alpha_max=alpha_max,\n",
    "    beta_min=beta_min,\n",
    "    beta_max=beta_max,\n",
    "    relative_center_laa=relative_center_laa,\n",
    "    radius_laa=radius_laa,\n",
    ")\n",
    "uac_mv_specs = parameterization.get_uac_mv_specs(\n",
    "    alpha_min=alpha_min,\n",
    "    alpha_max=alpha_max,\n",
    "    beta_min=beta_min,\n",
    "    beta_max=beta_max,\n",
    ")\n",
    "uac_roof_specs = parameterization.get_uac_roof_specs(uac_pv_specs)"
   ]
  },
  {
   "cell_type": "code",
   "execution_count": null,
   "id": "ba5b19c6",
   "metadata": {},
   "outputs": [],
   "source": [
    "uac_pv_boundaries = parameterization.compute_uac_pv_section_boundaries(\n",
    "    parameterized_pv_sections, uac_pv_specs\n",
    ")\n",
    "uac_roof_boundaries = parameterization.compute_uac_roof_boundaries(\n",
    "    parameterized_roof_connections, parameterized_pv_roof_corners, uac_roof_specs\n",
    ")\n",
    "uac_mv_boundary = parameterization.compute_uac_mv_boundary(parameterized_mv_path, uac_mv_specs)"
   ]
  },
  {
   "cell_type": "code",
   "execution_count": null,
   "id": "45149142",
   "metadata": {},
   "outputs": [],
   "source": [
    "boundary_indices, boundary_values = solve.extract_uac_boundary_data(\n",
    "    asdict(uac_roof_boundaries).keys(), uac_roof_boundaries\n",
    ")\n",
    "exterior_mesh, roof_mesh = preprocessing.split_from_enclosing_boundary(\n",
    "    triangular_mesh, boundary_indices\n",
    ")\n",
    "roof_vertices = np.array(roof_mesh.points)\n",
    "roof_simplices = preprocessing.convert_pv_cells_to_numpy_cells(roof_mesh.cells)\n",
    "local_boundary_inds = preprocessing.get_local_point_inds(roof_mesh, boundary_indices)\n",
    "harmonic_mapping = igl.harmonic(\n",
    "    roof_vertices, roof_simplices, local_boundary_inds, boundary_values, 1\n",
    ")\n",
    "mapping_z = np.zeros(roof_vertices.shape[0])\n",
    "mapping_3d = np.hstack([harmonic_mapping, mapping_z[:, None]])\n",
    "uac_roof_mesh = pv.PolyData.from_regular_faces(mapping_3d, roof_simplices)\n"
   ]
  },
  {
   "cell_type": "code",
   "execution_count": null,
   "id": "24ded55d",
   "metadata": {},
   "outputs": [],
   "source": [
    "lscm_mapping, _ = igl.lscm(roof_vertices, roof_simplices, local_boundary_inds, boundary_values)"
   ]
  },
  {
   "cell_type": "code",
   "execution_count": null,
   "id": "1c92af45",
   "metadata": {},
   "outputs": [],
   "source": [
    "uac_pv_meshes = {}\n",
    "for vein in [\"LIPV\", \"LSPV\", \"RIPV\", \"RSPV\"]:\n",
    "    boundary_indices, boundary_values = solve.extract_uac_boundary_data(\n",
    "        [f\"{vein}_inner\", f\"{vein}_outer\"], uac_pv_boundaries\n",
    "    )\n",
    "\n",
    "    pv_mesh = triangular_mesh.extract_values(getattr(feature_tags, vein), scalars=\"anatomical_tags\")\n",
    "    pv_vertices = np.array(pv_mesh.points)\n",
    "    pv_simplices = preprocessing.convert_pv_cells_to_numpy_cells(pv_mesh.cells)\n",
    "    local_boundary_inds = preprocessing.get_local_point_inds(pv_mesh, boundary_indices)\n",
    "    harmonic_mapping = igl.harmonic(\n",
    "        pv_vertices, pv_simplices, local_boundary_inds, boundary_values, 2\n",
    "    )\n",
    "    mapping_z = np.zeros(pv_vertices.shape[0])\n",
    "    mapping_3d = np.hstack([harmonic_mapping, mapping_z[:, None]])\n",
    "    uac_pv_meshes[vein] = pv.PolyData.from_regular_faces(mapping_3d, pv_simplices)"
   ]
  },
  {
   "cell_type": "code",
   "execution_count": null,
   "id": "247f0439",
   "metadata": {},
   "outputs": [],
   "source": [
    "plotter = pv.Plotter(window_size=[800, 800])\n",
    "plotter.add_mesh(\n",
    "    uac_roof_mesh,\n",
    "    color=\"lightgrey\",\n",
    "    style=\"wireframe\",\n",
    ")\n",
    "for pv_mesh in uac_pv_meshes.values():\n",
    "    plotter.add_mesh(\n",
    "        pv_mesh,\n",
    "        color=\"lightgrey\",\n",
    "        style=\"wireframe\",\n",
    "    )\n",
    "plotter.view_xy()\n",
    "plotter.show()"
   ]
  }
 ],
 "metadata": {
  "kernelspec": {
   "display_name": "default",
   "language": "python",
   "name": "python3"
  },
  "language_info": {
   "codemirror_mode": {
    "name": "ipython",
    "version": 3
   },
   "file_extension": ".py",
   "mimetype": "text/x-python",
   "name": "python",
   "nbconvert_exporter": "python",
   "pygments_lexer": "ipython3",
   "version": "3.13.7"
  }
 },
 "nbformat": 4,
 "nbformat_minor": 5
}
