{
 "cells": [
  {
   "cell_type": "code",
   "execution_count": 1,
   "id": "44d971f3",
   "metadata": {},
   "outputs": [],
   "source": [
    "import pickle\n",
    "from dataclasses import fields\n",
    "from pathlib import Path\n",
    "\n",
    "import basix\n",
    "import dolfinx as dlx\n",
    "import matplotlib.pyplot as plt\n",
    "import numpy as np\n",
    "import pyvista as pv\n",
    "import scifem as dlx_helper\n",
    "import scipy as sp\n",
    "import seaborn as sns\n",
    "import ufl\n",
    "from mpi4py import MPI\n",
    "\n",
    "from cardiac_electrophysiology.ulac import preprocessing"
   ]
  },
  {
   "cell_type": "code",
   "execution_count": 2,
   "id": "1e43fab4",
   "metadata": {},
   "outputs": [],
   "source": [
    "patient_id = \"01\"\n",
    "infile_name = f\"../data/processed/patient_{patient_id}/mesh_with_fibers_tags.vtk\"\n",
    "load_file = Path(\"parameterization.pkl\")"
   ]
  },
  {
   "cell_type": "code",
   "execution_count": null,
   "id": "b0676435",
   "metadata": {},
   "outputs": [],
   "source": [
    "vtk_mesh = pv.read(infile_name)\n",
    "triangular_mesh = preprocessing.convert_unstructured_to_polydata_mesh(vtk_mesh)\n",
    "vertices = triangular_mesh.points\n",
    "simplices = preprocessing.convert_pv_cells_to_numpy_cells(triangular_mesh.faces)\n",
    "\n",
    "triangle_element = ufl.Mesh(basix.ufl.element(\"Lagrange\", \"triangle\", 1, shape=(2,)))\n",
    "dolfinx_mesh = dlx.mesh.create_mesh(MPI.COMM_SELF, simplices, vertices, triangle_element)\n",
    "\n",
    "with open(load_file, \"rb\") as f:\n",
    "    uac_pv_boundaries, uac_laa_boundary, uac_mv_boundary = pickle.load(f)"
   ]
  },
  {
   "cell_type": "code",
   "execution_count": null,
   "id": "f26ff864",
   "metadata": {},
   "outputs": [],
   "source": [
    "dolfinx_index_permutation = [\n",
    "    np.where(dolfinx_mesh.geometry.input_global_indices == i)[0][0]\n",
    "    for i in range(vertices.shape[0])\n",
    "]\n",
    "dolfinx_index_permutation = np.array(dolfinx_index_permutation)\n",
    "\n",
    "def get_dolfinx_indices_from_original_indices(original_indices):\n",
    "    dolfinx_indices = dolfinx_index_permutation[original_indices]\n",
    "    return dolfinx_indices\n",
    "\n",
    "def get_original_indices_from_dolfinx_indices(dolfinx_indices):\n",
    "    original_indices = dolfinx_mesh.geometry.input_global_indices[dolfinx_indices]\n",
    "    return original_indices"
   ]
  },
  {
   "cell_type": "code",
   "execution_count": null,
   "id": "ce8036f7",
   "metadata": {},
   "outputs": [],
   "source": [
    "function_space = dlx.fem.functionspace(dolfinx_mesh, (\"Lagrange\", 1, (dolfinx_mesh.topology.dim,)))\n",
    "vertex_to_dof_map = dlx_helper.vertex_to_dofmap(function_space)\n",
    "dof_to_vertex_map = dlx_helper.dof_to_vertexmap(function_space)\n",
    "dolfinx_indices = dolfinx_mesh.geometry.input_global_indices\n",
    "\n",
    "trial_function = ufl.TrialFunction(function_space)\n",
    "test_function = ufl.TestFunction(function_space)\n",
    "weak_form = ufl.inner(ufl.grad(trial_function), ufl.grad(test_function)) * ufl.dx\n",
    "rhs_constant = dlx.fem.Constant(dolfinx_mesh, [0.0, 0.0])\n",
    "right_hand_side = ufl.inner(rhs_constant, test_function) * ufl.dx"
   ]
  },
  {
   "cell_type": "code",
   "execution_count": null,
   "id": "87f781a0",
   "metadata": {},
   "outputs": [],
   "source": [
    "bc_function = dlx.fem.Function(function_space)\n",
    "bc_function.x.array[:] = 0.0\n",
    "boundary_conditions = []\n",
    "\n",
    "for boundary_field in fields(uac_pv_boundaries):\n",
    "    if \"inner\" in boundary_field.name:\n",
    "        continue\n",
    "    boundary = getattr(uac_pv_boundaries, boundary_field.name)\n",
    "    boundary_inds = get_dolfinx_indices_from_original_indices(boundary.inds)\n",
    "    boundary_dofs = vertex_to_dof_map[boundary_inds]\n",
    "    shaped_array = np.zeros((vertices.shape[0], 2))\n",
    "    shaped_array[boundary_dofs, 0] = boundary.alpha\n",
    "    shaped_array[boundary_dofs, 1] = boundary.beta\n",
    "    bc_function.x.array[:] += shaped_array.flatten()\n",
    "    dirichlet_bc = dlx.fem.dirichletbc(bc_function, boundary_dofs)\n",
    "    boundary_conditions.append(dirichlet_bc)\n",
    "\n",
    "for boundary in [uac_mv_boundary]:\n",
    "    boundary_inds = get_dolfinx_indices_from_original_indices(boundary.inds)\n",
    "    boundary_dofs = vertex_to_dof_map[boundary_inds]\n",
    "    shaped_array = np.zeros((vertices.shape[0], 2))\n",
    "    shaped_array[boundary_dofs, 0] = boundary.alpha\n",
    "    shaped_array[boundary_dofs, 1] = boundary.beta\n",
    "    bc_function.x.array[:] += shaped_array.flatten()\n",
    "    dirichlet_bc = dlx.fem.dirichletbc(bc_function, boundary_dofs)\n",
    "    boundary_conditions.append(dirichlet_bc)"
   ]
  },
  {
   "cell_type": "code",
   "execution_count": null,
   "id": "32ffe68f",
   "metadata": {},
   "outputs": [],
   "source": [
    "problem = dlx.fem.petsc.LinearProblem(\n",
    "    weak_form,\n",
    "    right_hand_side,\n",
    "    boundary_conditions,\n",
    "    petsc_options={\"ksp_type\": \"preonly\", \"pc_type\": \"lu\"},\n",
    ")\n",
    "solution = problem.solve()\n",
    "solution_array = solution.x.array.reshape((-1, 2))\n",
    "solution_alpha_dolfinx = solution_array[:, 0][dof_to_vertex_map]\n",
    "solution_beta_dolfinx = solution_array[:, 1][dof_to_vertex_map]\n",
    "solution_alpha_original = solution_alpha_dolfinx[dolfinx_index_permutation]\n",
    "solution_beta_original = solution_beta_dolfinx[dolfinx_index_permutation]"
   ]
  },
  {
   "cell_type": "code",
   "execution_count": null,
   "id": "21031f40",
   "metadata": {},
   "outputs": [],
   "source": [
    "triangular_mesh.point_data[\"alpha\"] = solution_alpha_original\n",
    "triangular_mesh.point_data[\"beta\"] = solution_beta_original\n",
    "\n",
    "plotter = pv.Plotter(window_size=[600, 600])\n",
    "plotter.add_mesh(\n",
    "    triangular_mesh,\n",
    "    scalars=\"beta\",\n",
    "    show_edges=True,\n",
    ")\n",
    "plotter.show()"
   ]
  },
  {
   "cell_type": "code",
   "execution_count": null,
   "id": "60cd885a",
   "metadata": {},
   "outputs": [],
   "source": [
    "feature_to_visualize = uac_pv_boundaries.RSPV_outer\n",
    "feature_mesh = pv.PolyData(triangular_mesh.points[feature_to_visualize.inds])\n",
    "feature_mesh.point_data[\"alpha\"] = solution_alpha_original[feature_to_visualize.inds]\n",
    "feature_mesh.point_data[\"beta\"] = solution_beta_original[feature_to_visualize.inds]\n",
    "\n",
    "plotter = pv.Plotter(window_size=[600, 600])\n",
    "plotter.add_mesh(\n",
    "    triangular_mesh,\n",
    "    style=\"wireframe\",\n",
    "    color=\"lightgrey\",\n",
    ")\n",
    "plotter.add_points(\n",
    "    feature_mesh,\n",
    "    scalars=\"beta\",\n",
    "    point_size=10,\n",
    "    render_points_as_spheres=True,\n",
    ")\n",
    "plotter.show()"
   ]
  },
  {
   "cell_type": "code",
   "execution_count": null,
   "id": "8f511bd9",
   "metadata": {},
   "outputs": [],
   "source": [
    "reference_coords_x = solution_alpha_original\n",
    "reference_coords_y = solution_beta_original\n",
    "reference_coords_z = np.zeros(reference_coords_x.size)\n",
    "reference_coords = np.vstack([reference_coords_x, reference_coords_y, reference_coords_z]).T\n",
    "reference_mesh = pv.PolyData.from_regular_faces(reference_coords, simplices)\n",
    "\n",
    "plotter = pv.Plotter(window_size=[900, 900])\n",
    "plotter.add_mesh(\n",
    "    reference_mesh,\n",
    "    show_edges=True,\n",
    "    style=\"wireframe\",\n",
    "    color=\"lightgray\",\n",
    "    edge_opacity=1,\n",
    ")\n",
    "plotter.view_xy()\n",
    "plotter.show()"
   ]
  }
 ],
 "metadata": {
  "kernelspec": {
   "display_name": "default",
   "language": "python",
   "name": "python3"
  },
  "language_info": {
   "codemirror_mode": {
    "name": "ipython",
    "version": 3
   },
   "file_extension": ".py",
   "mimetype": "text/x-python",
   "name": "python",
   "nbconvert_exporter": "python",
   "pygments_lexer": "ipython3",
   "version": "3.13.7"
  }
 },
 "nbformat": 4,
 "nbformat_minor": 5
}
