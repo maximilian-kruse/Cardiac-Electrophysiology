{
 "cells": [
  {
   "cell_type": "code",
   "execution_count": 1,
   "id": "ff236b72",
   "metadata": {},
   "outputs": [],
   "source": [
    "import dolfinx as dlx\n",
    "import numpy as np\n",
    "import pyvista as pv\n",
    "import scifem as dlx_helper\n",
    "import ufl\n",
    "from mpi4py import MPI"
   ]
  },
  {
   "cell_type": "code",
   "execution_count": 2,
   "id": "4cd42826",
   "metadata": {},
   "outputs": [],
   "source": [
    "square_mesh = dlx.mesh.create_unit_square(MPI.COMM_WORLD, 8, 8, dlx.mesh.CellType.triangle)\n",
    "vertices = square_mesh.geometry.x\n",
    "simplices = square_mesh.geometry.dofmap\n",
    "\n",
    "is_left_boundary = np.where(vertices[:, 0] == 0)[0]\n",
    "is_right_boundary = np.where(vertices[:, 0] == 1)[0]\n",
    "is_bottom_boundary = np.where(vertices[:, 1] == 0)[0]\n",
    "is_top_boundary = np.where(vertices[:, 1] == 1)[0]\n",
    "\n",
    "alpha_left_boundary_values = np.zeros(is_left_boundary.size)\n",
    "alpha_right_boundary_values = np.ones(is_right_boundary.size)\n",
    "alpha_bottom_boundary_values = vertices[is_bottom_boundary, 0]\n",
    "alpha_top_boundary_values = vertices[is_top_boundary, 0]\n",
    "\n",
    "beta_left_boundary_values = vertices[is_left_boundary, 1]\n",
    "beta_right_boundary_values = vertices[is_right_boundary, 1]\n",
    "beta_bottom_boundary_values = np.zeros(is_bottom_boundary.size)\n",
    "beta_top_boundary_values = np.ones(is_top_boundary.size)"
   ]
  },
  {
   "cell_type": "code",
   "execution_count": 3,
   "id": "67f110e6",
   "metadata": {},
   "outputs": [],
   "source": [
    "alpha_left_boundary = pv.PolyData(vertices[is_left_boundary])\n",
    "alpha_left_boundary.point_data[\"values\"] = alpha_left_boundary_values\n",
    "alpha_right_boundary = pv.PolyData(vertices[is_right_boundary])\n",
    "alpha_right_boundary.point_data[\"values\"] = alpha_right_boundary_values\n",
    "alpha_bottom_boundary = pv.PolyData(vertices[is_bottom_boundary])\n",
    "alpha_bottom_boundary.point_data[\"values\"] = alpha_bottom_boundary_values\n",
    "alpha_top_boundary = pv.PolyData(vertices[is_top_boundary])\n",
    "alpha_top_boundary.point_data[\"values\"] = alpha_top_boundary_values\n",
    "\n",
    "beta_left_boundary = pv.PolyData(vertices[is_left_boundary])\n",
    "beta_left_boundary.point_data[\"values\"] = beta_left_boundary_values\n",
    "beta_right_boundary = pv.PolyData(vertices[is_right_boundary])\n",
    "beta_right_boundary.point_data[\"values\"] = beta_right_boundary_values\n",
    "beta_bottom_boundary = pv.PolyData(vertices[is_bottom_boundary])\n",
    "beta_bottom_boundary.point_data[\"values\"] = beta_bottom_boundary_values\n",
    "beta_top_boundary = pv.PolyData(vertices[is_top_boundary])\n",
    "beta_top_boundary.point_data[\"values\"] = beta_top_boundary_values"
   ]
  },
  {
   "cell_type": "code",
   "execution_count": 4,
   "id": "fa254334",
   "metadata": {},
   "outputs": [
    {
     "data": {
      "application/vnd.jupyter.widget-view+json": {
       "model_id": "97ec88d4815848c8a357ec622a277920",
       "version_major": 2,
       "version_minor": 0
      },
      "text/plain": [
       "Widget(value='<iframe src=\"http://localhost:44327/index.html?ui=P_0x7f9e58e2b620_0&reconnect=auto\" class=\"pyvi…"
      ]
     },
     "metadata": {},
     "output_type": "display_data"
    }
   ],
   "source": [
    "pv_mesh = pv.PolyData.from_regular_faces(vertices, simplices)\n",
    "plotter = pv.Plotter(window_size=[600, 600])\n",
    "plotter.add_mesh(pv_mesh, style=\"wireframe\", color=\"gray\")\n",
    "plotter.add_points(alpha_left_boundary, point_size=20, render_points_as_spheres=True)\n",
    "plotter.add_points(alpha_right_boundary, point_size=20, render_points_as_spheres=True)\n",
    "plotter.add_points(alpha_bottom_boundary, point_size=20, render_points_as_spheres=True)\n",
    "plotter.add_points(alpha_top_boundary, point_size=20, render_points_as_spheres=True)\n",
    "plotter.view_xy()\n",
    "plotter.show()"
   ]
  },
  {
   "cell_type": "code",
   "execution_count": 5,
   "id": "a7dc90aa",
   "metadata": {},
   "outputs": [
    {
     "data": {
      "application/vnd.jupyter.widget-view+json": {
       "model_id": "57c3bbb116af40f38b77f25b7f761229",
       "version_major": 2,
       "version_minor": 0
      },
      "text/plain": [
       "Widget(value='<iframe src=\"http://localhost:44327/index.html?ui=P_0x7f9e44cd0050_1&reconnect=auto\" class=\"pyvi…"
      ]
     },
     "metadata": {},
     "output_type": "display_data"
    }
   ],
   "source": [
    "pv_mesh = pv.PolyData.from_regular_faces(vertices, simplices)\n",
    "plotter = pv.Plotter(window_size=[600, 600])\n",
    "plotter.add_mesh(pv_mesh, style=\"wireframe\", color=\"gray\")\n",
    "plotter.add_points(beta_left_boundary, point_size=20, render_points_as_spheres=True)\n",
    "plotter.add_points(beta_right_boundary, point_size=20, render_points_as_spheres=True)\n",
    "plotter.add_points(beta_bottom_boundary, point_size=20, render_points_as_spheres=True)\n",
    "plotter.add_points(beta_top_boundary, point_size=20, render_points_as_spheres=True)\n",
    "plotter.view_xy()\n",
    "plotter.show()"
   ]
  },
  {
   "cell_type": "code",
   "execution_count": 6,
   "id": "973ccd27",
   "metadata": {},
   "outputs": [],
   "source": [
    "function_space = dlx.fem.functionspace(square_mesh, (\"Lagrange\", 1))\n",
    "vertex_to_dof_map = dlx_helper.vertex_to_dofmap(function_space)\n",
    "dof_to_vertex_map = dlx_helper.dof_to_vertexmap(function_space)\n",
    "\n",
    "trial_function = ufl.TrialFunction(function_space)\n",
    "test_function = ufl.TestFunction(function_space)\n",
    "weak_form = ufl.inner(ufl.grad(trial_function), ufl.grad(test_function)) * ufl.dx\n",
    "rhs_constant = dlx.fem.Constant(square_mesh, 0.0)\n",
    "right_hand_side = rhs_constant * test_function * ufl.dx"
   ]
  },
  {
   "cell_type": "code",
   "execution_count": 7,
   "id": "ce53b227",
   "metadata": {},
   "outputs": [],
   "source": [
    "left_boundary_dofs = vertex_to_dof_map[is_left_boundary]\n",
    "right_boundary_dofs = vertex_to_dof_map[is_right_boundary]\n",
    "bottom_boundary_dofs = vertex_to_dof_map[is_bottom_boundary]\n",
    "top_boundary_dofs = vertex_to_dof_map[is_top_boundary]\n",
    "\n",
    "bc_function = dlx.fem.Function(function_space)\n",
    "bc_function.x.array[:] = 0\n",
    "bc_function.x.array[left_boundary_dofs] = alpha_left_boundary_values\n",
    "bc_function.x.array[right_boundary_dofs] = alpha_right_boundary_values\n",
    "bc_function.x.array[bottom_boundary_dofs] = alpha_bottom_boundary_values\n",
    "bc_function.x.array[top_boundary_dofs] = alpha_top_boundary_values\n",
    "\n",
    "boundary_alpha_left = dlx.fem.dirichletbc(bc_function, left_boundary_dofs)\n",
    "boundary_alpha_right = dlx.fem.dirichletbc(bc_function, right_boundary_dofs)\n",
    "boundary_alpha_bottom = dlx.fem.dirichletbc(bc_function, bottom_boundary_dofs)\n",
    "boundary_alpha_top = dlx.fem.dirichletbc(bc_function, top_boundary_dofs)\n",
    "boundary_conditions_alpha = [\n",
    "    boundary_alpha_left,\n",
    "    boundary_alpha_right,\n",
    "    boundary_alpha_bottom,\n",
    "    boundary_alpha_top,\n",
    "]"
   ]
  },
  {
   "cell_type": "code",
   "execution_count": 8,
   "id": "7818d81e",
   "metadata": {},
   "outputs": [],
   "source": [
    "problem = dlx.fem.petsc.LinearProblem(\n",
    "    weak_form,\n",
    "    right_hand_side,\n",
    "    boundary_conditions_alpha,\n",
    "    petsc_options={\"ksp_type\": \"cg\", \"pc_type\": \"ilu\"},\n",
    ")\n",
    "solution = problem.solve()"
   ]
  },
  {
   "cell_type": "code",
   "execution_count": 9,
   "id": "6144a4e9",
   "metadata": {},
   "outputs": [
    {
     "data": {
      "application/vnd.jupyter.widget-view+json": {
       "model_id": "e02165bdf0cf4db5b311973fd0e271f1",
       "version_major": 2,
       "version_minor": 0
      },
      "text/plain": [
       "Widget(value='<iframe src=\"http://localhost:44327/index.html?ui=P_0x7f9e44cd2350_2&reconnect=auto\" class=\"pyvi…"
      ]
     },
     "metadata": {},
     "output_type": "display_data"
    }
   ],
   "source": [
    "solution_on_vertices = solution.x.array[dof_to_vertex_map]\n",
    "alpha_solution = pv.PolyData(vertices)\n",
    "alpha_solution.point_data[\"values\"] = solution_on_vertices\n",
    "\n",
    "pv_mesh = pv.PolyData.from_regular_faces(vertices, simplices)\n",
    "plotter = pv.Plotter(window_size=[600, 600])\n",
    "plotter.add_mesh(pv_mesh, style=\"wireframe\", color=\"gray\")\n",
    "plotter.add_points(alpha_solution, point_size=10, render_points_as_spheres=True)\n",
    "plotter.view_xy()\n",
    "plotter.show()"
   ]
  },
  {
   "cell_type": "code",
   "execution_count": 10,
   "id": "60967a51",
   "metadata": {},
   "outputs": [],
   "source": [
    "bc_function = dlx.fem.Function(function_space)\n",
    "bc_function.x.array[:] = 0\n",
    "bc_function.x.array[left_boundary_dofs] = beta_left_boundary_values\n",
    "bc_function.x.array[right_boundary_dofs] = beta_right_boundary_values\n",
    "bc_function.x.array[bottom_boundary_dofs] = beta_bottom_boundary_values\n",
    "bc_function.x.array[top_boundary_dofs] = beta_top_boundary_values\n",
    "\n",
    "boundary_beta_left = dlx.fem.dirichletbc(bc_function, left_boundary_dofs)\n",
    "boundary_beta_right = dlx.fem.dirichletbc(bc_function, right_boundary_dofs)\n",
    "boundary_beta_bottom = dlx.fem.dirichletbc(bc_function, bottom_boundary_dofs)\n",
    "boundary_beta_top = dlx.fem.dirichletbc(bc_function, top_boundary_dofs)\n",
    "boundary_conditions_beta = [\n",
    "    boundary_beta_left,\n",
    "    boundary_beta_right,\n",
    "    boundary_beta_bottom,\n",
    "    boundary_beta_top,\n",
    "]"
   ]
  },
  {
   "cell_type": "code",
   "execution_count": 11,
   "id": "0b64cce2",
   "metadata": {},
   "outputs": [],
   "source": [
    "problem = dlx.fem.petsc.LinearProblem(\n",
    "    weak_form,\n",
    "    right_hand_side,\n",
    "    boundary_conditions_beta,\n",
    "    petsc_options={\"ksp_type\": \"cg\", \"pc_type\": \"ilu\"},\n",
    ")\n",
    "solution = problem.solve()"
   ]
  },
  {
   "cell_type": "code",
   "execution_count": 12,
   "id": "8efc710b",
   "metadata": {},
   "outputs": [
    {
     "data": {
      "application/vnd.jupyter.widget-view+json": {
       "model_id": "190ded848d6141488b66114ad6562f47",
       "version_major": 2,
       "version_minor": 0
      },
      "text/plain": [
       "Widget(value='<iframe src=\"http://localhost:44327/index.html?ui=P_0x7f9e44cd3390_3&reconnect=auto\" class=\"pyvi…"
      ]
     },
     "metadata": {},
     "output_type": "display_data"
    }
   ],
   "source": [
    "solution_on_vertices = solution.x.array[dof_to_vertex_map]\n",
    "alpha_solution = pv.PolyData(vertices)\n",
    "alpha_solution.point_data[\"values\"] = solution_on_vertices\n",
    "\n",
    "pv_mesh = pv.PolyData.from_regular_faces(vertices, simplices)\n",
    "plotter = pv.Plotter(window_size=[600, 600])\n",
    "plotter.add_mesh(pv_mesh, style=\"wireframe\", color=\"gray\")\n",
    "plotter.add_points(alpha_solution, point_size=10, render_points_as_spheres=True)\n",
    "plotter.view_xy()\n",
    "plotter.show()"
   ]
  }
 ],
 "metadata": {
  "kernelspec": {
   "display_name": "default",
   "language": "python",
   "name": "python3"
  },
  "language_info": {
   "codemirror_mode": {
    "name": "ipython",
    "version": 3
   },
   "file_extension": ".py",
   "mimetype": "text/x-python",
   "name": "python",
   "nbconvert_exporter": "python",
   "pygments_lexer": "ipython3",
   "version": "3.13.7"
  }
 },
 "nbformat": 4,
 "nbformat_minor": 5
}
