{
 "cells": [
  {
   "cell_type": "code",
   "execution_count": 17,
   "id": "44d971f3",
   "metadata": {},
   "outputs": [],
   "source": [
    "import pickle\n",
    "from dataclasses import fields\n",
    "from pathlib import Path\n",
    "\n",
    "import igl\n",
    "import matplotlib.pyplot as plt\n",
    "import numpy as np\n",
    "import pyvista as pv\n",
    "import scipy as sp\n",
    "import seaborn as sns\n",
    "\n",
    "from cardiac_electrophysiology.ulac import preprocessing"
   ]
  },
  {
   "cell_type": "code",
   "execution_count": 18,
   "id": "1e43fab4",
   "metadata": {},
   "outputs": [],
   "source": [
    "patient_id = \"01\"\n",
    "infile_name = f\"../data/processed/patient_{patient_id}/mesh_with_fibers_tags.vtk\"\n",
    "load_file = Path(\"parameterization.pkl\")"
   ]
  },
  {
   "cell_type": "code",
   "execution_count": 19,
   "id": "b0676435",
   "metadata": {},
   "outputs": [],
   "source": [
    "vtk_mesh = pv.read(infile_name)\n",
    "triangular_mesh = preprocessing.convert_unstructured_to_polydata_mesh(vtk_mesh)\n",
    "vertices = np.array(triangular_mesh.points)\n",
    "simplices = preprocessing.convert_pv_cells_to_numpy_cells(triangular_mesh.faces)\n",
    "\n",
    "with open(load_file, \"rb\") as f:\n",
    "    uac_pv_boundaries, uac_laa_boundary, uac_mv_boundary = pickle.load(f)"
   ]
  },
  {
   "cell_type": "code",
   "execution_count": 20,
   "id": "b310b9cf",
   "metadata": {},
   "outputs": [],
   "source": [
    "boundary_indices = []\n",
    "boundary_values = []\n",
    "\n",
    "boundary_indices.append(uac_mv_boundary.inds)\n",
    "boundary_values.append(np.vstack([uac_mv_boundary.alpha, uac_mv_boundary.beta]).T)\n",
    "boundary_ind_array = np.concatenate(boundary_indices)\n",
    "boundary_value_array = np.vstack(boundary_values)\n",
    "\n",
    "harmonic_mapping = igl.harmonic(vertices, simplices, boundary_ind_array, boundary_value_array, 1)"
   ]
  },
  {
   "cell_type": "code",
   "execution_count": 24,
   "id": "64aeda20",
   "metadata": {},
   "outputs": [
    {
     "data": {
      "application/vnd.jupyter.widget-view+json": {
       "model_id": "fd5f02c3b0434a26b68253189abde339",
       "version_major": 2,
       "version_minor": 0
      },
      "text/plain": [
       "Widget(value='<iframe src=\"http://localhost:46389/index.html?ui=P_0x7f1790567250_14&reconnect=auto\" class=\"pyv…"
      ]
     },
     "metadata": {},
     "output_type": "display_data"
    }
   ],
   "source": [
    "mapping_z_direction = np.zeros(vertices.shape[0])\n",
    "mapping = np.hstack([harmonic_mapping, mapping_z_direction[:, None]])\n",
    "\n",
    "uac_mesh = pv.PolyData.from_regular_faces(mapping, simplices)\n",
    "plotter = pv.Plotter(window_size=[800, 800])\n",
    "plotter.add_mesh(\n",
    "    uac_mesh,\n",
    "    style=\"wireframe\",\n",
    "    color=\"lightgrey\",\n",
    ")\n",
    "for boundary_field in fields(uac_pv_boundaries):\n",
    "    if \"inner\" in boundary_field.name:\n",
    "        continue\n",
    "    boundary = getattr(uac_pv_boundaries, boundary_field.name)\n",
    "    boundary_points = mapping[boundary.inds]\n",
    "    plotter.add_points(boundary_points, color=\"red\", point_size=10, render_points_as_spheres=True)\n",
    "laa_boundary_points = mapping[uac_laa_boundary.inds]\n",
    "plotter.add_points(laa_boundary_points, color=\"blue\", point_size=10, render_points_as_spheres=True)\n",
    "plotter.view_xy()\n",
    "plotter.show()"
   ]
  },
  {
   "cell_type": "code",
   "execution_count": 15,
   "id": "26ca181c",
   "metadata": {},
   "outputs": [
    {
     "data": {
      "application/vnd.jupyter.widget-view+json": {
       "model_id": "2ebedb88c4614ab3b7d92d524a6f2c99",
       "version_major": 2,
       "version_minor": 0
      },
      "text/plain": [
       "Widget(value='<iframe src=\"http://localhost:46389/index.html?ui=P_0x7f176bb1d450_9&reconnect=auto\" class=\"pyvi…"
      ]
     },
     "metadata": {},
     "output_type": "display_data"
    }
   ],
   "source": [
    "smoothend_mesh = uac_mesh.smooth(n_iter=100, relaxation_factor=0.1)\n",
    "\n",
    "plotter = pv.Plotter(window_size=[800, 800])\n",
    "plotter.add_mesh(\n",
    "    smoothend_mesh,\n",
    "    style=\"wireframe\",\n",
    "    color=\"lightgrey\",\n",
    ")\n",
    "plotter.view_xy()\n",
    "plotter.show()"
   ]
  }
 ],
 "metadata": {
  "kernelspec": {
   "display_name": "default",
   "language": "python",
   "name": "python3"
  },
  "language_info": {
   "codemirror_mode": {
    "name": "ipython",
    "version": 3
   },
   "file_extension": ".py",
   "mimetype": "text/x-python",
   "name": "python",
   "nbconvert_exporter": "python",
   "pygments_lexer": "ipython3",
   "version": "3.13.7"
  }
 },
 "nbformat": 4,
 "nbformat_minor": 5
}
