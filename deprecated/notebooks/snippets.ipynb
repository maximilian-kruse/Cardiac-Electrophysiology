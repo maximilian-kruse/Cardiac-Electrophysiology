{
 "cells": [
  {
   "cell_type": "markdown",
   "id": "84a6519e",
   "metadata": {},
   "source": [
    "# Convert VTK to XDMF"
   ]
  },
  {
   "cell_type": "code",
   "execution_count": null,
   "id": "84926eba",
   "metadata": {},
   "outputs": [],
   "source": [
    "import pyvista as pv\n",
    "import dolfinx as dlx\n",
    "from mpi4py import MPI\n",
    "\n",
    "\n",
    "patient_id = \"patient_01\"\n",
    "infile_name = f\"../data/{patient_id}/mesh_with_uacs_fibers_tags.vtk\"\n",
    "outfile_name = f\"../data/{patient_id}/mesh_dolfinx.xdmf\"\n",
    "mpi_communicator = MPI.COMM_WORLD\n",
    "\n",
    "vtk_mesh = pv.read(infile_name)\n",
    "vtk_mesh.cell_data.clear()\n",
    "vtk_mesh.point_data.clear()\n",
    "pv.save_meshio(outfile_name, vtk_mesh)\n",
    "\n",
    "dolfinx_mesh = dlx.io.XDMFFile(mpi_communicator, outfile_name, \"r\").read_mesh(name=\"Grid\")"
   ]
  }
 ],
 "metadata": {
  "kernelspec": {
   "display_name": "default",
   "language": "python",
   "name": "python3"
  },
  "language_info": {
   "codemirror_mode": {
    "name": "ipython",
    "version": 3
   },
   "file_extension": ".py",
   "mimetype": "text/x-python",
   "name": "python",
   "nbconvert_exporter": "python",
   "pygments_lexer": "ipython3",
   "version": "3.13.7"
  }
 },
 "nbformat": 4,
 "nbformat_minor": 5
}
