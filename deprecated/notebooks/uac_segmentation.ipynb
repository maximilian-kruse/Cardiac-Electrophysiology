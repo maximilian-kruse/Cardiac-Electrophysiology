{
 "cells": [
  {
   "cell_type": "code",
   "execution_count": 1,
   "id": "a666d835",
   "metadata": {},
   "outputs": [],
   "source": [
    "import pickle\n",
    "from dataclasses import asdict\n",
    "from pathlib import Path\n",
    "\n",
    "import pyvista as pv\n",
    "\n",
    "from cardiac_electrophysiology.ulac import preprocessing, segmentation"
   ]
  },
  {
   "cell_type": "markdown",
   "id": "222ac3b1",
   "metadata": {},
   "source": [
    "## Load Data"
   ]
  },
  {
   "cell_type": "code",
   "execution_count": 2,
   "id": "c24cbf20",
   "metadata": {},
   "outputs": [],
   "source": [
    "patient_id = \"01\"\n",
    "infile_name = f\"../data/processed/patient_{patient_id}/mesh_with_fibers_tags.vtk\"\n",
    "feature_tags = segmentation.FeatureTags(MV=0, LAA=1, LIPV=2, LSPV=3, RIPV=4, RSPV=5)\n",
    "\n",
    "vtk_mesh = pv.read(infile_name)\n",
    "triangular_mesh = preprocessing.convert_unstructured_to_polydata_mesh(vtk_mesh)"
   ]
  },
  {
   "cell_type": "markdown",
   "id": "1caad7e2",
   "metadata": {},
   "source": [
    "## Extract All Boundaries, Convert to Ordered Paths"
   ]
  },
  {
   "cell_type": "code",
   "execution_count": 3,
   "id": "e4493f3f",
   "metadata": {},
   "outputs": [],
   "source": [
    "boundaries = segmentation.extract_boundaries(triangular_mesh, feature_tags)\n",
    "boundary_paths = segmentation.construct_boundary_paths(boundaries)"
   ]
  },
  {
   "cell_type": "markdown",
   "id": "fedd2861",
   "metadata": {},
   "source": [
    "## Construct Connection Paths"
   ]
  },
  {
   "cell_type": "code",
   "execution_count": 4,
   "id": "b14e9ba4",
   "metadata": {},
   "outputs": [],
   "source": [
    "roof_connection_paths = segmentation.construct_roof_connection_paths(\n",
    "    triangular_mesh, boundary_paths\n",
    ")\n",
    "diagonal_mv_connection_paths = segmentation.construct_diagonal_mv_connection_paths(\n",
    "    triangular_mesh, boundary_paths\n",
    ")\n",
    "pv_inner_outer_connection_paths = segmentation.construct_pv_inner_outer_connection_paths(\n",
    "    triangular_mesh, boundary_paths, roof_connection_paths, diagonal_mv_connection_paths\n",
    ")"
   ]
  },
  {
   "cell_type": "markdown",
   "id": "993c6463",
   "metadata": {},
   "source": [
    "## Get Boundary Markers"
   ]
  },
  {
   "cell_type": "code",
   "execution_count": 5,
   "id": "13865755",
   "metadata": {},
   "outputs": [],
   "source": [
    "pv_markers = segmentation.get_pv_markers(pv_inner_outer_connection_paths)\n",
    "laa_markers = segmentation.get_laa_markers(diagonal_mv_connection_paths)\n",
    "mv_markers = segmentation.get_mv_markers(diagonal_mv_connection_paths)"
   ]
  },
  {
   "cell_type": "markdown",
   "id": "0c951a08",
   "metadata": {},
   "source": [
    "## Save"
   ]
  },
  {
   "cell_type": "code",
   "execution_count": 6,
   "id": "9836a8e3",
   "metadata": {},
   "outputs": [],
   "source": [
    "save_file = Path(\"segmentation.pkl\")\n",
    "objects_to_save = [\n",
    "    boundary_paths,\n",
    "    roof_connection_paths,\n",
    "    diagonal_mv_connection_paths,\n",
    "    pv_inner_outer_connection_paths,\n",
    "    pv_markers,\n",
    "    laa_markers,\n",
    "    mv_markers,\n",
    "]\n",
    "\n",
    "with save_file.open(\"wb\") as f:\n",
    "    pickle.dump(objects_to_save, f)"
   ]
  },
  {
   "cell_type": "code",
   "execution_count": 7,
   "id": "ab918323",
   "metadata": {},
   "outputs": [
    {
     "data": {
      "application/vnd.jupyter.widget-view+json": {
       "model_id": "962470650674488292be02bff2baf133",
       "version_major": 2,
       "version_minor": 0
      },
      "text/plain": [
       "Widget(value='<iframe src=\"http://localhost:35763/index.html?ui=P_0x7f5eb1aa92b0_0&reconnect=auto\" class=\"pyvi…"
      ]
     },
     "metadata": {},
     "output_type": "display_data"
    }
   ],
   "source": [
    "boundary_to_visualize = \"RSPV_inner\"\n",
    "roof_path_to_visualize = \"RIPV_to_RSPV\"\n",
    "diagonal_mv_path_to_visualize = \"RSPV_to_MV\"\n",
    "pv_markers_to_visualize = \"RSPV_outer\"\n",
    "mv_marker_to_visualize = \"RIPV\"\n",
    "\n",
    "boundary_paths_dict = asdict(boundary_paths)\n",
    "roof_connection_paths_dict = asdict(roof_connection_paths)\n",
    "diagonal_mv_connection_paths_dict = asdict(diagonal_mv_connection_paths)\n",
    "pv_markers_dict = asdict(pv_markers)\n",
    "laa_markers_dict = asdict(laa_markers)\n",
    "mv_markers_dict = asdict(mv_markers)\n",
    "\n",
    "boundary_path = pv.PolyData(triangular_mesh.points[boundary_paths_dict[boundary_to_visualize]])\n",
    "roof_path = pv.PolyData(triangular_mesh.points[roof_connection_paths_dict[roof_path_to_visualize]])\n",
    "diagonal_mv_path = pv.PolyData(\n",
    "    triangular_mesh.points[diagonal_mv_connection_paths_dict[diagonal_mv_path_to_visualize]]\n",
    ")\n",
    "pv_marker_ap = pv.PolyData(\n",
    "    triangular_mesh.points[pv_markers_dict[pv_markers_to_visualize][\"anterior_posterior\"]]\n",
    ")\n",
    "pv_marker_sl = pv.PolyData(\n",
    "    triangular_mesh.points[pv_markers_dict[pv_markers_to_visualize][\"septal_lateral\"]]\n",
    ")\n",
    "pv_marker_dg = pv.PolyData(\n",
    "    triangular_mesh.points[pv_markers_dict[pv_markers_to_visualize][\"diagonal\"]]\n",
    ")\n",
    "laa_markers_1 = pv.PolyData(triangular_mesh.points[laa_markers_dict[\"LIPV\"]])\n",
    "laa_markers_2 = pv.PolyData(triangular_mesh.points[laa_markers_dict[\"MV\"]])\n",
    "mv_marker = pv.PolyData(triangular_mesh.points[mv_markers_dict[mv_marker_to_visualize]])\n",
    "\n",
    "plotter = pv.Plotter(window_size=[900, 900])\n",
    "plotter.add_mesh(triangular_mesh, color=\"lightgray\", show_edges=True, edge_opacity=0.3)\n",
    "plotter.add_points(mv_marker.points, color=\"red\", point_size=10, render_points_as_spheres=True)\n",
    "plotter.show()"
   ]
  },
  {
   "cell_type": "markdown",
   "id": "e885a29f",
   "metadata": {},
   "source": [
    "## Visualize"
   ]
  },
  {
   "cell_type": "code",
   "execution_count": 8,
   "id": "dce29eb5",
   "metadata": {},
   "outputs": [
    {
     "data": {
      "application/vnd.jupyter.widget-view+json": {
       "model_id": "e255a729d230404eafbaac33a1bcf5ec",
       "version_major": 2,
       "version_minor": 0
      },
      "text/plain": [
       "Widget(value='<iframe src=\"http://localhost:35763/index.html?ui=P_0x7f5d8490de50_1&reconnect=auto\" class=\"pyvi…"
      ]
     },
     "metadata": {},
     "output_type": "display_data"
    }
   ],
   "source": [
    "plotter = pv.Plotter(window_size=[900, 900])\n",
    "plotter.add_mesh(triangular_mesh, color=\"lightgray\", show_edges=True, edge_opacity=0.3)\n",
    "for boundary in asdict(boundary_paths).values():\n",
    "    boundary_points = triangular_mesh.points[boundary]\n",
    "    plotter.add_points(boundary_points, color=\"blue\", point_size=5, render_points_as_spheres=True)\n",
    "for roof_connection in asdict(roof_connection_paths).values():\n",
    "    roof_connection_points = triangular_mesh.points[roof_connection]\n",
    "    plotter.add_points(\n",
    "        roof_connection_points, color=\"yellow\", point_size=5, render_points_as_spheres=True\n",
    "    )\n",
    "for diagonal_mv_connection in asdict(diagonal_mv_connection_paths).values():\n",
    "    diagonal_mv_connection_points = triangular_mesh.points[diagonal_mv_connection]\n",
    "    plotter.add_points(\n",
    "        diagonal_mv_connection_points, color=\"green\", point_size=5, render_points_as_spheres=True\n",
    "    )\n",
    "for pv_inner_outer_connection in asdict(pv_inner_outer_connection_paths).values():\n",
    "    anterior_posterior = triangular_mesh.points[pv_inner_outer_connection[\"anterior_to_posterior\"]]\n",
    "    septal_lateral = triangular_mesh.points[pv_inner_outer_connection[\"septal_to_lateral\"]]\n",
    "    diagonal = triangular_mesh.points[pv_inner_outer_connection[\"diagonal\"]]\n",
    "    plotter.add_points(\n",
    "        anterior_posterior, color=\"yellow\", point_size=5, render_points_as_spheres=True\n",
    "    )\n",
    "    plotter.add_points(septal_lateral, color=\"yellow\", point_size=5, render_points_as_spheres=True)\n",
    "    plotter.add_points(diagonal, color=\"green\", point_size=5, render_points_as_spheres=True)\n",
    "for marker in asdict(pv_markers).values():\n",
    "    anterior_posterior = triangular_mesh.points[marker[\"anterior_posterior\"]]\n",
    "    septal_lateral = triangular_mesh.points[marker[\"septal_lateral\"]]\n",
    "    diagonal = triangular_mesh.points[marker[\"diagonal\"]]\n",
    "    plotter.add_points(\n",
    "        anterior_posterior, color=\"red\", point_size=10, render_points_as_spheres=True\n",
    "    )\n",
    "    plotter.add_points(septal_lateral, color=\"red\", point_size=10, render_points_as_spheres=True)\n",
    "    plotter.add_points(diagonal, color=\"red\", point_size=10, render_points_as_spheres=True)\n",
    "plotter.show()"
   ]
  }
 ],
 "metadata": {
  "kernelspec": {
   "display_name": "default",
   "language": "python",
   "name": "python3"
  },
  "language_info": {
   "codemirror_mode": {
    "name": "ipython",
    "version": 3
   },
   "file_extension": ".py",
   "mimetype": "text/x-python",
   "name": "python",
   "nbconvert_exporter": "python",
   "pygments_lexer": "ipython3",
   "version": "3.13.7"
  }
 },
 "nbformat": 4,
 "nbformat_minor": 5
}
