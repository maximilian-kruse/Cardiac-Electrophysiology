{
 "cells": [
  {
   "cell_type": "code",
   "execution_count": 1,
   "id": "895a90fd",
   "metadata": {},
   "outputs": [],
   "source": [
    "from pathlib import Path\n",
    "\n",
    "import numpy as np\n",
    "import pyvista as pv\n",
    "\n",
    "from cardiac_electrophysiology.ulac import preprocessing as pp"
   ]
  },
  {
   "cell_type": "markdown",
   "id": "507da088",
   "metadata": {},
   "source": [
    "# Load Dataset"
   ]
  },
  {
   "cell_type": "code",
   "execution_count": 2,
   "id": "e1522e92",
   "metadata": {},
   "outputs": [],
   "source": [
    "patient_id = \"patient_01\"\n",
    "infile_name = Path(f\"../data/raw/{patient_id}_mesh_with_uacs_fibers_tags.vtk\")\n",
    "outfile_name = Path(f\"../data/processed/{patient_id}/mesh_with_fibers_tags.vtk\")\n",
    "legacy_anatomical_tags = {\n",
    "    \"Body\": 11,\n",
    "    \"LAA\": 13,\n",
    "    \"LIPV\": 21,\n",
    "    \"LSPV\": 23,\n",
    "    \"RIPV\": 25,\n",
    "    \"RSPV\": 27,\n",
    "}\n",
    "\n",
    "new_anatomical_tags = {\n",
    "    \"Body\": 0,\n",
    "    \"LAA\": 1,\n",
    "    \"LIPV\": 2,\n",
    "    \"LSPV\": 3,\n",
    "    \"RIPV\": 4,\n",
    "    \"RSPV\": 5,\n",
    "}\n",
    "\n",
    "input_mesh = pv.read(infile_name)\n",
    "triangular_mesh = pp.convert_unstructured_to_polydata_mesh(input_mesh)\n",
    "del triangular_mesh.point_data[\"alpha\"]\n",
    "del triangular_mesh.point_data[\"beta\"]\n",
    "for key, value in legacy_anatomical_tags.items():\n",
    "    anatomical_region = np.where(triangular_mesh.cell_data[\"anatomical_tags\"] == value)[0]\n",
    "    triangular_mesh.cell_data[\"anatomical_tags\"][anatomical_region] = new_anatomical_tags[key]"
   ]
  },
  {
   "cell_type": "code",
   "execution_count": 3,
   "id": "e1c422b0",
   "metadata": {},
   "outputs": [],
   "source": [
    "coarse_mesh = pp.coarsen_mesh(triangular_mesh, decimation_factor=0.9)\n",
    "outfile_name.parent.mkdir(parents=True, exist_ok=True)\n",
    "pv.save_meshio(outfile_name, coarse_mesh)"
   ]
  },
  {
   "cell_type": "code",
   "execution_count": 10,
   "id": "585904f3",
   "metadata": {},
   "outputs": [
    {
     "data": {
      "application/vnd.jupyter.widget-view+json": {
       "model_id": "8c1da820e3c147a68172cfff9d1c8488",
       "version_major": 2,
       "version_minor": 0
      },
      "text/plain": [
       "Widget(value='<iframe src=\"http://localhost:39347/index.html?ui=P_0x7f8cfc354190_5&reconnect=auto\" class=\"pyvi…"
      ]
     },
     "metadata": {},
     "output_type": "display_data"
    }
   ],
   "source": [
    "extracted_region = coarse_mesh.extract_values(new_anatomical_tags[\"RSPV\"], scalars=\"anatomical_tags\")\n",
    "\n",
    "plotter = pv.Plotter(window_size=[900, 900])\n",
    "plotter.add_mesh(coarse_mesh, color=\"lightgrey\", opacity=0.3, style=\"wireframe\")\n",
    "plotter.add_mesh(\n",
    "    extracted_region,\n",
    "    scalars=\"anatomical_tags\",\n",
    "    cmap=\"tab20\",\n",
    "    show_scalar_bar=False,\n",
    ")\n",
    "plotter.show()"
   ]
  }
 ],
 "metadata": {
  "kernelspec": {
   "display_name": "default",
   "language": "python",
   "name": "python3"
  },
  "language_info": {
   "codemirror_mode": {
    "name": "ipython",
    "version": 3
   },
   "file_extension": ".py",
   "mimetype": "text/x-python",
   "name": "python",
   "nbconvert_exporter": "python",
   "pygments_lexer": "ipython3",
   "version": "3.13.7"
  }
 },
 "nbformat": 4,
 "nbformat_minor": 5
}
