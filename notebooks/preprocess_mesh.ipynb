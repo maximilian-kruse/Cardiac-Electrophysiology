{
 "cells": [
  {
   "cell_type": "code",
   "execution_count": 1,
   "id": "895a90fd",
   "metadata": {},
   "outputs": [],
   "source": [
    "import numpy as np\n",
    "import pyvista as pv\n",
    "import trimesh as tm\n",
    "import vedo as vd\n",
    "\n",
    "vd.settings.set_vtk_verbosity(0)"
   ]
  },
  {
   "cell_type": "markdown",
   "id": "507da088",
   "metadata": {},
   "source": [
    "# Load Dataset"
   ]
  },
  {
   "cell_type": "code",
   "execution_count": 2,
   "id": "e1522e92",
   "metadata": {},
   "outputs": [],
   "source": [
    "patient_id = \"patient_01\"\n",
    "infile_name = f\"../data/raw/{patient_id}_mesh_with_uacs_fibers_tags.vtk\"\n",
    "outfile_name = f\"{patient_id}_mesh_with_fibers_tags.vtk\"\n",
    "decimation_fraction = 0.8\n",
    "tag_threshold_portion = 0.5\n",
    "legacy_anatomical_tags = {\n",
    "    \"Body\": 11,\n",
    "    \"LAA\": 13,\n",
    "    \"LIPV\": 21,\n",
    "    \"LSPV\": 23,\n",
    "    \"RIPV\": 25,\n",
    "    \"RSPV\": 27,\n",
    "}\n",
    "\n",
    "vtk_mesh = pv.read(infile_name)\n",
    "pv_mesh = pv.PolyData.from_regular_faces(\n",
    "    vtk_mesh.points, vtk_mesh.cells.reshape(-1, 4)[:, 1:]\n",
    ")\n",
    "pv_mesh.point_data[\"alpha\"] = vtk_mesh.point_data[\"alpha\"]\n",
    "pv_mesh.point_data[\"beta\"] = vtk_mesh.point_data[\"beta\"]\n",
    "pv_mesh.cell_data[\"fibers\"] = vtk_mesh.cell_data[\"fibers\"]\n",
    "pv_mesh.cell_data[\"anatomical_tags\"] = vtk_mesh.cell_data[\"anatomical_tags\"]\n",
    "body_region = np.where(pv_mesh.cell_data[\"anatomical_tags\"] == 11)[0]\n",
    "pv_mesh.cell_data[\"anatomical_tags\"][body_region] = 0"
   ]
  },
  {
   "cell_type": "markdown",
   "id": "3c04fd49",
   "metadata": {},
   "source": [
    "# Coarsen Mesh for faster computations"
   ]
  },
  {
   "cell_type": "code",
   "execution_count": 3,
   "id": "bfaa32ca",
   "metadata": {},
   "outputs": [],
   "source": [
    "pv_mesh_interpolated = pv_mesh.cell_data_to_point_data()\n",
    "coarse_mesh_interpolated = pv_mesh_interpolated.decimate(\n",
    "    decimation_fraction, volume_preservation=False, scalars=True, vectors=True\n",
    ")\n",
    "alpha_data = coarse_mesh_interpolated.point_data[\"alpha\"]\n",
    "beta_data = coarse_mesh_interpolated.point_data[\"beta\"]\n",
    "del coarse_mesh_interpolated.point_data[\"alpha\"]\n",
    "del coarse_mesh_interpolated.point_data[\"beta\"]\n",
    "coarse_mesh = coarse_mesh_interpolated.point_data_to_cell_data()\n",
    "coarse_mesh.point_data[\"alpha\"] = alpha_data\n",
    "coarse_mesh.point_data[\"beta\"] = beta_data"
   ]
  },
  {
   "cell_type": "code",
   "execution_count": 4,
   "id": "585904f3",
   "metadata": {},
   "outputs": [
    {
     "data": {
      "application/vnd.jupyter.widget-view+json": {
       "model_id": "ca6ad01c23f7424bbe3f049cceb74835",
       "version_major": 2,
       "version_minor": 0
      },
      "text/plain": [
       "Widget(value='<iframe src=\"http://localhost:37977/index.html?ui=P_0x7fc9ae039a90_0&reconnect=auto\" class=\"pyvi…"
      ]
     },
     "metadata": {},
     "output_type": "display_data"
    }
   ],
   "source": [
    "plotter = pv.Plotter(window_size=[900, 900])\n",
    "plotter.add_mesh(\n",
    "    coarse_mesh,\n",
    "    show_edges=True,\n",
    "    scalars=\"anatomical_tags\",\n",
    "    cmap=\"tab20\",\n",
    "    show_scalar_bar=False,\n",
    "    edge_color=\"lightgray\",\n",
    "    edge_opacity=0.3,\n",
    ")\n",
    "plotter.show()"
   ]
  },
  {
   "cell_type": "code",
   "execution_count": 5,
   "id": "b0cf7907",
   "metadata": {},
   "outputs": [
    {
     "data": {
      "application/vnd.jupyter.widget-view+json": {
       "model_id": "517e26105d564808859bd1ed2bef797e",
       "version_major": 2,
       "version_minor": 0
      },
      "text/plain": [
       "Widget(value='<iframe src=\"http://localhost:37977/index.html?ui=P_0x7fc999343110_1&reconnect=auto\" class=\"pyvi…"
      ]
     },
     "metadata": {},
     "output_type": "display_data"
    }
   ],
   "source": [
    "body_mesh = coarse_mesh.extract_values(values=0, scalars=\"anatomical_tags\")\n",
    "feature_meshes = coarse_mesh.extract_values(\n",
    "    ranges=[1e-5, 100], scalars=\"anatomical_tags\"\n",
    ")\n",
    "\n",
    "plotter = pv.Plotter(window_size=[900, 900])\n",
    "plotter.add_mesh(\n",
    "    coarse_mesh,\n",
    "    style=\"wireframe\",\n",
    "    color=\"lightgray\",\n",
    "    opacity=0.3,\n",
    ")\n",
    "plotter.add_mesh(\n",
    "    feature_meshes,\n",
    "    show_edges=True,\n",
    "    scalars=\"anatomical_tags\",\n",
    "    cmap=\"tab20\",\n",
    "    show_scalar_bar=False,\n",
    "    edge_color=\"lightgray\",\n",
    "    edge_opacity=0.3,\n",
    ")\n",
    "plotter.show()"
   ]
  },
  {
   "cell_type": "code",
   "execution_count": 7,
   "id": "fdb15212",
   "metadata": {},
   "outputs": [
    {
     "data": {
      "application/vnd.jupyter.widget-view+json": {
       "model_id": "77c5fbd8eb0f4b74a697ff8ce8e41932",
       "version_major": 2,
       "version_minor": 0
      },
      "text/plain": [
       "Widget(value='<iframe src=\"http://localhost:37977/index.html?ui=P_0x7fc999232e90_2&reconnect=auto\" class=\"pyvi…"
      ]
     },
     "metadata": {},
     "output_type": "display_data"
    }
   ],
   "source": [
    "separated_meshes = feature_meshes.split_bodies()\n",
    "\n",
    "for label in separated_meshes.keys():\n",
    "    mesh_portion = separated_meshes[label]\n",
    "    maximum_tag_value = np.max(mesh_portion.cell_data[\"anatomical_tags\"])\n",
    "\n",
    "    threshold_value = maximum_tag_value * tag_threshold_portion\n",
    "    feature_cell_inds = np.where(\n",
    "        mesh_portion.cell_data[\"anatomical_tags\"] >= threshold_value\n",
    "    )[0]\n",
    "    mesh_portion.cell_data[\"anatomical_tags\"][feature_cell_inds] = maximum_tag_value\n",
    "    body_cell_inds = np.setdiff1d(np.arange(mesh_portion.n_cells), feature_cell_inds)\n",
    "    mesh_portion.cell_data[\"anatomical_tags\"][body_cell_inds] = 0\n",
    "    separated_meshes[label] = mesh_portion\n",
    "    coarse_mesh.cell_data[\"anatomical_tags\"][\n",
    "        mesh_portion.cell_data[\"vtkOriginalCellIds\"]\n",
    "    ] = mesh_portion.cell_data[\"anatomical_tags\"]\n",
    "\n",
    "plotter = pv.Plotter(window_size=[900, 900])\n",
    "plotter.add_mesh(\n",
    "    coarse_mesh,\n",
    "    show_edges=True,\n",
    "    scalars=\"anatomical_tags\",\n",
    "    cmap=\"tab20\",\n",
    "    show_scalar_bar=False,\n",
    "    edge_color=\"lightgray\",\n",
    "    edge_opacity=0.3,\n",
    ")\n",
    "plotter.show()"
   ]
  },
  {
   "cell_type": "markdown",
   "id": "4f3d0162",
   "metadata": {},
   "source": [
    "# Clean Up Anatomical Regions"
   ]
  },
  {
   "cell_type": "code",
   "execution_count": 8,
   "id": "53bec499",
   "metadata": {},
   "outputs": [],
   "source": [
    "def get_connected_main_segment(input_mesh, region_tag):\n",
    "    pv_region_mesh = input_mesh.extract_values(region_tag, scalars=\"anatomical_tags\")\n",
    "    tm_region_mesh = tm.Trimesh(\n",
    "        pv_region_mesh.points, pv_region_mesh.cells.reshape(-1, 4)[:, 1:], process=False\n",
    "    )\n",
    "    tm_region_mesh.fill_holes()\n",
    "    connected_segments = tm_region_mesh.split(only_watertight=False)\n",
    "    if not connected_segments:\n",
    "        main_segment  = vtk_mesh\n",
    "    else:\n",
    "        num_segment_vertices = [len(seg.vertices) for seg in connected_segments]\n",
    "        maximum_segment_index = np.argmax(num_segment_vertices)\n",
    "        main_segment = connected_segments[maximum_segment_index]\n",
    "    return main_segment\n",
    "\n",
    "\n",
    "def convert_cell_to_point_data(input_mesh, main_segment):\n",
    "    segment_cell_inds = main_segment.cell_data[\"vtkOriginalCellIds\"]\n",
    "    new_anatomical_tags = np.zeros(input_mesh.n_cells)\n",
    "    new_anatomical_tags[segment_cell_inds] = 1\n",
    "    input_mesh.cell_data[\"anatomical_tags\"] = new_anatomical_tags\n",
    "    input_mesh_interpolated = input_mesh.cell_data_to_point_data()\n",
    "    return input_mesh_interpolated\n",
    "\n",
    "\n",
    "def get_smoothened_region(input_mesh):\n",
    "    vd_mesh = vd.Mesh([input_mesh.points, input_mesh.faces.reshape(-1, 4)[:, 1:]])\n",
    "    vd_mesh.pointdata[\"anatomical_tags\"] = input_mesh.point_data[\"anatomical_tags\"]\n",
    "    vd_mesh = vd_mesh.smooth_data(niter=50)\n",
    "    input_mesh.point_data[\"anatomical_tags\"] = vd_mesh.pointdata[\"anatomical_tags\"]\n",
    "    input_mesh = input_mesh.extract_values(\n",
    "        ranges=[0.5, 1.1], scalars=\"anatomical_tags\"\n",
    "    )\n",
    "    return input_mesh"
   ]
  },
  {
   "cell_type": "code",
   "execution_count": 9,
   "id": "71a5c445",
   "metadata": {},
   "outputs": [
    {
     "ename": "KeyError",
     "evalue": "'vtkOriginalCellIds'",
     "output_type": "error",
     "traceback": [
      "\u001b[31m---------------------------------------------------------------------------\u001b[39m",
      "\u001b[31mKeyError\u001b[39m                                  Traceback (most recent call last)",
      "\u001b[36mCell\u001b[39m\u001b[36m \u001b[39m\u001b[32mIn[9]\u001b[39m\u001b[32m, line 5\u001b[39m\n\u001b[32m      3\u001b[39m \u001b[38;5;28;01mfor\u001b[39;00m i, region_tag \u001b[38;5;129;01min\u001b[39;00m \u001b[38;5;28menumerate\u001b[39m(legacy_anatomical_tags.values()):\n\u001b[32m      4\u001b[39m     main_segment = get_connected_main_segment(coarse_mesh, region_tag)\n\u001b[32m----> \u001b[39m\u001b[32m5\u001b[39m     interpolated_coarse_mesh = \u001b[43mconvert_cell_to_point_data\u001b[49m\u001b[43m(\u001b[49m\u001b[43mcoarse_mesh\u001b[49m\u001b[43m,\u001b[49m\u001b[43m \u001b[49m\u001b[43mmain_segment\u001b[49m\u001b[43m)\u001b[49m\n\u001b[32m      6\u001b[39m     smoothened_coarse_mesh = get_smoothened_region(interpolated_coarse_mesh)\n\u001b[32m      7\u001b[39m     new_anatomical_tags[interpolated_coarse_mesh.point_data[\u001b[33m\"\u001b[39m\u001b[33mvtkOriginalPointIds\u001b[39m\u001b[33m\"\u001b[39m]] = i + \u001b[32m1\u001b[39m\n",
      "\u001b[36mCell\u001b[39m\u001b[36m \u001b[39m\u001b[32mIn[8]\u001b[39m\u001b[32m, line 18\u001b[39m, in \u001b[36mconvert_cell_to_point_data\u001b[39m\u001b[34m(input_mesh, main_segment)\u001b[39m\n\u001b[32m     17\u001b[39m \u001b[38;5;28;01mdef\u001b[39;00m\u001b[38;5;250m \u001b[39m\u001b[34mconvert_cell_to_point_data\u001b[39m(input_mesh, main_segment):\n\u001b[32m---> \u001b[39m\u001b[32m18\u001b[39m     segment_cell_inds = \u001b[43mmain_segment\u001b[49m\u001b[43m.\u001b[49m\u001b[43mcell_data\u001b[49m\u001b[43m[\u001b[49m\u001b[33;43m\"\u001b[39;49m\u001b[33;43mvtkOriginalCellIds\u001b[39;49m\u001b[33;43m\"\u001b[39;49m\u001b[43m]\u001b[49m\n\u001b[32m     19\u001b[39m     new_anatomical_tags = np.zeros(input_mesh.n_cells)\n\u001b[32m     20\u001b[39m     new_anatomical_tags[segment_cell_inds] = \u001b[32m1\u001b[39m\n",
      "\u001b[36mFile \u001b[39m\u001b[32m~/4-Code/cardiac-electrophysiology/.pixi/envs/default/lib/python3.13/site-packages/pyvista/core/datasetattributes.py:250\u001b[39m, in \u001b[36mDataSetAttributes.__getitem__\u001b[39m\u001b[34m(self, key)\u001b[39m\n\u001b[32m    248\u001b[39m     msg = \u001b[33m'\u001b[39m\u001b[33mOnly strings are valid keys for DataSetAttributes.\u001b[39m\u001b[33m'\u001b[39m  \u001b[38;5;66;03m# type: ignore[unreachable]\u001b[39;00m\n\u001b[32m    249\u001b[39m     \u001b[38;5;28;01mraise\u001b[39;00m \u001b[38;5;167;01mTypeError\u001b[39;00m(msg)\n\u001b[32m--> \u001b[39m\u001b[32m250\u001b[39m \u001b[38;5;28;01mreturn\u001b[39;00m \u001b[38;5;28;43mself\u001b[39;49m\u001b[43m.\u001b[49m\u001b[43mget_array\u001b[49m\u001b[43m(\u001b[49m\u001b[43mkey\u001b[49m\u001b[43m)\u001b[49m\n",
      "\u001b[36mFile \u001b[39m\u001b[32m~/4-Code/cardiac-electrophysiology/.pixi/envs/default/lib/python3.13/site-packages/pyvista/core/datasetattributes.py:463\u001b[39m, in \u001b[36mDataSetAttributes.get_array\u001b[39m\u001b[34m(self, key)\u001b[39m\n\u001b[32m    461\u001b[39m     \u001b[38;5;28;01mif\u001b[39;00m vtk_arr \u001b[38;5;129;01mis\u001b[39;00m \u001b[38;5;28;01mNone\u001b[39;00m:\n\u001b[32m    462\u001b[39m         msg = \u001b[33mf\u001b[39m\u001b[33m'\u001b[39m\u001b[38;5;132;01m{\u001b[39;00mkey\u001b[38;5;132;01m}\u001b[39;00m\u001b[33m'\u001b[39m\n\u001b[32m--> \u001b[39m\u001b[32m463\u001b[39m         \u001b[38;5;28;01mraise\u001b[39;00m \u001b[38;5;167;01mKeyError\u001b[39;00m(msg)\n\u001b[32m    464\u001b[39m narray = pyvista_ndarray(vtk_arr, dataset=\u001b[38;5;28mself\u001b[39m.dataset, association=\u001b[38;5;28mself\u001b[39m.association)\n\u001b[32m    465\u001b[39m \u001b[38;5;28;01mreturn\u001b[39;00m \u001b[38;5;28mself\u001b[39m._patch_type(narray)\n",
      "\u001b[31mKeyError\u001b[39m: 'vtkOriginalCellIds'"
     ]
    }
   ],
   "source": [
    "new_anatomical_tags = np.zeros(coarse_mesh.n_points)\n",
    "\n",
    "for i, region_tag in enumerate(legacy_anatomical_tags.values()):\n",
    "    main_segment = get_connected_main_segment(coarse_mesh, region_tag)\n",
    "    interpolated_coarse_mesh = convert_cell_to_point_data(coarse_mesh, main_segment)\n",
    "    smoothened_coarse_mesh = get_smoothened_region(interpolated_coarse_mesh)\n",
    "    new_anatomical_tags[interpolated_coarse_mesh.point_data[\"vtkOriginalPointIds\"]] = i + 1\n",
    "\n",
    "coarse_mesh.point_data[\"anatomical_tags\"] = new_anatomical_tags"
   ]
  },
  {
   "cell_type": "code",
   "execution_count": null,
   "id": "0bbda1cc",
   "metadata": {},
   "outputs": [],
   "source": [
    "np.unique(coarse_mesh.point_data[\"anatomical_tags\"])"
   ]
  },
  {
   "cell_type": "code",
   "execution_count": null,
   "id": "12012717",
   "metadata": {},
   "outputs": [],
   "source": [
    "plotter = pv.Plotter(window_size=[900, 900])\n",
    "plotter.add_mesh(\n",
    "    coarse_mesh,\n",
    "    show_edges=True,\n",
    "    scalars=\"anatomical_tags\",\n",
    "    cmap=\"tab20\",\n",
    "    show_scalar_bar=False,\n",
    "    edge_color=\"lightgray\",\n",
    "    edge_opacity=0.3,\n",
    ")\n",
    "plotter.show()"
   ]
  }
 ],
 "metadata": {
  "kernelspec": {
   "display_name": "default",
   "language": "python",
   "name": "python3"
  },
  "language_info": {
   "codemirror_mode": {
    "name": "ipython",
    "version": 3
   },
   "file_extension": ".py",
   "mimetype": "text/x-python",
   "name": "python",
   "nbconvert_exporter": "python",
   "pygments_lexer": "ipython3",
   "version": "3.13.7"
  }
 },
 "nbformat": 4,
 "nbformat_minor": 5
}
