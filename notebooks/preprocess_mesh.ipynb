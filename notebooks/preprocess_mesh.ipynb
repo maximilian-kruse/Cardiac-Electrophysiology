{
 "cells": [
  {
   "cell_type": "code",
   "execution_count": 37,
   "id": "895a90fd",
   "metadata": {},
   "outputs": [],
   "source": [
    "from pathlib import Path\n",
    "\n",
    "import numpy as np\n",
    "import preprocess_mesh as pm\n",
    "import pyvista as pv"
   ]
  },
  {
   "cell_type": "markdown",
   "id": "507da088",
   "metadata": {},
   "source": [
    "# Load Dataset"
   ]
  },
  {
   "cell_type": "code",
   "execution_count": 38,
   "id": "e1522e92",
   "metadata": {},
   "outputs": [],
   "source": [
    "patient_id = \"patient_01\"\n",
    "infile_name = Path(f\"../data/raw/{patient_id}_mesh_with_uacs_fibers_tags.vtk\")\n",
    "outfile_name = Path(f\"../data/processed/{patient_id}/mesh_with_fibers_tags.vtk\")\n",
    "legacy_anatomical_tags = {\n",
    "    \"Body\": 11,\n",
    "    \"LAA\": 13,\n",
    "    \"LIPV\": 21,\n",
    "    \"LSPV\": 23,\n",
    "    \"RIPV\": 25,\n",
    "    \"RSPV\": 27,\n",
    "}\n",
    "\n",
    "new_anatomical_tags = {\n",
    "    \"Body\": 0,\n",
    "    \"LAA\": 1,\n",
    "    \"LIPV\": 2,\n",
    "    \"LSPV\": 3,\n",
    "    \"RIPV\": 4,\n",
    "    \"RSPV\": 5,\n",
    "}\n",
    "\n",
    "input_mesh = pv.read(infile_name)\n",
    "triangular_mesh = pm.convert_unstructured_to_polydata_mesh(input_mesh)\n",
    "del triangular_mesh.point_data[\"alpha\"]\n",
    "del triangular_mesh.point_data[\"beta\"]\n",
    "for key, value in legacy_anatomical_tags.items():\n",
    "    anatomical_region = np.where(triangular_mesh.cell_data[\"anatomical_tags\"] == value)[0]\n",
    "    triangular_mesh.cell_data[\"anatomical_tags\"][anatomical_region] = new_anatomical_tags[key]"
   ]
  },
  {
   "cell_type": "code",
   "execution_count": null,
   "id": "e1c422b0",
   "metadata": {},
   "outputs": [
    {
     "data": {
      "text/html": [
       "<table style='width: 100%;'><tr><th>Header</th><th>Data Arrays</th></tr><tr><td>\n",
       "<table style='width: 100%;'>\n",
       "<tr><th>PolyData</th><th>Information</th></tr>\n",
       "<tr><td>N Cells</td><td>12465</td></tr>\n",
       "<tr><td>N Points</td><td>6479</td></tr>\n",
       "<tr><td>N Strips</td><td>0</td></tr>\n",
       "<tr><td>X Bounds</td><td>2.787e+04, 6.993e+04</td></tr>\n",
       "<tr><td>Y Bounds</td><td>1.670e+04, 6.522e+04</td></tr>\n",
       "<tr><td>Z Bounds</td><td>1.284e+04, 5.690e+04</td></tr>\n",
       "<tr><td>N Arrays</td><td>4</td></tr>\n",
       "</table>\n",
       "\n",
       "</td><td>\n",
       "<table style='width: 100%;'>\n",
       "<tr><th>Name</th><th>Field</th><th>Type</th><th>N Comp</th><th>Min</th><th>Max</th></tr>\n",
       "<tr><td>vtkOriginalPointIds</td><td>Points</td><td>int64</td><td>1</td><td>0.000e+00</td><td>6.478e+03</td></tr>\n",
       "<tr><td><b>fibers</b></td><td>Cells</td><td>float32</td><td>3</td><td>-9.911e-01</td><td>9.896e-01</td></tr>\n",
       "<tr><td>anatomical_tags</td><td>Cells</td><td>float32</td><td>1</td><td>0.000e+00</td><td>5.000e+00</td></tr>\n",
       "<tr><td>vtkOriginalCellIds</td><td>Cells</td><td>int64</td><td>1</td><td>0.000e+00</td><td>1.255e+04</td></tr>\n",
       "</table>\n",
       "\n",
       "</td></tr> </table>"
      ],
      "text/plain": [
       "PolyData (0x7f59bc1b9120)\n",
       "  N Cells:    12465\n",
       "  N Points:   6479\n",
       "  N Strips:   0\n",
       "  X Bounds:   2.787e+04, 6.993e+04\n",
       "  Y Bounds:   1.670e+04, 6.522e+04\n",
       "  Z Bounds:   1.284e+04, 5.690e+04\n",
       "  N Arrays:   4"
      ]
     },
     "execution_count": 39,
     "metadata": {},
     "output_type": "execute_result"
    }
   ],
   "source": [
    "coarse_mesh = pm.coarsen_mesh(triangular_mesh, decimation_factor=0.8)\n",
    "coarse_mesh = pm.fix_feature_tags_after_interpolation(coarse_mesh, extraction_threshold=0.5)\n",
    "coarse_mesh = pm.smoothen_feature_boundaries(coarse_mesh)\n",
    "coarse_mesh = pm.fix_feature_tags_after_interpolation(coarse_mesh, extraction_threshold=0.5)\n",
    "coarse_mesh = pm.remove_boundary_spikes(coarse_mesh)\n",
    "coarse_mesh = pm.remove_feature_boundary_spikes(coarse_mesh)\n",
    "coarse_mesh"
   ]
  },
  {
   "cell_type": "code",
   "execution_count": 40,
   "id": "e79b9ea9",
   "metadata": {},
   "outputs": [],
   "source": [
    "outfile_name.parent.mkdir(parents=True, exist_ok=True)\n",
    "pv.save_meshio(outfile_name, coarse_mesh)"
   ]
  },
  {
   "cell_type": "code",
   "execution_count": 41,
   "id": "585904f3",
   "metadata": {},
   "outputs": [
    {
     "data": {
      "application/vnd.jupyter.widget-view+json": {
       "model_id": "4e7e1477a41d47ff956420e5a721ed24",
       "version_major": 2,
       "version_minor": 0
      },
      "text/plain": [
       "Widget(value='<iframe src=\"http://localhost:37477/index.html?ui=P_0x7f5a4813a990_12&reconnect=auto\" class=\"pyv…"
      ]
     },
     "metadata": {},
     "output_type": "display_data"
    }
   ],
   "source": [
    "plotter = pv.Plotter(window_size=[900, 900])\n",
    "plotter.add_mesh(\n",
    "    coarse_mesh,\n",
    "    show_edges=True,\n",
    "    scalars=\"anatomical_tags\",\n",
    "    cmap=\"tab20\",\n",
    "    show_scalar_bar=False,\n",
    "    edge_color=\"lightgray\",\n",
    "    edge_opacity=0.3,\n",
    ")\n",
    "plotter.show()"
   ]
  }
 ],
 "metadata": {
  "kernelspec": {
   "display_name": "default",
   "language": "python",
   "name": "python3"
  },
  "language_info": {
   "codemirror_mode": {
    "name": "ipython",
    "version": 3
   },
   "file_extension": ".py",
   "mimetype": "text/x-python",
   "name": "python",
   "nbconvert_exporter": "python",
   "pygments_lexer": "ipython3",
   "version": "3.13.7"
  }
 },
 "nbformat": 4,
 "nbformat_minor": 5
}
