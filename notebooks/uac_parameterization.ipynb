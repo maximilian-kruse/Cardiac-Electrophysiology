{
 "cells": [
  {
   "cell_type": "code",
   "execution_count": 1,
   "id": "27ca10fc",
   "metadata": {},
   "outputs": [],
   "source": [
    "import pickle\n",
    "from pathlib import Path\n",
    "\n",
    "import matplotlib.pyplot as plt\n",
    "import numpy as np\n",
    "import pyvista as pv\n",
    "import seaborn as sns\n",
    "\n",
    "from cardiac_electrophysiology.ulac import parameterization, preprocessing"
   ]
  },
  {
   "cell_type": "code",
   "execution_count": 2,
   "id": "f65c2dc2",
   "metadata": {},
   "outputs": [],
   "source": [
    "patient_id = \"01\"\n",
    "infile_name = f\"../data/processed/patient_{patient_id}/mesh_with_fibers_tags.vtk\"\n",
    "\n",
    "vtk_mesh = pv.read(infile_name)\n",
    "triangular_mesh = preprocessing.convert_unstructured_to_polydata_mesh(vtk_mesh)"
   ]
  },
  {
   "cell_type": "code",
   "execution_count": 3,
   "id": "95a78de6",
   "metadata": {},
   "outputs": [],
   "source": [
    "load_file = Path(\"segmentation.pkl\")\n",
    "\n",
    "with load_file.open(\"rb\") as f:\n",
    "    boundary_paths, pv_markers, laa_markers, mv_markers = pickle.load(f)"
   ]
  },
  {
   "cell_type": "code",
   "execution_count": 4,
   "id": "519b3ca0",
   "metadata": {},
   "outputs": [],
   "source": [
    "parameterized_pv_paths = parameterization.parameterize_pv_paths_by_arc_length(\n",
    "    triangular_mesh, boundary_paths, pv_markers\n",
    ")\n",
    "parameterized_laa_path = parameterization.parameterize_laa_path_by_arc_length(\n",
    "    triangular_mesh, boundary_paths, laa_markers\n",
    ")\n",
    "parameterized_mv_path = parameterization.parameterize_mv_path_by_arc_length(\n",
    "    triangular_mesh, boundary_paths, mv_markers\n",
    ")"
   ]
  },
  {
   "cell_type": "code",
   "execution_count": 5,
   "id": "d1fa02a9",
   "metadata": {},
   "outputs": [],
   "source": [
    "alpha_min = 0\n",
    "alpha_max = 1\n",
    "beta_min = 0\n",
    "beta_max = 1\n",
    "\n",
    "alpha_ripv_center = 1 / 3 * (alpha_max - alpha_min) + alpha_min\n",
    "alpha_rspv_center = alpha_ripv_center\n",
    "alpha_lipv_center = 2 / 3 * (alpha_max - alpha_min) + alpha_min\n",
    "alpha_lspv_center = alpha_lipv_center\n",
    "\n",
    "beta_ripv_center = 2 / 3 * (beta_max - beta_min) + beta_min\n",
    "beta_rspv_center = 1 / 3 * (beta_max - beta_min) + beta_min\n",
    "beta_lipv_center = beta_ripv_center\n",
    "beta_lspv_center = beta_rspv_center\n",
    "\n",
    "alpha_laa_center = 5 / 6 * (alpha_max - alpha_min) + alpha_min\n",
    "beta_laa_center = 5 / 6 * (beta_max - beta_min) + beta_min\n",
    "\n",
    "radius_pv_inner = 0.05\n",
    "radius_pv_outer = 0.025\n",
    "radius_laa = 0.05"
   ]
  },
  {
   "cell_type": "code",
   "execution_count": 6,
   "id": "01e8cb2f",
   "metadata": {},
   "outputs": [],
   "source": [
    "def alpha_circular(x, center, radius, start_angle):\n",
    "    angle = start_angle + 2 * np.pi * x\n",
    "    alpha = center + radius * np.cos(angle)\n",
    "    return alpha\n",
    "\n",
    "\n",
    "def beta_circular(x, center, radius, start_angle):\n",
    "    angle = start_angle + 2 * np.pi * x\n",
    "    beta = center + radius * np.sin(angle)\n",
    "    return beta\n",
    "\n",
    "def alpha_mv(x):\n",
    "    alpha = np.zeros(x.size)\n",
    "    first_edge = np.where(x <= 0.25)[0]\n",
    "    second_edge = np.where((x > 0.25) & (x < 0.5))[0]\n",
    "    third_edge = np.where((x >= 0.5) & (x < 0.75))[0]\n",
    "    fourth_edge = np.where(x >= 0.75)[0]\n",
    "    alpha[first_edge] = 4 * x[first_edge]\n",
    "    alpha[second_edge] = 1\n",
    "    alpha[third_edge] = 4 * (0.75 - x[third_edge])\n",
    "    alpha[fourth_edge] = 0\n",
    "    return alpha\n",
    "\n",
    "def beta_mv(x):\n",
    "    beta = np.zeros(x.size)\n",
    "    first_edge = np.where(x < 0.25)[0]\n",
    "    second_edge = np.where((x >= 0.25) & (x < 0.5))[0]\n",
    "    third_edge = np.where((x >= 0.5) & (x < 0.75))[0]\n",
    "    fourth_edge = np.where(x >= 0.75)[0]\n",
    "    beta[first_edge] = 0\n",
    "    beta[second_edge] = 4 * (x[second_edge] - 0.25)\n",
    "    beta[third_edge] = 1\n",
    "    beta[fourth_edge] = 4 * (1 - x[fourth_edge])\n",
    "    return beta"
   ]
  },
  {
   "cell_type": "code",
   "execution_count": 7,
   "id": "6267ede1",
   "metadata": {},
   "outputs": [],
   "source": [
    "alpha_ripv_inner = alpha_circular(\n",
    "    parameterized_pv_paths.RIPV_inner.values, alpha_ripv_center, radius_pv_inner, 3 / 2 * np.pi\n",
    ")\n",
    "alpha_ripv_outer = alpha_circular(\n",
    "    parameterized_pv_paths.RIPV_outer.values, alpha_ripv_center, radius_pv_outer, 3 / 2 * np.pi\n",
    ")\n",
    "alpha_rspv_inner = alpha_circular(\n",
    "    parameterized_pv_paths.RSPV_inner.values, alpha_rspv_center, radius_pv_inner, 0 * np.pi\n",
    ")\n",
    "alpha_rspv_outer = alpha_circular(\n",
    "    parameterized_pv_paths.RSPV_outer.values, alpha_rspv_center, radius_pv_outer, 0 * np.pi\n",
    ")\n",
    "alpha_lipv_inner = alpha_circular(\n",
    "    parameterized_pv_paths.LIPV_inner.values, alpha_lipv_center, radius_pv_inner, 1 * np.pi\n",
    ")\n",
    "alpha_lipv_outer = alpha_circular(\n",
    "    parameterized_pv_paths.LIPV_outer.values, alpha_lipv_center, radius_pv_outer, 1 * np.pi\n",
    ")\n",
    "alpha_lspv_inner = alpha_circular(\n",
    "    parameterized_pv_paths.LSPV_inner.values, alpha_lspv_center, radius_pv_inner, 1 / 2 * np.pi\n",
    ")\n",
    "alpha_lspv_outer = alpha_circular(\n",
    "    parameterized_pv_paths.LSPV_outer.values, alpha_lspv_center, radius_pv_outer, 1 / 2 * np.pi\n",
    ")\n",
    "\n",
    "beta_ripv_inner = beta_circular(\n",
    "    parameterized_pv_paths.RIPV_inner.values, beta_ripv_center, radius_pv_inner, 3 / 2 * np.pi\n",
    ")\n",
    "beta_ripv_outer = beta_circular(\n",
    "    parameterized_pv_paths.RIPV_outer.values, beta_ripv_center, radius_pv_outer, 3 / 2 * np.pi\n",
    ")\n",
    "beta_rspv_inner = beta_circular(\n",
    "    parameterized_pv_paths.RSPV_inner.values, beta_rspv_center, radius_pv_inner, 0 * np.pi\n",
    ")\n",
    "beta_rspv_outer = beta_circular(\n",
    "    parameterized_pv_paths.RSPV_outer.values, beta_rspv_center, radius_pv_outer, 0 * np.pi\n",
    ")\n",
    "beta_lipv_inner = beta_circular(\n",
    "    parameterized_pv_paths.LIPV_inner.values, beta_lipv_center, radius_pv_inner, 1 * np.pi\n",
    ")\n",
    "beta_lipv_outer = beta_circular(\n",
    "    parameterized_pv_paths.LIPV_outer.values, beta_lipv_center, radius_pv_outer, 1 * np.pi\n",
    ")\n",
    "beta_lspv_inner = beta_circular(\n",
    "    parameterized_pv_paths.LSPV_inner.values, beta_lspv_center, radius_pv_inner, 1 / 2 * np.pi\n",
    ")\n",
    "beta_lspv_outer = beta_circular(\n",
    "    parameterized_pv_paths.LSPV_outer.values, beta_lspv_center, radius_pv_outer, 1 / 2 * np.pi\n",
    ")\n",
    "\n",
    "alpha_laa = alpha_circular(\n",
    "    parameterized_laa_path.values, alpha_laa_center, radius_laa, 1 / 3 * np.pi\n",
    ")\n",
    "beta_laa = beta_circular(\n",
    "    parameterized_laa_path.values, beta_laa_center, radius_laa, 1 / 3 * np.pi\n",
    ")\n",
    "\n",
    "alpha_mv = alpha_mv(parameterized_mv_path.values)\n",
    "beta_mv = beta_mv(parameterized_mv_path.values)"
   ]
  },
  {
   "cell_type": "code",
   "execution_count": 8,
   "id": "73d2f235",
   "metadata": {},
   "outputs": [
    {
     "data": {
      "text/plain": [
       "Text(0, 0.5, '$\\\\beta$')"
      ]
     },
     "execution_count": 8,
     "metadata": {},
     "output_type": "execute_result"
    },
    {
     "data": {
      "image/png": "[encoded data removed]",
      "text/plain": [
       "<Figure size 600x600 with 1 Axes>"
      ]
     },
     "metadata": {},
     "output_type": "display_data"
    }
   ],
   "source": [
    "_, ax = plt.subplots(figsize=(6, 6), layout=\"constrained\")\n",
    "ax.plot(alpha_ripv_inner, beta_ripv_inner, \"r-\", label=\"RIPV inner\")\n",
    "ax.plot(alpha_ripv_outer, beta_ripv_outer, \"r--\", label=\"RIPV outer\")\n",
    "ax.plot(alpha_rspv_inner, beta_rspv_inner, \"b-\", label=\"RSPV inner\")\n",
    "ax.plot(alpha_rspv_outer, beta_rspv_outer, \"b--\", label=\"RSPV outer\")\n",
    "ax.plot(alpha_lipv_inner, beta_lipv_inner, \"g-\", label=\"LIPV inner\")\n",
    "ax.plot(alpha_lipv_outer, beta_lipv_outer, \"g--\", label=\"LIPV outer\")\n",
    "ax.plot(alpha_lspv_inner, beta_lspv_inner, \"m-\", label=\"LSPV inner\")\n",
    "ax.plot(alpha_lspv_outer, beta_lspv_outer, \"m--\", label=\"LSPV outer\")\n",
    "ax.plot(alpha_laa, beta_laa, \"c-\", label=\"LAA\")\n",
    "ax.plot(alpha_mv, beta_mv, \"y-\", label=\"MV\")\n",
    "ax.set_xlabel(r\"$\\alpha$\")\n",
    "ax.set_ylabel(r\"$\\beta$\")"
   ]
  }
 ],
 "metadata": {
  "kernelspec": {
   "display_name": "default",
   "language": "python",
   "name": "python3"
  },
  "language_info": {
   "codemirror_mode": {
    "name": "ipython",
    "version": 3
   },
   "file_extension": ".py",
   "mimetype": "text/x-python",
   "name": "python",
   "nbconvert_exporter": "python",
   "pygments_lexer": "ipython3",
   "version": "3.13.7"
  }
 },
 "nbformat": 4,
 "nbformat_minor": 5
}
