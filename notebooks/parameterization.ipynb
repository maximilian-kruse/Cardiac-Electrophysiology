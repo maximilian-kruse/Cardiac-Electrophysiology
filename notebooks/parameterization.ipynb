{
 "cells": [
  {
   "cell_type": "code",
   "execution_count": 1,
   "id": "d7d42ba4",
   "metadata": {},
   "outputs": [],
   "source": [
    "import pickle\n",
    "from dataclasses import fields\n",
    "from pathlib import Path\n",
    "\n",
    "import igl\n",
    "import numpy as np\n",
    "import pyvista as pv\n",
    "\n",
    "from cardiac_electrophysiology import mesh_processing as mp\n",
    "from cardiac_electrophysiology.ulac import parameterization as par"
   ]
  },
  {
   "cell_type": "code",
   "execution_count": 2,
   "id": "e1acb81b",
   "metadata": {},
   "outputs": [],
   "source": [
    "patient_id = \"01\"\n",
    "input_mesh_file = Path(f\"../data/processed/patient_{patient_id}/mesh_with_fibers_tags.vtk\")\n",
    "segmentation_file_name = Path(f\"../data/processed/patient_{patient_id}/segmentation.pkl\")\n",
    "\n",
    "mesh = pv.read(input_mesh_file)\n",
    "mesh = mp.convert_unstructured_to_polydata_mesh(mesh)\n",
    "\n",
    "with segmentation_file_name.open(\"rb\") as f:\n",
    "    objects_to_load = pickle.load(f)\n",
    "boundary_paths, connection_paths, markers, parameterized_paths = objects_to_load"
   ]
  },
  {
   "cell_type": "code",
   "execution_count": 3,
   "id": "b363d2c9",
   "metadata": {},
   "outputs": [],
   "source": [
    "uac_config = par.UACConfig(\n",
    "    alpha_min=0,\n",
    "    alpha_max=1,\n",
    "    beta_min=0,\n",
    "    beta_max=1,\n",
    "    radius_pv_inner=0.1,\n",
    "    radius_pv_outer=0.05,\n",
    "    radius_laa=0.1,\n",
    ")\n",
    "\n",
    "uac_specs = par.get_uac_specs(uac_config)\n",
    "uac_paths = par.compute_uac_paths(parameterized_paths, uac_specs)"
   ]
  },
  {
   "cell_type": "code",
   "execution_count": 4,
   "id": "e5894242",
   "metadata": {},
   "outputs": [
    {
     "data": {
      "application/vnd.jupyter.widget-view+json": {
       "model_id": "b3d9bf7a75464ed296e209f31b50e841",
       "version_major": 2,
       "version_minor": 0
      },
      "text/plain": [
       "Widget(value='<iframe src=\"http://localhost:37067/index.html?ui=P_0x7fb62b0cfa10_0&reconnect=auto\" class=\"pyvi…"
      ]
     },
     "metadata": {},
     "output_type": "display_data"
    }
   ],
   "source": [
    "uac_to_visualize = \"beta\"\n",
    "\n",
    "plotter = pv.Plotter(window_size=[900, 900])\n",
    "plotter.add_mesh(\n",
    "    mesh,\n",
    "    color=\"lightgrey\",\n",
    "    show_edges=True,\n",
    "    edge_opacity=0.3,\n",
    ")\n",
    "for uac_path_field in fields(uac_paths):\n",
    "    uac_path = getattr(uac_paths, uac_path_field.name)\n",
    "    uac_path_mesh = pv.PolyData(mesh.points[uac_path.inds])\n",
    "    uac_path_mesh.point_data[\"alpha\"] = uac_path.alpha\n",
    "    uac_path_mesh.point_data[\"beta\"] = uac_path.beta\n",
    "    plotter.add_points(\n",
    "        uac_path_mesh,\n",
    "        scalars=uac_to_visualize,\n",
    "        point_size=5,\n",
    "        render_points_as_spheres=True,\n",
    "    )\n",
    "plotter.show()"
   ]
  },
  {
   "cell_type": "code",
   "execution_count": 17,
   "id": "0cda211b",
   "metadata": {},
   "outputs": [],
   "source": [
    "vertices = mesh.points\n",
    "simplices = mesh.faces.reshape(-1, 4)[:, 1:4]\n",
    "boundary_inds, boundary_vals = par.extract_boundary_data(uac_paths.MV)\n",
    "harmonic_mapping = igl.harmonic(vertices, simplices, boundary_inds, boundary_vals, 1)\n",
    "harmonic_mapping = np.hstack([harmonic_mapping, np.zeros((vertices.shape[0], 1))])\n",
    "harmonic_mesh = pv.PolyData.from_regular_faces(harmonic_mapping, simplices)"
   ]
  },
  {
   "cell_type": "code",
   "execution_count": 6,
   "id": "17a31ae9",
   "metadata": {},
   "outputs": [
    {
     "data": {
      "application/vnd.jupyter.widget-view+json": {
       "model_id": "457ea9c7fa1940248228bf6943a90ca4",
       "version_major": 2,
       "version_minor": 0
      },
      "text/plain": [
       "Widget(value='<iframe src=\"http://localhost:37067/index.html?ui=P_0x7fb618dad090_1&reconnect=auto\" class=\"pyvi…"
      ]
     },
     "metadata": {},
     "output_type": "display_data"
    }
   ],
   "source": [
    "plotter = pv.Plotter(window_size=[800, 800])\n",
    "plotter.add_mesh(\n",
    "    harmonic_mesh,\n",
    "    color=\"lightgrey\",\n",
    "    style=\"wireframe\",\n",
    ")\n",
    "plotter.view_xy()\n",
    "plotter.show()"
   ]
  },
  {
   "cell_type": "code",
   "execution_count": 20,
   "id": "9f4d2d52",
   "metadata": {},
   "outputs": [],
   "source": [
    "new_boundary_inds, new_boundary_vals = par.extract_boundary_data(\n",
    "    uac_paths.MV,\n",
    "    uac_paths.LIPV_outer,\n",
    "    uac_paths.LSPV_outer,\n",
    "    uac_paths.RIPV_outer,\n",
    "    uac_paths.RSPV_outer,\n",
    ")\n",
    "\n",
    "slim_data = igl.slim_precompute(\n",
    "    V=np.array(harmonic_mesh.points),\n",
    "    F=harmonic_mesh.faces.reshape(-1, 4)[:, 1:],\n",
    "    V_init=np.array(harmonic_mesh.points)[:, :2],\n",
    "    slim_energy=igl.MappingEnergyType.CONFORMAL,\n",
    "    b=new_boundary_inds,\n",
    "    bc=new_boundary_vals,\n",
    "    soft_p=1e5,\n",
    ")\n",
    "slim_mapping = igl.slim_solve(data=slim_data, iter_num=10)"
   ]
  },
  {
   "cell_type": "code",
   "execution_count": 21,
   "id": "bb30152e",
   "metadata": {},
   "outputs": [
    {
     "data": {
      "application/vnd.jupyter.widget-view+json": {
       "model_id": "e72eef490e4448d391e44d148e6ef1a1",
       "version_major": 2,
       "version_minor": 0
      },
      "text/plain": [
       "Widget(value='<iframe src=\"http://localhost:37067/index.html?ui=P_0x7fb618daf110_6&reconnect=auto\" class=\"pyvi…"
      ]
     },
     "metadata": {},
     "output_type": "display_data"
    }
   ],
   "source": [
    "slim_mapping = np.hstack([slim_mapping, np.zeros((vertices.shape[0], 1))])\n",
    "slim_mesh = pv.PolyData.from_regular_faces(slim_mapping, simplices)\n",
    "\n",
    "plotter = pv.Plotter(window_size=[800, 800])\n",
    "plotter.add_mesh(\n",
    "    slim_mesh,\n",
    "    color=\"lightgrey\",\n",
    "    style=\"wireframe\",\n",
    ")\n",
    "plotter.view_xy()\n",
    "plotter.show()"
   ]
  }
 ],
 "metadata": {
  "kernelspec": {
   "display_name": "default",
   "language": "python",
   "name": "python3"
  },
  "language_info": {
   "codemirror_mode": {
    "name": "ipython",
    "version": 3
   },
   "file_extension": ".py",
   "mimetype": "text/x-python",
   "name": "python",
   "nbconvert_exporter": "python",
   "pygments_lexer": "ipython3",
   "version": "3.13.7"
  }
 },
 "nbformat": 4,
 "nbformat_minor": 5
}
