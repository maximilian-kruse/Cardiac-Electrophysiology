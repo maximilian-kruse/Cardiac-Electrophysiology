{
 "cells": [
  {
   "cell_type": "markdown",
   "id": "84a6519e",
   "metadata": {},
   "source": [
    "# Convert VTK to XDMF"
   ]
  },
  {
   "cell_type": "code",
   "execution_count": null,
   "id": "84926eba",
   "metadata": {},
   "outputs": [],
   "source": [
    "import pyvista as pv\n",
    "import dolfinx as dlx\n",
    "from mpi4py import MPI\n",
    "\n",
    "\n",
    "patient_id = \"patient_01\"\n",
    "infile_name = f\"../data/{patient_id}/mesh_with_uacs_fibers_tags.vtk\"\n",
    "outfile_name = f\"../data/{patient_id}/mesh_dolfinx.xdmf\"\n",
    "mpi_communicator = MPI.COMM_WORLD\n",
    "\n",
    "vtk_mesh = pv.read(infile_name)\n",
    "vtk_mesh.cell_data.clear()\n",
    "vtk_mesh.point_data.clear()\n",
    "pv.save_meshio(outfile_name, vtk_mesh)\n",
    "\n",
    "dolfinx_mesh = dlx.io.XDMFFile(mpi_communicator, outfile_name, \"r\").read_mesh(name=\"Grid\")"
   ]
  },
  {
   "cell_type": "markdown",
   "id": "a572e9fb",
   "metadata": {},
   "source": [
    "# Coarsen Mesh"
   ]
  },
  {
   "cell_type": "code",
   "execution_count": 5,
   "id": "e377285a",
   "metadata": {},
   "outputs": [],
   "source": [
    "import pyvista as pv\n",
    "\n",
    "\n",
    "patient_id = \"patient_01\"\n",
    "infile_name = f\"../data/{patient_id}/mesh_with_uacs_fibers_tags.vtk\"\n",
    "outfile_name = f\"../data/{patient_id}/mesh_coarse_with_uacs_tags.vtk\"\n",
    "decimation_fraction = 0.8\n",
    "\n",
    "vtk_mesh = pv.read(infile_name)\n",
    "points = vtk_mesh.points\n",
    "simplices = vtk_mesh.cells.reshape(-1, 4)[:, 1:]\n",
    "alpha_values = vtk_mesh.point_data[\"alpha\"]\n",
    "beta_values = vtk_mesh.point_data[\"beta\"]\n",
    "triangular_mesh = pv.PolyData.from_regular_faces(points, simplices)\n",
    "triangular_mesh.point_data[\"alpha\"] = alpha_values\n",
    "triangular_mesh.point_data[\"beta\"] = beta_values\n",
    "coarse_mesh = triangular_mesh.decimate(\n",
    "    decimation_fraction, enable_all_attribute_error=True, volume_preservation=False\n",
    ")\n",
    "pv.save_meshio(outfile_name, coarse_mesh)"
   ]
  }
 ],
 "metadata": {
  "kernelspec": {
   "display_name": "default",
   "language": "python",
   "name": "python3"
  },
  "language_info": {
   "codemirror_mode": {
    "name": "ipython",
    "version": 3
   },
   "file_extension": ".py",
   "mimetype": "text/x-python",
   "name": "python",
   "nbconvert_exporter": "python",
   "pygments_lexer": "ipython3",
   "version": "3.13.7"
  }
 },
 "nbformat": 4,
 "nbformat_minor": 5
}
