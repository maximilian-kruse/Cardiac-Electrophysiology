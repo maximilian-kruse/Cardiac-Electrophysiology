{
 "cells": [
  {
   "cell_type": "code",
   "execution_count": 2,
   "id": "1658690c",
   "metadata": {},
   "outputs": [
    {
     "data": {
      "text/plain": [
       "[CudaDevice(id=0)]"
      ]
     },
     "execution_count": 2,
     "metadata": {},
     "output_type": "execute_result"
    }
   ],
   "source": [
    "import jax\n",
    "\n",
    "jax.devices()"
   ]
  },
  {
   "cell_type": "code",
   "execution_count": 3,
   "id": "41132454",
   "metadata": {},
   "outputs": [],
   "source": [
    "import dolfinx as dlx\n",
    "import matplotlib.pyplot as plt\n",
    "import numpy as np\n",
    "import seaborn as sns\n",
    "from eikonax import tensorfield\n",
    "from mpi4py import MPI\n",
    "\n",
    "from cardiac_electrophysiology import fiberfield\n",
    "\n",
    "sns.set_theme(style=\"ticks\")"
   ]
  },
  {
   "cell_type": "code",
   "execution_count": null,
   "id": "64a4ce55",
   "metadata": {},
   "outputs": [],
   "source": [
    "mesh = dlx.mesh.create_rectangle(\n",
    "    MPI.COMM_WORLD,\n",
    "    [np.array([0, 0]), np.array([1, 1])],\n",
    "    [2, 2],\n",
    "    dlx.mesh.CellType.triangle,\n",
    ")\n",
    "num_cells = mesh.geometry.dofmap.shape[0]"
   ]
  },
  {
   "cell_type": "code",
   "execution_count": null,
   "id": "9b4f5295",
   "metadata": {},
   "outputs": [],
   "source": [
    "mean_angle_vector = np.full(num_cells, np.pi / 4)\n",
    "mean_parameter_vector = np.arctanh(np.cos(mean_angle_vector))\n",
    "first_basis_vector = np.repeat([[1, 0]], num_cells, axis=0)\n",
    "second_basis_vector = np.repeat([[0, 1]], num_cells, axis=0)\n",
    "longitudinal_velocity_vector = np.full(num_cells, 1)\n",
    "transverse_velocity_vector = np.full(num_cells, 1)"
   ]
  },
  {
   "cell_type": "code",
   "execution_count": null,
   "id": "b399198d",
   "metadata": {},
   "outputs": [],
   "source": [
    "fiber_field = fiberfield.FiberTensor(\n",
    "    dimension=2,\n",
    "    mean_parameter_vector=mean_parameter_vector,\n",
    "    basis_vectors=[first_basis_vector, second_basis_vector],\n",
    "    conduction_velocities=[longitudinal_velocity_vector, transverse_velocity_vector],\n",
    ")"
   ]
  }
 ],
 "metadata": {
  "kernelspec": {
   "display_name": "default",
   "language": "python",
   "name": "python3"
  },
  "language_info": {
   "codemirror_mode": {
    "name": "ipython",
    "version": 3
   },
   "file_extension": ".py",
   "mimetype": "text/x-python",
   "name": "python",
   "nbconvert_exporter": "python",
   "pygments_lexer": "ipython3",
   "version": "3.13.9"
  }
 },
 "nbformat": 4,
 "nbformat_minor": 5
}
