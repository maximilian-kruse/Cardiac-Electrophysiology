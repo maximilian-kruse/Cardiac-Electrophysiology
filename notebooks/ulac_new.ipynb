{
 "cells": [
  {
   "cell_type": "code",
   "execution_count": null,
   "id": "cd6c8562",
   "metadata": {},
   "outputs": [],
   "source": [
    "import pickle\n",
    "from pathlib import Path\n",
    "\n",
    "import numpy as np\n",
    "import pyvista as pv\n",
    "\n",
    "from cardiac_electrophysiology import mesh_processing as mp\n",
    "from cardiac_electrophysiology.ulac import config_new as config\n",
    "from cardiac_electrophysiology.ulac import construction_new as construction\n",
    "from cardiac_electrophysiology.ulac import workflow"
   ]
  },
  {
   "cell_type": "code",
   "execution_count": null,
   "id": "69554d31",
   "metadata": {},
   "outputs": [],
   "source": [
    "patient_id = \"07\"\n",
    "input_mesh_file = Path(f\"../data/processed/patient_{patient_id}/mesh_with_fibers_tags.vtk\")\n",
    "segmentation_file_name = Path(f\"../data/processed/patient_{patient_id}/segmentation.pkl\")\n",
    "anatomical_tags = {\"MV\": 0, \"LAA\": 1, \"LIPV\": 2, \"LSPV\": 3, \"RIPV\": 4, \"RSPV\": 5}\n",
    "\n",
    "mesh = pv.read(input_mesh_file)\n",
    "mesh = mp.convert_unstructured_to_polydata_mesh(mesh)"
   ]
  },
  {
   "cell_type": "code",
   "execution_count": null,
   "id": "c5f0d425",
   "metadata": {},
   "outputs": [],
   "source": [
    "ulac_construction_settings = construction.ULACConstructorSettings(\n",
    "    mesh=mesh,\n",
    "    feature_tags=anatomical_tags,\n",
    "    path_config=config.path_configs,\n",
    "    marker_config=config.marker_configs,\n",
    "    submesh_config=config.submesh_configs,\n",
    "    segmentation_workflow=workflow.workflow,\n",
    ")\n",
    "ulac_constructor = construction.ULACConstructor(ulac_construction_settings)\n",
    "ulac_constructor.construct_segmentation()\n",
    "ulac_constructor.construct_uacs()"
   ]
  },
  {
   "cell_type": "code",
   "execution_count": null,
   "id": "7752a549",
   "metadata": {},
   "outputs": [],
   "source": [
    "marker_data = ulac_constructor.data.marker_data\n",
    "uac_path_data = ulac_constructor.data.uac_path_data\n",
    "marker_key_sequences = list(construction.nested_dict_keys(marker_data))\n",
    "path_key_sequences = list(construction.nested_dict_keys(uac_path_data))\n",
    "\n",
    "plotter = pv.Plotter(shape=(1, 2), window_size=[1000, 500])\n",
    "for i, uac in enumerate([\"alpha\", \"beta\"]):\n",
    "    plotter.subplot(0, i)\n",
    "    plotter.add_mesh(mesh, style=\"wireframe\", color=\"grey\")\n",
    "\n",
    "    for key_sequence in marker_key_sequences:\n",
    "        marker = construction.get_dict_entry(key_sequence, marker_data)\n",
    "        if marker is None:\n",
    "            continue\n",
    "        marker_mesh = pv.PolyData(mesh.points[marker.ind])\n",
    "        plotter.add_mesh(\n",
    "            marker_mesh, color=\"red\", point_size=10, render_points_as_spheres=True\n",
    "        )\n",
    "    for key_sequence in path_key_sequences:\n",
    "        path = construction.get_dict_entry(key_sequence, uac_path_data)\n",
    "        if path is None:\n",
    "            continue\n",
    "        path_mesh = pv.PolyData(mesh.points[path.inds])\n",
    "        path_mesh.point_data[uac] = getattr(path, uac)\n",
    "        plotter.add_mesh(path_mesh, point_size=5, scalars=uac, render_points_as_spheres=True)\n",
    "\n",
    "plotter.show()"
   ]
  },
  {
   "cell_type": "code",
   "execution_count": null,
   "id": "ff0940cd",
   "metadata": {},
   "outputs": [],
   "source": [
    "roof_boundary = ulac_constructor.data.submesh_boundary_data[\"roof\"]\n",
    "\n",
    "plotter = pv.Plotter(window_size=[700, 500])\n",
    "plotter.add_mesh(mesh, style=\"wireframe\", color=\"grey\")\n",
    "roof_boundary_mesh = pv.PolyData(mesh.points[roof_boundary.inds])\n",
    "roof_boundary_mesh.point_data[\"alpha\"] = roof_boundary.alpha\n",
    "roof_boundary_mesh.point_data[\"beta\"] = roof_boundary.beta\n",
    "plotter.add_mesh(\n",
    "    roof_boundary_mesh, point_size=5, scalars=\"beta\", render_points_as_spheres=True\n",
    ")\n",
    "plotter.show()"
   ]
  },
  {
   "cell_type": "code",
   "execution_count": null,
   "id": "5c1367cd",
   "metadata": {},
   "outputs": [],
   "source": [
    "mesh_points_without_boundary = np.setdiff1d(\n",
    "    np.arange(mesh.number_of_points), roof_boundary.inds\n",
    ")\n",
    "mesh_without_boundary = mesh.extract_points(mesh_points_without_boundary, adjacent_cells=False)\n",
    "splitted_meshes = mesh_without_boundary.split_bodies()\n",
    "np.where(splitted_meshes[1].point_data[\"vtkOriginalPointIds\"] == outside_inds[0])[0]\n",
    "roof_mesh_inds = splitted_meshes[1].point_data[\"vtkOriginalPointIds\"]\n",
    "outside_inds = ulac_constructor.data.raw_path_data[\"MV\"]\n",
    "seed_ind = roof_mesh_inds[0]"
   ]
  }
 ],
 "metadata": {
  "kernelspec": {
   "display_name": "default",
   "language": "python",
   "name": "python3"
  },
  "language_info": {
   "codemirror_mode": {
    "name": "ipython",
    "version": 3
   },
   "file_extension": ".py",
   "mimetype": "text/x-python",
   "name": "python",
   "nbconvert_exporter": "python",
   "pygments_lexer": "ipython3",
   "version": "3.13.7"
  }
 },
 "nbformat": 4,
 "nbformat_minor": 5
}
