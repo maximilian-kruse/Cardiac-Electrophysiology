{
 "cells": [
  {
   "cell_type": "code",
   "execution_count": null,
   "id": "aed7d5e1",
   "metadata": {},
   "outputs": [],
   "source": [
    "import dolfinx as dlx\n",
    "import matplotlib.pyplot as plt\n",
    "import numpy as np\n",
    "import seaborn as sns\n",
    "from ls_prior import builder\n",
    "from mpi4py import MPI\n",
    "\n",
    "from cardiac_electrophysiology import data_processing as dp\n",
    "\n",
    "sns.set_theme(style=\"ticks\")"
   ]
  },
  {
   "cell_type": "code",
   "execution_count": null,
   "id": "557934cc",
   "metadata": {},
   "outputs": [],
   "source": [
    "mesh = dlx.mesh.create_rectangle(\n",
    "    MPI.COMM_WORLD,\n",
    "    [np.array([0, 0]), np.array([1, 1])],\n",
    "    [100, 100],\n",
    "    dlx.mesh.CellType.triangle,\n",
    ")\n",
    "vertices = mesh.geometry.x\n",
    "simplices = mesh.geometry.dofmap\n",
    "simplex_to_vertex_matrix = dp.assemble_simplex_to_vertex_interpolation_matrix(simplices)\n",
    "\n",
    "mean_angle_vector = np.full(simplices.shape[0], np.pi / 4)\n",
    "mean_angle_vector = simplex_to_vertex_matrix @ mean_angle_vector\n",
    "mean_parameter_vector = np.arctanh(np.cos(mean_angle_vector + np.pi / 2))"
   ]
  },
  {
   "cell_type": "code",
   "execution_count": null,
   "id": "c2d7d2a4",
   "metadata": {},
   "outputs": [],
   "source": [
    "prior_settings = builder.BilaplacianPriorSettings(\n",
    "    mesh=mesh,\n",
    "    mean_vector=mean_parameter_vector,\n",
    "    kappa=50,\n",
    "    tau=0.05,\n",
    ")\n",
    "\n",
    "prior_builder = builder.BilaplacianPriorBuilder(prior_settings)\n",
    "bilaplace_prior = prior_builder.build()"
   ]
  },
  {
   "cell_type": "code",
   "execution_count": null,
   "id": "189d357b",
   "metadata": {},
   "outputs": [],
   "source": [
    "num_samples = 1000\n",
    "angle_samples = []\n",
    "for _ in range(num_samples):\n",
    "    parameter_sample = bilaplace_prior.generate_sample()\n",
    "    centered_parameter_sample = parameter_sample - mean_parameter_vector\n",
    "    angle_sample = np.arccos(np.tanh(centered_parameter_sample)) + mean_angle_vector - np.pi / 2\n",
    "    angle_samples.append(angle_sample)\n",
    "\n",
    "angle_samples = np.array(angle_samples).T\n",
    "angle_mean, angle_variance = dp.compute_axial_mean_and_variance(angle_samples, axis=1)"
   ]
  },
  {
   "cell_type": "code",
   "execution_count": null,
   "id": "716bb8d4",
   "metadata": {},
   "outputs": [],
   "source": [
    "parameter_sample = bilaplace_prior.generate_sample()\n",
    "centered_parameter_sample = parameter_sample - mean_parameter_vector\n",
    "angle_sample = np.arccos(np.tanh(centered_parameter_sample)) + mean_angle_vector - np.pi / 2\n",
    "\n",
    "fig, axs = plt.subplots(nrows=1, ncols=3, figsize=(18, 5), layout=\"constrained\")\n",
    "contour_plot = axs[0].tricontourf(\n",
    "    vertices[:, 0], vertices[:, 1], np.degrees(angle_sample), levels=20, cmap=\"Blues\"\n",
    ")\n",
    "plt.colorbar(contour_plot, ax=axs[0])\n",
    "contour_plot = axs[1].tricontourf(\n",
    "    vertices[:, 0], vertices[:, 1], np.degrees(angle_mean), levels=20, cmap=\"Blues\"\n",
    ")\n",
    "plt.colorbar(contour_plot, ax=axs[1])\n",
    "contour_plot = axs[2].tricontourf(\n",
    "    vertices[:, 0], vertices[:, 1], np.degrees(angle_variance), levels=20, cmap=\"Blues\"\n",
    ")\n",
    "plt.colorbar(contour_plot, ax=axs[2])\n",
    "axs[0].set_title(\"Sample from Bilaplacian Prior\")\n",
    "axs[1].set_title(\"Mean of Samples\")\n",
    "axs[2].set_title(\"Variance of Samples\")\n",
    "plt.show()"
   ]
  },
  {
   "cell_type": "code",
   "execution_count": null,
   "id": "47518d0b",
   "metadata": {},
   "outputs": [],
   "source": [
    "test_point = 200\n",
    "point_samples = angle_samples[test_point, :]\n",
    "\n",
    "fig, ax = plt.subplots(figsize=(5, 5), layout=\"constrained\")\n",
    "_ = ax.hist(np.degrees(point_samples), bins=15, density=True)\n",
    "ax.set_xlabel(r\"$\\alpha$\")\n",
    "ax.set_ylabel(\"Density\")"
   ]
  }
 ],
 "metadata": {
  "kernelspec": {
   "display_name": "default",
   "language": "python",
   "name": "python3"
  },
  "language_info": {
   "codemirror_mode": {
    "name": "ipython",
    "version": 3
   },
   "file_extension": ".py",
   "mimetype": "text/x-python",
   "name": "python",
   "nbconvert_exporter": "python",
   "pygments_lexer": "ipython3",
   "version": "3.13.9"
  }
 },
 "nbformat": 4,
 "nbformat_minor": 5
}
