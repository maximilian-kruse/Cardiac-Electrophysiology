{
 "cells": [
  {
   "cell_type": "code",
   "execution_count": null,
   "id": "620c2f82",
   "metadata": {},
   "outputs": [],
   "source": [
    "import dolfinx as dlx\n",
    "import matplotlib.pyplot as plt\n",
    "import numpy as np\n",
    "import seaborn as sns\n",
    "from eikonax import tensorfield\n",
    "from mpi4py import MPI\n",
    "\n",
    "from cardiac_electrophysiology import fiberfield\n",
    "\n",
    "sns.set_theme(style=\"ticks\")"
   ]
  },
  {
   "cell_type": "code",
   "execution_count": null,
   "id": "84abfd4a",
   "metadata": {},
   "outputs": [],
   "source": [
    "def compute_forward_transform(parameter_vector):\n",
    "    angle_vector = np.arccos(np.tanh(parameter_vector))\n",
    "    return angle_vector\n",
    "\n",
    "\n",
    "def compute_inverse_transform(angle_vector):\n",
    "    tolerance = 1e-6\n",
    "    angle_vector = np.clip(angle_vector, tolerance, 2 * np.pi - tolerance)\n",
    "    parameter_vector = np.arctanh(np.cos(angle_vector))\n",
    "    return parameter_vector"
   ]
  },
  {
   "cell_type": "code",
   "execution_count": null,
   "id": "9270b788",
   "metadata": {},
   "outputs": [],
   "source": [
    "mean_parameter_values = np.linspace(-10, 10, 1000)\n",
    "mean_angle_values = np.linspace(0, np.pi, 1000)\n",
    "transformed_parameter_values = compute_forward_transform(mean_parameter_values)\n",
    "transformed_angle_values = compute_forward_transform(mean_angle_values)\n",
    "\n",
    "fig, axs = plt.subplots(nrows=1, ncols=2, figsize=(10, 5), layout=\"constrained\")\n",
    "axs[0].set_title(\"Forward Transformation\")\n",
    "axs[0].plot(mean_parameter_values, transformed_parameter_values)\n",
    "axs[0].set_xlabel(r\"$m$\")\n",
    "axs[0].set_ylabel(r\"$\\alpha$\")\n",
    "axs[1].set_title(\"Inverse Transformation\")\n",
    "axs[1].plot(transformed_parameter_values, mean_parameter_values)\n",
    "axs[1].set_xlabel(r\"$\\alpha$\")\n",
    "axs[1].set_ylabel(r\"$m$\")"
   ]
  },
  {
   "cell_type": "code",
   "execution_count": null,
   "id": "ad9d3a20",
   "metadata": {},
   "outputs": [],
   "source": [
    "angle_mean = np.pi / 4\n",
    "angle_var = np.pi / 100\n",
    "\n",
    "rng = np.random.default_rng(seed=42)\n",
    "angle_samples = rng.normal(loc=angle_mean, scale=np.sqrt(angle_var), size=10000)\n",
    "\n",
    "centered_angle_samples = angle_samples - angle_mean + np.pi / 2\n",
    "centered_parameter_samples = compute_inverse_transform(centered_angle_samples)\n",
    "parameter_mean = compute_inverse_transform(angle_mean)\n",
    "parameter_samples = centered_parameter_samples + parameter_mean\n",
    "\n",
    "parameter_variance = np.var(parameter_samples)\n",
    "new_parameter_samples = rng.normal(\n",
    "    loc=parameter_mean, scale=np.sqrt(parameter_variance), size=10000\n",
    ")\n",
    "new_centered_parameter_samples = new_parameter_samples - parameter_mean\n",
    "reconstructed_angle_samples = compute_forward_transform(new_centered_parameter_samples)\n",
    "angle_mean = compute_forward_transform(parameter_mean)\n",
    "reconstructed_angle_samples = reconstructed_angle_samples + angle_mean - np.pi / 2\n",
    "\n",
    "fig, axs = plt.subplots(nrows=1, ncols=2, figsize=(10, 5), layout=\"constrained\")\n",
    "_ = axs[0].hist(angle_samples, bins=20, density=True)\n",
    "axs[0].set_title(\"Original Angle Samples\")\n",
    "axs[0].set_xlabel(r\"$\\alpha$\")\n",
    "axs[0].set_ylabel(\"Density\")\n",
    "\n",
    "_ = axs[1].hist(reconstructed_angle_samples, bins=20, density=True)\n",
    "axs[1].set_title(\"Reconstructed Angle Samples\")\n",
    "axs[1].set_xlabel(r\"$\\alpha$\")\n",
    "axs[1].set_ylabel(\"Density\")"
   ]
  },
  {
   "cell_type": "code",
   "execution_count": 15,
   "id": "0569b72c",
   "metadata": {},
   "outputs": [
    {
     "data": {
      "text/plain": [
       "Text(0, 0.5, 'Density')"
      ]
     },
     "execution_count": 15,
     "metadata": {},
     "output_type": "execute_result"
    },
    {
     "data": {
      "image/png": "[encoded data removed]",
      "text/plain": [
       "<Figure size 500x500 with 1 Axes>"
      ]
     },
     "metadata": {},
     "output_type": "display_data"
    }
   ],
   "source": [
    "def transform_parameter_to_angle(parameter):\n",
    "    angle = 1 /2 * np.atan2(np.sin(2 * parameter), np.cos(2 * parameter))\n",
    "    return angle\n",
    "\n",
    "rng = np.random.default_rng(seed=42)\n",
    "parameter_samples = rng.normal(loc=0, scale=np.pi/10, size=10000)\n",
    "angle_samples = transform_parameter_to_angle(parameter_samples)\n",
    "\n",
    "fig, ax = plt.subplots(figsize=(5, 5), layout=\"constrained\")\n",
    "_ = ax.hist(angle_samples, bins=20, density=True)\n",
    "ax.set_title(\"Original Angle Samples\")\n",
    "ax.set_xlabel(r\"$\\alpha$\")\n",
    "ax.set_ylabel(\"Density\")"
   ]
  }
 ],
 "metadata": {
  "kernelspec": {
   "display_name": "default",
   "language": "python",
   "name": "python3"
  },
  "language_info": {
   "codemirror_mode": {
    "name": "ipython",
    "version": 3
   },
   "file_extension": ".py",
   "mimetype": "text/x-python",
   "name": "python",
   "nbconvert_exporter": "python",
   "pygments_lexer": "ipython3",
   "version": "3.13.7"
  }
 },
 "nbformat": 4,
 "nbformat_minor": 5
}
