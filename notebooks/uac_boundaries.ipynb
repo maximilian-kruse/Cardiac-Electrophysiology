{
 "cells": [
  {
   "cell_type": "code",
   "execution_count": 1,
   "id": "44ec9390",
   "metadata": {},
   "outputs": [],
   "source": [
    "import numpy as np\n",
    "import preprocess_mesh as pm\n",
    "import pyvista as pv\n",
    "import uac_boundaries as ub"
   ]
  },
  {
   "cell_type": "code",
   "execution_count": 2,
   "id": "3af79122",
   "metadata": {},
   "outputs": [],
   "source": [
    "patient_id = \"01\"\n",
    "infile_name = f\"../data/processed/patient_{patient_id}/mesh_with_fibers_tags.vtk\"\n",
    "anatomical_tags = {\"LAA\": 1, \"LIPV\": 2, \"LSPV\": 3, \"RIPV\": 4, \"RSPV\": 5}\n",
    "\n",
    "vtk_mesh = pv.read(infile_name)\n",
    "triangular_mesh = pm.convert_unstructured_to_polydata_mesh(vtk_mesh)"
   ]
  },
  {
   "cell_type": "code",
   "execution_count": 3,
   "id": "2f513761",
   "metadata": {},
   "outputs": [],
   "source": [
    "inner_boundaries, inner_boundary_global_inds = ub.get_feature_inner_boundaries(\n",
    "    triangular_mesh, anatomical_tags.values()\n",
    ")\n",
    "lipv_lspv_path, ripv_rspv_path, lipv_ripv_path, lspv_rspv_path = ub.compute_roof_frame(\n",
    "    triangular_mesh, anatomical_tags, inner_boundary_global_inds\n",
    ")"
   ]
  },
  {
   "cell_type": "code",
   "execution_count": 4,
   "id": "8e150d43",
   "metadata": {},
   "outputs": [],
   "source": [
    "lipv_boundary = inner_boundaries[1]\n",
    "lipv_start = lipv_boundary.find_closest_point(lipv_lspv_path.points[0])\n",
    "lipv_end = lipv_boundary.find_closest_point(lipv_ripv_path.points[0])\n",
    "lipv_path_one = ub.construct_path_between_boundary_points(\n",
    "    lipv_boundary, lipv_start, lipv_end, direction=[0, 1]\n",
    ")\n",
    "lipv_path_two = ub.construct_path_between_boundary_points(\n",
    "    lipv_boundary, lipv_start, lipv_end, direction=[1, 0]\n",
    ")\n",
    "\n",
    "lspv_boundary = inner_boundaries[2]\n",
    "lspv_start = lspv_boundary.find_closest_point(lipv_lspv_path.points[1])\n",
    "lspv_end = lspv_boundary.find_closest_point(lspv_rspv_path.points[0])\n",
    "lspv_path_one = ub.construct_path_between_boundary_points(\n",
    "    lspv_boundary, lspv_start, lspv_end, direction=[0, 1]\n",
    ")\n",
    "lspv_path_two = ub.construct_path_between_boundary_points(\n",
    "    lspv_boundary, lspv_start, lspv_end, direction=[1, 0]\n",
    ")\n",
    "\n",
    "ripv_boundary = inner_boundaries[3]\n",
    "ripv_start = ripv_boundary.find_closest_point(lipv_ripv_path.points[1])\n",
    "ripv_end = ripv_boundary.find_closest_point(ripv_rspv_path.points[0])\n",
    "ripv_path_one = ub.construct_path_between_boundary_points(\n",
    "    ripv_boundary, ripv_start, ripv_end, direction=[0, 1]\n",
    ")\n",
    "ripv_path_two = ub.construct_path_between_boundary_points(\n",
    "    ripv_boundary, ripv_start, ripv_end, direction=[1, 0]\n",
    ")\n",
    "\n",
    "rspv_boundary = inner_boundaries[4]\n",
    "rspv_start = rspv_boundary.find_closest_point(lspv_rspv_path.points[1])\n",
    "rspv_end = rspv_boundary.find_closest_point(ripv_rspv_path.points[1])\n",
    "rspv_path_one = ub.construct_path_between_boundary_points(\n",
    "    rspv_boundary, rspv_start, rspv_end, direction=[0, 1]\n",
    ")\n",
    "rspv_path_two = ub.construct_path_between_boundary_points(\n",
    "    rspv_boundary, rspv_start, rspv_end, direction=[1, 0]\n",
    ")"
   ]
  },
  {
   "cell_type": "code",
   "execution_count": null,
   "id": "f6fdb51e",
   "metadata": {},
   "outputs": [
    {
     "data": {
      "application/vnd.jupyter.widget-view+json": {
       "model_id": "1916eda15159418cb8e39031284ebb38",
       "version_major": 2,
       "version_minor": 0
      },
      "text/plain": [
       "Widget(value='<iframe src=\"http://localhost:39213/index.html?ui=P_0x7f43fc64f4d0_2&reconnect=auto\" class=\"pyvi…"
      ]
     },
     "metadata": {},
     "output_type": "display_data"
    }
   ],
   "source": [
    "plotter = pv.Plotter(window_size=[900, 900])\n",
    "for path in lipv_lspv_path, ripv_rspv_path, lipv_ripv_path, lspv_rspv_path:\n",
    "    plotter.add_mesh(path, color=\"yellow\", line_width=5, render_lines_as_tubes=True)\n",
    "plotter.add_mesh(triangular_mesh, color=\"lightgray\", show_edges=True, edge_opacity=0.3)\n",
    "for inner_boundary in inner_boundaries:\n",
    "    plotter.add_mesh(inner_boundary, color=\"blue\", line_width=5, render_lines_as_tubes=True)\n",
    "plotter.add_points(\n",
    "    lipv_boundary.points[lipv_path_one], color=\"red\", point_size=10, render_points_as_spheres=True\n",
    ")\n",
    "plotter.add_points(\n",
    "    lipv_boundary.points[lipv_path_two], color=\"red\", point_size=10, render_points_as_spheres=True\n",
    ")\n",
    "plotter.add_points(\n",
    "    lspv_boundary.points[lspv_path_one], color=\"red\", point_size=10, render_points_as_spheres=True\n",
    ")\n",
    "plotter.add_points(\n",
    "    lspv_boundary.points[lspv_path_two], color=\"red\", point_size=10, render_points_as_spheres=True\n",
    ")\n",
    "plotter.add_points(\n",
    "    ripv_boundary.points[ripv_path_one], color=\"red\", point_size=10, render_points_as_spheres=True\n",
    ")\n",
    "plotter.add_points(\n",
    "    ripv_boundary.points[ripv_path_two], color=\"red\", point_size=10, render_points_as_spheres=True\n",
    ")\n",
    "plotter.add_points(\n",
    "    rspv_boundary.points[rspv_path_one], color=\"red\", point_size=10, render_points_as_spheres=True\n",
    ")\n",
    "plotter.add_points(\n",
    "    rspv_boundary.points[rspv_path_two], color=\"red\", point_size=10, render_points_as_spheres=True\n",
    ")\n",
    "plotter.show()"
   ]
  },
  {
   "cell_type": "code",
   "execution_count": null,
   "id": "8f6e8bcd",
   "metadata": {},
   "outputs": [],
   "source": []
  },
  {
   "cell_type": "code",
   "execution_count": null,
   "id": "7a85bd07",
   "metadata": {},
   "outputs": [],
   "source": []
  }
 ],
 "metadata": {
  "kernelspec": {
   "display_name": "default",
   "language": "python",
   "name": "python3"
  },
  "language_info": {
   "codemirror_mode": {
    "name": "ipython",
    "version": 3
   },
   "file_extension": ".py",
   "mimetype": "text/x-python",
   "name": "python",
   "nbconvert_exporter": "python",
   "pygments_lexer": "ipython3",
   "version": "3.13.7"
  }
 },
 "nbformat": 4,
 "nbformat_minor": 5
}
