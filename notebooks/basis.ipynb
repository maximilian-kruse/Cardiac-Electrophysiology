{
 "cells": [
  {
   "cell_type": "code",
   "execution_count": 1,
   "id": "358b5bf1",
   "metadata": {},
   "outputs": [],
   "source": [
    "import pickle\n",
    "from pathlib import Path\n",
    "\n",
    "import igl\n",
    "import numpy as np\n",
    "import pyvista as pv\n",
    "\n",
    "from cardiac_electrophysiology import mesh_processing as mp\n",
    "from cardiac_electrophysiology.ulac import construction as ulac\n"
   ]
  },
  {
   "cell_type": "code",
   "execution_count": 2,
   "id": "5a9872bd",
   "metadata": {},
   "outputs": [],
   "source": [
    "patient_id = \"01\"\n",
    "input_mesh_file = Path(f\"../data/processed/patient_{patient_id}/mesh_with_fibers_tags.vtk\")\n",
    "segmentation_file_name = Path(f\"../data/processed/patient_{patient_id}/segmentation.pkl\")\n",
    "anatomical_tags = {\"MV\": 0, \"LAA\": 1, \"LIPV\": 2, \"LSPV\": 3, \"RIPV\": 4, \"RSPV\": 5}\n",
    "\n",
    "mesh = pv.read(input_mesh_file)\n",
    "mesh = mp.convert_unstructured_to_polydata_mesh(mesh)"
   ]
  },
  {
   "cell_type": "code",
   "execution_count": 5,
   "id": "1b99d836",
   "metadata": {},
   "outputs": [],
   "source": [
    "with segmentation_file_name.open(\"rb\") as f:\n",
    "    segmentation_paths = pickle.load(f)\n",
    "markers = ulac.get_markers(segmentation_paths)\n",
    "parameterized_paths = ulac.parameterize_paths(mesh, segmentation_paths, markers)\n",
    "uac_paths = ulac.construct_uac_paths(parameterized_paths, markers)"
   ]
  },
  {
   "cell_type": "code",
   "execution_count": null,
   "id": "bc1818c6",
   "metadata": {},
   "outputs": [],
   "source": []
  },
  {
   "cell_type": "code",
   "execution_count": 7,
   "id": "ed3489e6",
   "metadata": {},
   "outputs": [
    {
     "data": {
      "application/vnd.jupyter.widget-view+json": {
       "model_id": "435fa9fcc2e940ff937c32dd1f2e464c",
       "version_major": 2,
       "version_minor": 0
      },
      "text/plain": [
       "Widget(value='<iframe src=\"http://localhost:43329/index.html?ui=P_0x7f291bd0ac10_1&reconnect=auto\" class=\"pyvi…"
      ]
     },
     "metadata": {},
     "output_type": "display_data"
    }
   ],
   "source": [
    "plotter = pv.Plotter(window_size=[700, 700])\n",
    "plotter.add_mesh(mesh, style=\"wireframe\", color=\"grey\")\n",
    "point_mesh = pv.PolyData(mesh.points[boundary_inds])\n",
    "point_mesh.point_data[\"alpha\"] = boundary_values[:, 0]\n",
    "point_mesh.point_data[\"beta\"] = boundary_values[:, 1]\n",
    "plotter.add_mesh(point_mesh, scalars=\"alpha\", render_points_as_spheres=True, point_size=10)\n",
    "plotter.show()"
   ]
  },
  {
   "cell_type": "code",
   "execution_count": null,
   "id": "52cf4079",
   "metadata": {},
   "outputs": [],
   "source": [
    "mapping_3d = np.hstack((harmonic_map, np.zeros((harmonic_map.shape[0], 1))))\n",
    "uac_mesh = pv.PolyData(mapping_3d, mesh.faces)\n",
    "\n",
    "plotter = pv.Plotter(window_size=[700, 700])\n",
    "plotter.add_mesh(uac_mesh, style=\"wireframe\", color=\"grey\")\n",
    "plotter.view_xy()\n",
    "plotter.show()"
   ]
  }
 ],
 "metadata": {
  "kernelspec": {
   "display_name": "default",
   "language": "python",
   "name": "python3"
  },
  "language_info": {
   "codemirror_mode": {
    "name": "ipython",
    "version": 3
   },
   "file_extension": ".py",
   "mimetype": "text/x-python",
   "name": "python",
   "nbconvert_exporter": "python",
   "pygments_lexer": "ipython3",
   "version": "3.13.7"
  }
 },
 "nbformat": 4,
 "nbformat_minor": 5
}
