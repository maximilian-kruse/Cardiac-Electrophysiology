{
 "cells": [
  {
   "cell_type": "code",
   "execution_count": 2,
   "id": "161d8374",
   "metadata": {},
   "outputs": [],
   "source": [
    "import numpy as np\n",
    "import pyvista as pv\n",
    "\n",
    "pv.set_jupyter_backend('trame')"
   ]
  },
  {
   "cell_type": "code",
   "execution_count": 13,
   "id": "e946b1b5",
   "metadata": {},
   "outputs": [],
   "source": [
    "patient_id = \"patient_07\"\n",
    "infile_name = f\"../data/{patient_id}/mesh_with_uacs_fibers_tags.vtk\"\n",
    "outfile_name = f\"../data/{patient_id}/mesh_dolfinx.xdmf\"\n",
    "vtk_mesh = pv.read(infile_name)\n",
    "vtk_mesh.cell_data.clear()\n",
    "vtk_mesh.point_data.clear()"
   ]
  },
  {
   "cell_type": "code",
   "execution_count": 14,
   "id": "bf4f333a",
   "metadata": {},
   "outputs": [],
   "source": [
    "pv.save_meshio(outfile_name, vtk_mesh)"
   ]
  },
  {
   "cell_type": "code",
   "execution_count": null,
   "id": "e9867ed1",
   "metadata": {},
   "outputs": [],
   "source": [
    "points = raw_dataset.points\n",
    "simplices = raw_dataset.cells.reshape(-1, 4)[:, 1:]\n",
    "alpha_values = raw_dataset.point_data[\"alpha\"]\n",
    "beta_values = raw_dataset.point_data[\"beta\"]\n",
    "fiber_directions = raw_dataset.cell_data[\"fibers\"]"
   ]
  },
  {
   "cell_type": "code",
   "execution_count": null,
   "id": "b65f2703",
   "metadata": {},
   "outputs": [],
   "source": [
    "num_isolines = 30\n",
    "isoline_width = 3\n",
    "point_size = 5\n",
    "contours_alpha = raw_dataset.contour(isosurfaces=num_isolines, scalars=\"alpha\")\n",
    "contours_beta = raw_dataset.contour(isosurfaces=num_isolines, scalars=\"beta\")\n",
    "points_alpha = pv.PolyData(points)\n",
    "points_beta = pv.PolyData(points)\n",
    "points_alpha.point_data[\"alpha\"] = alpha_values\n",
    "points_beta.point_data[\"beta\"] = beta_values"
   ]
  },
  {
   "cell_type": "code",
   "execution_count": null,
   "id": "83fa7a0e",
   "metadata": {},
   "outputs": [],
   "source": [
    "plotter = pv.Plotter(window_size=[800, 600])\n",
    "plotter.add_mesh(raw_dataset, opacity=1, color=\"lightgray\", show_edges=False)\n",
    "#plotter.add_mesh(contours_alpha, line_width=isoline_width, render_lines_as_tubes=True)\n",
    "#plotter.add_mesh(contours_beta, line_width=isoline_width, render_lines_as_tubes=True)\n",
    "#plotter.add_mesh(points_alpha, point_size=point_size, render_points_as_spheres=True)\n",
    "plotter.add_mesh(points_beta, point_size=point_size, render_points_as_spheres=True)\n",
    "plotter.show()"
   ]
  }
 ],
 "metadata": {
  "kernelspec": {
   "display_name": "default",
   "language": "python",
   "name": "python3"
  },
  "language_info": {
   "codemirror_mode": {
    "name": "ipython",
    "version": 3
   },
   "file_extension": ".py",
   "mimetype": "text/x-python",
   "name": "python",
   "nbconvert_exporter": "python",
   "pygments_lexer": "ipython3",
   "version": "3.13.7"
  }
 },
 "nbformat": 4,
 "nbformat_minor": 5
}
