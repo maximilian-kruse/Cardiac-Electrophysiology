{
 "cells": [
  {
   "cell_type": "code",
   "execution_count": 1,
   "id": "2b66e545",
   "metadata": {},
   "outputs": [],
   "source": [
    "import numpy as np\n",
    "import pyvista as pv"
   ]
  },
  {
   "cell_type": "markdown",
   "id": "4b4ae7b0",
   "metadata": {},
   "source": [
    "# Load Dataset"
   ]
  },
  {
   "cell_type": "code",
   "execution_count": 2,
   "id": "81e62fb6",
   "metadata": {},
   "outputs": [],
   "source": [
    "patient_id = \"patient_01\"\n",
    "infile_name = f\"../data/{patient_id}/mesh_with_uacs_fibers_tags.vtk\""
   ]
  },
  {
   "cell_type": "code",
   "execution_count": 3,
   "id": "fb96aab4",
   "metadata": {},
   "outputs": [
    {
     "ename": "FileNotFoundError",
     "evalue": "File (/home/max/4-Code/cardiac-electrophysiology/data/patient_01/mesh_with_uacs_fibers_tags.vtk) not found",
     "output_type": "error",
     "traceback": [
      "\u001b[31m---------------------------------------------------------------------------\u001b[39m",
      "\u001b[31mFileNotFoundError\u001b[39m                         Traceback (most recent call last)",
      "\u001b[36mCell\u001b[39m\u001b[36m \u001b[39m\u001b[32mIn[3]\u001b[39m\u001b[32m, line 1\u001b[39m\n\u001b[32m----> \u001b[39m\u001b[32m1\u001b[39m vtk_mesh = \u001b[43mpv\u001b[49m\u001b[43m.\u001b[49m\u001b[43mread\u001b[49m\u001b[43m(\u001b[49m\u001b[43minfile_name\u001b[49m\u001b[43m)\u001b[49m\n\u001b[32m      2\u001b[39m points = vtk_mesh.points\n\u001b[32m      3\u001b[39m simplices = vtk_mesh.cells.reshape(-\u001b[32m1\u001b[39m, \u001b[32m4\u001b[39m)[:, \u001b[32m1\u001b[39m:]\n",
      "\u001b[36mFile \u001b[39m\u001b[32m~/4-Code/cardiac-electrophysiology/.pixi/envs/default/lib/python3.13/site-packages/pyvista/_deprecate_positional_args.py:245\u001b[39m, in \u001b[36m_deprecate_positional_args.<locals>._inner_deprecate_positional_args.<locals>.inner_f\u001b[39m\u001b[34m(*args, **kwargs)\u001b[39m\n\u001b[32m    241\u001b[39m             warnings.warn(msg, PyVistaDeprecationWarning, stacklevel=stack_level)\n\u001b[32m    243\u001b[39m         warn_positional_args()\n\u001b[32m--> \u001b[39m\u001b[32m245\u001b[39m \u001b[38;5;28;01mreturn\u001b[39;00m \u001b[43mf\u001b[49m\u001b[43m(\u001b[49m\u001b[43m*\u001b[49m\u001b[43margs\u001b[49m\u001b[43m,\u001b[49m\u001b[43m \u001b[49m\u001b[43m*\u001b[49m\u001b[43m*\u001b[49m\u001b[43mkwargs\u001b[49m\u001b[43m)\u001b[49m\n",
      "\u001b[36mFile \u001b[39m\u001b[32m~/4-Code/cardiac-electrophysiology/.pixi/envs/default/lib/python3.13/site-packages/pyvista/core/utilities/fileio.py:267\u001b[39m, in \u001b[36mread\u001b[39m\u001b[34m(filename, force_ext, file_format, progress_bar)\u001b[39m\n\u001b[32m    265\u001b[39m \u001b[38;5;28;01mif\u001b[39;00m \u001b[38;5;129;01mnot\u001b[39;00m filename.is_file() \u001b[38;5;129;01mand\u001b[39;00m \u001b[38;5;129;01mnot\u001b[39;00m filename.is_dir():\n\u001b[32m    266\u001b[39m     msg = \u001b[33mf\u001b[39m\u001b[33m'\u001b[39m\u001b[33mFile (\u001b[39m\u001b[38;5;132;01m{\u001b[39;00mfilename\u001b[38;5;132;01m}\u001b[39;00m\u001b[33m) not found\u001b[39m\u001b[33m'\u001b[39m\n\u001b[32m--> \u001b[39m\u001b[32m267\u001b[39m     \u001b[38;5;28;01mraise\u001b[39;00m \u001b[38;5;167;01mFileNotFoundError\u001b[39;00m(msg)\n\u001b[32m    269\u001b[39m \u001b[38;5;66;03m# Read file using meshio.read if file_format is present\u001b[39;00m\n\u001b[32m    270\u001b[39m \u001b[38;5;28;01mif\u001b[39;00m file_format:\n",
      "\u001b[31mFileNotFoundError\u001b[39m: File (/home/max/4-Code/cardiac-electrophysiology/data/patient_01/mesh_with_uacs_fibers_tags.vtk) not found"
     ]
    }
   ],
   "source": [
    "vtk_mesh = pv.read(infile_name)\n",
    "points = vtk_mesh.points\n",
    "simplices = vtk_mesh.cells.reshape(-1, 4)[:, 1:]\n",
    "alpha_values = vtk_mesh.point_data[\"alpha\"]\n",
    "beta_values = vtk_mesh.point_data[\"beta\"]\n",
    "fiber_directions = vtk_mesh.cell_data[\"fibers\"]\n",
    "anatomical_tags = vtk_mesh.cell_data[\"anatomical_tags\"]\n",
    "\n",
    "triangular_mesh = pv.PolyData.from_regular_faces(points, simplices)\n",
    "triangular_mesh.point_data[\"alpha\"] = alpha_values\n",
    "triangular_mesh.point_data[\"beta\"] = beta_values\n",
    "triangular_mesh.cell_data[\"fibers\"] = fiber_directions\n",
    "triangular_mesh.cell_data[\"anatomical_tags\"] = anatomical_tags"
   ]
  },
  {
   "cell_type": "markdown",
   "id": "3e2e4fd7",
   "metadata": {},
   "source": [
    "# Visualize UACs"
   ]
  },
  {
   "cell_type": "code",
   "execution_count": null,
   "id": "a8313bea",
   "metadata": {},
   "outputs": [
    {
     "data": {
      "application/vnd.jupyter.widget-view+json": {
       "model_id": "337907a5327343e5b893bff4ac117a48",
       "version_major": 2,
       "version_minor": 0
      },
      "text/plain": [
       "Widget(value='<iframe src=\"http://localhost:33151/index.html?ui=P_0x7f89a4c9e990_11&reconnect=auto\" class=\"pyv…"
      ]
     },
     "metadata": {},
     "output_type": "display_data"
    }
   ],
   "source": [
    "plotter = pv.Plotter(shape=(1, 2), window_size=[1000, 600])\n",
    "plotter.subplot(0, 0)\n",
    "plotter.add_mesh(\n",
    "    triangular_mesh.copy(),\n",
    "    scalars=\"alpha\",\n",
    "    show_edges=True,\n",
    "    edge_color=\"gray\",\n",
    "    edge_opacity=0.5,\n",
    "    cmap=\"CET_R1\",\n",
    "    show_scalar_bar=False,\n",
    ")\n",
    "plotter.subplot(0, 1)\n",
    "plotter.add_mesh(\n",
    "    triangular_mesh.copy(),\n",
    "    scalars=\"beta\",\n",
    "    show_edges=True,\n",
    "    edge_color=\"gray\",\n",
    "    edge_opacity=0.5,\n",
    "    cmap=\"CET_R1\",\n",
    "    show_scalar_bar=False,\n",
    ")\n",
    "plotter.show()"
   ]
  },
  {
   "cell_type": "markdown",
   "id": "52b0c14a",
   "metadata": {},
   "source": [
    "# Extract Boundaries and Adjacent Cells"
   ]
  },
  {
   "cell_type": "code",
   "execution_count": 4,
   "id": "01f5b665",
   "metadata": {},
   "outputs": [
    {
     "ename": "NameError",
     "evalue": "name 'triangular_mesh' is not defined",
     "output_type": "error",
     "traceback": [
      "\u001b[31m---------------------------------------------------------------------------\u001b[39m",
      "\u001b[31mNameError\u001b[39m                                 Traceback (most recent call last)",
      "\u001b[36mCell\u001b[39m\u001b[36m \u001b[39m\u001b[32mIn[4]\u001b[39m\u001b[32m, line 1\u001b[39m\n\u001b[32m----> \u001b[39m\u001b[32m1\u001b[39m beta_half_values = \u001b[43mtriangular_mesh\u001b[49m.extract_values(\n\u001b[32m      2\u001b[39m     scalars=\u001b[33m\"\u001b[39m\u001b[33mbeta\u001b[39m\u001b[33m\"\u001b[39m, values=\u001b[32m0.5\u001b[39m, include_cells=\u001b[38;5;28;01mFalse\u001b[39;00m\n\u001b[32m      3\u001b[39m )\n\u001b[32m      4\u001b[39m beta_half_values_adjacent_cells = triangular_mesh.extract_values(\n\u001b[32m      5\u001b[39m     scalars=\u001b[33m\"\u001b[39m\u001b[33mbeta\u001b[39m\u001b[33m\"\u001b[39m, values=\u001b[32m0.5\u001b[39m\n\u001b[32m      6\u001b[39m )\n\u001b[32m      7\u001b[39m alpha_zero_values = triangular_mesh.extract_values(\n\u001b[32m      8\u001b[39m     scalars=\u001b[33m\"\u001b[39m\u001b[33malpha\u001b[39m\u001b[33m\"\u001b[39m, values=\u001b[32m0.0\u001b[39m, include_cells=\u001b[38;5;28;01mFalse\u001b[39;00m\n\u001b[32m      9\u001b[39m )\n",
      "\u001b[31mNameError\u001b[39m: name 'triangular_mesh' is not defined"
     ]
    }
   ],
   "source": [
    "beta_half_values = triangular_mesh.extract_values(\n",
    "    scalars=\"beta\", values=0.5, include_cells=False\n",
    ")\n",
    "beta_half_values_adjacent_cells = triangular_mesh.extract_values(\n",
    "    scalars=\"beta\", values=0.5\n",
    ")\n",
    "alpha_zero_values = triangular_mesh.extract_values(\n",
    "    scalars=\"alpha\", values=0.0, include_cells=False\n",
    ")\n",
    "alpha_zero_values_adjacent_cells = triangular_mesh.extract_values(\n",
    "    scalars=\"alpha\", values=0.0\n",
    ")\n",
    "alpha_one_values = triangular_mesh.extract_values(\n",
    "    scalars=\"alpha\", values=1.0, include_cells=False\n",
    ")\n",
    "alpha_one_values_adjacent_cells = triangular_mesh.extract_values(\n",
    "    scalars=\"alpha\", values=1.0\n",
    ")\n"
   ]
  },
  {
   "cell_type": "code",
   "execution_count": 5,
   "id": "69f16673",
   "metadata": {},
   "outputs": [
    {
     "ename": "NameError",
     "evalue": "name 'triangular_mesh' is not defined",
     "output_type": "error",
     "traceback": [
      "\u001b[31m---------------------------------------------------------------------------\u001b[39m",
      "\u001b[31mNameError\u001b[39m                                 Traceback (most recent call last)",
      "\u001b[36mCell\u001b[39m\u001b[36m \u001b[39m\u001b[32mIn[5]\u001b[39m\u001b[32m, line 3\u001b[39m\n\u001b[32m      1\u001b[39m plotter = pv.Plotter(window_size=[\u001b[32m900\u001b[39m, \u001b[32m900\u001b[39m])\n\u001b[32m      2\u001b[39m plotter.add_mesh(\n\u001b[32m----> \u001b[39m\u001b[32m3\u001b[39m     \u001b[43mtriangular_mesh\u001b[49m,\n\u001b[32m      4\u001b[39m     show_edges=\u001b[38;5;28;01mTrue\u001b[39;00m,\n\u001b[32m      5\u001b[39m     scalars=\u001b[33m\"\u001b[39m\u001b[33manatomical_tags\u001b[39m\u001b[33m\"\u001b[39m,\n\u001b[32m      6\u001b[39m     cmap=\u001b[33m\"\u001b[39m\u001b[33mtab20\u001b[39m\u001b[33m\"\u001b[39m,\n\u001b[32m      7\u001b[39m     show_scalar_bar=\u001b[38;5;28;01mFalse\u001b[39;00m,\n\u001b[32m      8\u001b[39m     edge_color=\u001b[33m\"\u001b[39m\u001b[33mlightgray\u001b[39m\u001b[33m\"\u001b[39m,\n\u001b[32m      9\u001b[39m     edge_opacity=\u001b[32m0.3\u001b[39m,\n\u001b[32m     10\u001b[39m )\n\u001b[32m     11\u001b[39m plotter.add_mesh(\n\u001b[32m     12\u001b[39m     beta_half_values, color=\u001b[33m\"\u001b[39m\u001b[33mfirebrick\u001b[39m\u001b[33m\"\u001b[39m, point_size=\u001b[32m10\u001b[39m, render_points_as_spheres=\u001b[38;5;28;01mTrue\u001b[39;00m\n\u001b[32m     13\u001b[39m )\n\u001b[32m     14\u001b[39m plotter.add_mesh(\n\u001b[32m     15\u001b[39m     beta_half_values_adjacent_cells,\n\u001b[32m     16\u001b[39m     color=\u001b[33m\"\u001b[39m\u001b[33mfirebrick\u001b[39m\u001b[33m\"\u001b[39m,\n\u001b[32m   (...)\u001b[39m\u001b[32m     20\u001b[39m     line_width=\u001b[32m3\u001b[39m,\n\u001b[32m     21\u001b[39m )\n",
      "\u001b[31mNameError\u001b[39m: name 'triangular_mesh' is not defined"
     ]
    }
   ],
   "source": [
    "plotter = pv.Plotter(window_size=[900, 900])\n",
    "plotter.add_mesh(\n",
    "    triangular_mesh,\n",
    "    show_edges=True,\n",
    "    scalars=\"anatomical_tags\",\n",
    "    cmap=\"tab20\",\n",
    "    show_scalar_bar=False,\n",
    "    edge_color=\"lightgray\",\n",
    "    edge_opacity=0.3,\n",
    ")\n",
    "plotter.add_mesh(\n",
    "    beta_half_values, color=\"firebrick\", point_size=10, render_points_as_spheres=True\n",
    ")\n",
    "plotter.add_mesh(\n",
    "    beta_half_values_adjacent_cells,\n",
    "    color=\"firebrick\",\n",
    "    opacity=0.7,\n",
    "    show_edges=True,\n",
    "    edge_color=\"firebrick\",\n",
    "    line_width=3,\n",
    ")\n",
    "plotter.add_mesh(\n",
    "    alpha_zero_values, color=\"sapgreen\", point_size=10, render_points_as_spheres=True\n",
    ")\n",
    "plotter.add_mesh(\n",
    "    alpha_zero_values_adjacent_cells,\n",
    "    color=\"sapgreen\",\n",
    "    opacity=0.7,\n",
    "    show_edges=True,\n",
    "    edge_color=\"sapgreen\",\n",
    "    line_width=3,\n",
    ")\n",
    "plotter.add_mesh(\n",
    "    alpha_one_values, color=\"cobalt\", point_size=10, render_points_as_spheres=True\n",
    ")\n",
    "plotter.add_mesh(\n",
    "    alpha_one_values_adjacent_cells,\n",
    "    color=\"cobalt\",\n",
    "    opacity=0.7,\n",
    "    show_edges=True,\n",
    "    edge_color=\"cobalt\",\n",
    "    line_width=3,\n",
    ")\n",
    "plotter.show()"
   ]
  },
  {
   "cell_type": "markdown",
   "id": "ee05d6f3",
   "metadata": {},
   "source": [
    "# Extract Actual $\\beta=0.5$ Line and \"Gradient Cells\""
   ]
  },
  {
   "cell_type": "code",
   "execution_count": 7,
   "id": "fa3a4a06",
   "metadata": {},
   "outputs": [],
   "source": [
    "tolerance = 1e-6\n",
    "lower_beta_cells = beta_half_values_adjacent_cells.extract_values(\n",
    "    scalars=\"beta\", ranges=[0, 0.5 - tolerance], adjacent_cells=True\n",
    ")\n",
    "boundary_points_beta = lower_beta_cells.extract_values(\n",
    "    scalars=\"beta\", values=0.5, include_cells=False\n",
    ")"
   ]
  },
  {
   "cell_type": "code",
   "execution_count": 8,
   "id": "68fbdd07",
   "metadata": {},
   "outputs": [
    {
     "data": {
      "application/vnd.jupyter.widget-view+json": {
       "model_id": "0f6369852ede4b828c0fd24c432f1f6f",
       "version_major": 2,
       "version_minor": 0
      },
      "text/plain": [
       "Widget(value='<iframe src=\"http://localhost:33151/index.html?ui=P_0x7f8a03bb3890_2&reconnect=auto\" class=\"pyvi…"
      ]
     },
     "metadata": {},
     "output_type": "display_data"
    }
   ],
   "source": [
    "plotter = pv.Plotter(window_size=[900, 900])\n",
    "plotter.add_mesh(\n",
    "    triangular_mesh,\n",
    "    show_edges=True,\n",
    "    style=\"wireframe\",\n",
    "    color=\"lightgray\",\n",
    "    edge_opacity=1,\n",
    ")\n",
    "plotter.add_mesh(\n",
    "    triangular_mesh,\n",
    "    scalars=\"alpha\",\n",
    "    opacity=1.0,\n",
    "    cmap=\"CET_R1\",\n",
    "    show_scalar_bar=False,\n",
    ")\n",
    "plotter.add_mesh(\n",
    "    lower_beta_cells,\n",
    "    color=\"firebrick\",\n",
    "    opacity=1.0,\n",
    "    show_edges=True,\n",
    "    edge_color=\"firebrick\",\n",
    "    line_width=3,\n",
    ")\n",
    "plotter.add_mesh(\n",
    "    boundary_points_beta,\n",
    "    color=\"firebrick\",\n",
    "    point_size=10,\n",
    "    render_points_as_spheres=True,\n",
    ")\n",
    "plotter.show()"
   ]
  },
  {
   "cell_type": "markdown",
   "id": "88d1cf2a",
   "metadata": {},
   "source": [
    "# Extract $\\alpha = \\{0,1\\}$ Lines and \"Gradient Cells\""
   ]
  },
  {
   "cell_type": "code",
   "execution_count": 9,
   "id": "e20be0c1",
   "metadata": {},
   "outputs": [],
   "source": [
    "alpha_zero_lower_beta_cells = alpha_zero_values_adjacent_cells.extract_values(\n",
    "    scalars=\"beta\", ranges=[0, 0.5 - tolerance], adjacent_cells=True\n",
    ")\n",
    "alpha_one_lower_beta_cells = alpha_one_values_adjacent_cells.extract_values(\n",
    "    scalars=\"beta\", ranges=[0, 0.5 - tolerance], adjacent_cells=True\n",
    ")"
   ]
  },
  {
   "cell_type": "code",
   "execution_count": 10,
   "id": "ad6dd983",
   "metadata": {},
   "outputs": [
    {
     "data": {
      "application/vnd.jupyter.widget-view+json": {
       "model_id": "35ee31f21e9344168e973f546aae2d2d",
       "version_major": 2,
       "version_minor": 0
      },
      "text/plain": [
       "Widget(value='<iframe src=\"http://localhost:33151/index.html?ui=P_0x7f8a03bb39d0_3&reconnect=auto\" class=\"pyvi…"
      ]
     },
     "metadata": {},
     "output_type": "display_data"
    }
   ],
   "source": [
    "plotter = pv.Plotter(window_size=[900, 900])\n",
    "plotter.add_mesh(\n",
    "    triangular_mesh,\n",
    "    show_edges=True,\n",
    "    style=\"wireframe\",\n",
    "    color=\"lightgray\",\n",
    "    edge_opacity=1,\n",
    ")\n",
    "plotter.add_mesh(\n",
    "    triangular_mesh,\n",
    "    scalars=\"beta\",\n",
    "    opacity=1.0,\n",
    "    cmap=\"CET_R1\",\n",
    "    show_scalar_bar=False,\n",
    ")\n",
    "plotter.add_mesh(\n",
    "    alpha_zero_values, color=\"sapgreen\", point_size=10, render_points_as_spheres=True\n",
    ")\n",
    "plotter.add_mesh(\n",
    "    alpha_zero_lower_beta_cells,\n",
    "    color=\"sapgreen\",\n",
    "    opacity=0.7,\n",
    "    show_edges=True,\n",
    "    edge_color=\"sapgreen\",\n",
    "    line_width=3,\n",
    ")\n",
    "plotter.add_mesh(\n",
    "    alpha_one_values, color=\"cobalt\", point_size=10, render_points_as_spheres=True\n",
    ")\n",
    "plotter.add_mesh(\n",
    "    alpha_one_lower_beta_cells,\n",
    "    color=\"cobalt\",\n",
    "    opacity=0.7,\n",
    "    show_edges=True,\n",
    "    edge_color=\"cobalt\",\n",
    "    line_width=3,\n",
    ")\n",
    "plotter.show()"
   ]
  },
  {
   "cell_type": "markdown",
   "id": "b0628d26",
   "metadata": {},
   "source": [
    "# Compare in UAC Domain"
   ]
  },
  {
   "cell_type": "code",
   "execution_count": 11,
   "id": "9a02deec",
   "metadata": {},
   "outputs": [],
   "source": [
    "uac_points_x = triangular_mesh.point_data[\"alpha\"]\n",
    "uac_points_y = triangular_mesh.point_data[\"beta\"]\n",
    "uac_points_z = np.zeros_like(uac_points_x)\n",
    "uac_points = np.column_stack((uac_points_x, uac_points_y, uac_points_z))\n",
    "uac_mesh = pv.PolyData.from_regular_faces(uac_points, simplices)\n",
    "uac_mesh.cell_data[\"anatomical_tags\"] = anatomical_tags"
   ]
  },
  {
   "cell_type": "code",
   "execution_count": 12,
   "id": "3ef1b2c0",
   "metadata": {},
   "outputs": [
    {
     "data": {
      "application/vnd.jupyter.widget-view+json": {
       "model_id": "5ec1e9be76b142e09b9b449ff1e24d39",
       "version_major": 2,
       "version_minor": 0
      },
      "text/plain": [
       "Widget(value='<iframe src=\"http://localhost:33151/index.html?ui=P_0x7f8a0060dd10_4&reconnect=auto\" class=\"pyvi…"
      ]
     },
     "metadata": {},
     "output_type": "display_data"
    }
   ],
   "source": [
    "plotter = pv.Plotter(window_size=[900, 900])\n",
    "plotter.add_mesh(\n",
    "    uac_mesh,\n",
    "    scalars=\"anatomical_tags\",\n",
    "    show_edges=False,\n",
    "    cmap=\"tab10\",\n",
    "    show_scalar_bar=False,\n",
    ")\n",
    "plotter.view_xy()\n",
    "plotter.show()"
   ]
  },
  {
   "cell_type": "code",
   "execution_count": 13,
   "id": "367e6f2a",
   "metadata": {},
   "outputs": [],
   "source": [
    "uac_points_x_lower_beta_cells = lower_beta_cells.point_data[\"alpha\"]\n",
    "uac_points_y_lower_beta_cells = lower_beta_cells.point_data[\"beta\"]\n",
    "uac_points_z_lower_beta_cells = np.zeros_like(uac_points_x_lower_beta_cells)\n",
    "uac_points_lower_beta_cells = np.column_stack(\n",
    "    (\n",
    "        uac_points_x_lower_beta_cells,\n",
    "        uac_points_y_lower_beta_cells,\n",
    "        uac_points_z_lower_beta_cells,\n",
    "    )\n",
    ")\n",
    "uac_mesh_lower_beta_cells = pv.PolyData(uac_points_lower_beta_cells)\n",
    "\n",
    "uac_points_x_alpha_zero_lower_beta_cells = alpha_zero_lower_beta_cells.point_data[\n",
    "    \"alpha\"\n",
    "]\n",
    "uac_points_y_alpha_zero_lower_beta_cells = alpha_zero_lower_beta_cells.point_data[\n",
    "    \"beta\"\n",
    "]\n",
    "uac_points_z_alpha_zero_lower_beta_cells = np.zeros_like(\n",
    "    uac_points_x_alpha_zero_lower_beta_cells\n",
    ")\n",
    "uac_points_alpha_zero_lower_beta_cells = np.column_stack(\n",
    "    (\n",
    "        uac_points_x_alpha_zero_lower_beta_cells,\n",
    "        uac_points_y_alpha_zero_lower_beta_cells,\n",
    "        uac_points_z_alpha_zero_lower_beta_cells,\n",
    "    )\n",
    ")\n",
    "uac_mesh_alpha_zero_lower_beta_cells = pv.PolyData(\n",
    "    uac_points_alpha_zero_lower_beta_cells\n",
    ")\n",
    "\n",
    "uac_points_x_alpha_one_lower_beta_cells = alpha_one_lower_beta_cells.point_data[\"alpha\"]\n",
    "uac_points_y_alpha_one_lower_beta_cells = alpha_one_lower_beta_cells.point_data[\"beta\"]\n",
    "uac_points_z_alpha_one_lower_beta_cells = np.zeros_like(\n",
    "    uac_points_x_alpha_one_lower_beta_cells\n",
    ")\n",
    "uac_points_alpha_one_lower_beta_cells = np.column_stack(\n",
    "    (\n",
    "        uac_points_x_alpha_one_lower_beta_cells,\n",
    "        uac_points_y_alpha_one_lower_beta_cells,\n",
    "        uac_points_z_alpha_one_lower_beta_cells,\n",
    "    )\n",
    ")\n",
    "uac_mesh_alpha_one_lower_beta_cells = pv.PolyData(uac_points_alpha_one_lower_beta_cells)"
   ]
  },
  {
   "cell_type": "code",
   "execution_count": 14,
   "id": "f44ccd03",
   "metadata": {},
   "outputs": [
    {
     "data": {
      "application/vnd.jupyter.widget-view+json": {
       "model_id": "cb5afbd10ceb473fb0191609cfd51fe1",
       "version_major": 2,
       "version_minor": 0
      },
      "text/plain": [
       "Widget(value='<iframe src=\"http://localhost:33151/index.html?ui=P_0x7f8a0060e490_5&reconnect=auto\" class=\"pyvi…"
      ]
     },
     "metadata": {},
     "output_type": "display_data"
    }
   ],
   "source": [
    "plotter = pv.Plotter(window_size=[900, 900])\n",
    "plotter.add_mesh(\n",
    "    uac_mesh,\n",
    "    show_edges=True,\n",
    "    style=\"wireframe\",\n",
    "    color=\"lightgray\",\n",
    "    edge_opacity=1,\n",
    ")\n",
    "plotter.add_mesh(\n",
    "    uac_mesh_lower_beta_cells,\n",
    "    style=\"points\",\n",
    "    color=\"firebrick\",\n",
    "    render_points_as_spheres=True,\n",
    ")\n",
    "plotter.add_mesh(\n",
    "    uac_mesh_alpha_zero_lower_beta_cells,\n",
    "    style=\"points\",\n",
    "    color=\"sapgreen\",\n",
    "    render_points_as_spheres=True,\n",
    ")\n",
    "plotter.add_mesh(\n",
    "    uac_mesh_alpha_one_lower_beta_cells,\n",
    "    style=\"points\",\n",
    "    color=\"cobalt\",\n",
    "    render_points_as_spheres=True,\n",
    ")\n",
    "plotter.view_xy()\n",
    "plotter.show()"
   ]
  },
  {
   "cell_type": "markdown",
   "id": "23fe9bc3",
   "metadata": {},
   "source": [
    "# Extract Ill-Posed Sections from Global Mesh"
   ]
  },
  {
   "cell_type": "code",
   "execution_count": 15,
   "id": "d49872fa",
   "metadata": {},
   "outputs": [],
   "source": [
    "beta_half_cells_to_remove = triangular_mesh.find_containing_cell(\n",
    "    lower_beta_cells.cell_centers().points\n",
    ")\n",
    "alpha_zero_cells_to_remove = triangular_mesh.find_containing_cell(\n",
    "    alpha_zero_lower_beta_cells.cell_centers().points\n",
    ")\n",
    "alpha_one_cells_to_remove = triangular_mesh.find_containing_cell(\n",
    "    alpha_one_lower_beta_cells.cell_centers().points\n",
    ")\n",
    "total_cells_to_remove = np.unique(\n",
    "    np.concatenate(\n",
    "        (beta_half_cells_to_remove, alpha_zero_cells_to_remove, alpha_one_cells_to_remove)\n",
    "    )\n",
    ")\n",
    "pruned_cell_inds = np.setdiff1d(np.arange(triangular_mesh.n_cells), total_cells_to_remove)\n",
    "pruned_simplices = simplices[pruned_cell_inds]\n",
    "pruned_mesh = pv.PolyData.from_regular_faces(points, pruned_simplices)\n",
    "pruned_mesh.point_data[\"alpha\"] = triangular_mesh.point_data[\"alpha\"]\n",
    "pruned_mesh.point_data[\"beta\"] = triangular_mesh.point_data[\"beta\"]\n",
    "\n",
    "uac_points_x_pruned = pruned_mesh.point_data[\"alpha\"]\n",
    "uac_points_y_pruned = pruned_mesh.point_data[\"beta\"]\n",
    "uac_points_z_pruned = np.zeros_like(uac_points_x_pruned)\n",
    "uac_points_pruned = np.column_stack((uac_points_x_pruned, uac_points_y_pruned, uac_points_z_pruned))\n",
    "uac_mesh_pruned = pv.PolyData.from_regular_faces(uac_points_pruned, pruned_mesh.faces.reshape(-1, 4)[:, 1:])"
   ]
  },
  {
   "cell_type": "code",
   "execution_count": 16,
   "id": "31de7433",
   "metadata": {},
   "outputs": [],
   "source": [
    "beta_half_points = beta_half_values_adjacent_cells.extract_values(\n",
    "    scalars=\"beta\", ranges=[0, 0.5 - tolerance], include_cells=False\n",
    ")\n",
    "uac_points_x_beta_half = beta_half_points.point_data[\"alpha\"]\n",
    "uac_points_y_beta_half = beta_half_points.point_data[\"beta\"]\n",
    "uac_points_z_beta_half = np.zeros_like(uac_points_x_beta_half)\n",
    "uac_points_beta_half = np.column_stack(\n",
    "    (\n",
    "        uac_points_x_beta_half,\n",
    "        uac_points_y_beta_half,\n",
    "        uac_points_z_beta_half,\n",
    "    )\n",
    ")\n",
    "uac_mesh_beta_half = pv.PolyData(uac_points_beta_half)\n",
    "\n",
    "\n",
    "alpha_zero_points = alpha_zero_values_adjacent_cells.extract_values(\n",
    "    scalars=\"beta\", ranges=[0, 0.5 - tolerance], include_cells=False\n",
    ")\n",
    "uac_points_x_alpha_zero = alpha_zero_points.point_data[\"alpha\"]\n",
    "uac_points_y_alpha_zero = alpha_zero_points.point_data[\"beta\"]\n",
    "uac_points_z_alpha_zero = np.zeros_like(uac_points_x_alpha_zero)\n",
    "uac_points_alpha_zero = np.column_stack(\n",
    "    (\n",
    "        uac_points_x_alpha_zero,\n",
    "        uac_points_y_alpha_zero,\n",
    "        uac_points_z_alpha_zero,\n",
    "    )\n",
    ")\n",
    "uac_mesh_alpha_zero = pv.PolyData(uac_points_alpha_zero)\n",
    "\n",
    "\n",
    "alpha_one_points = alpha_one_values_adjacent_cells.extract_values(\n",
    "    scalars=\"beta\", ranges=[0, 0.5 - tolerance], include_cells=False\n",
    ")\n",
    "uac_points_x_alpha_one = alpha_one_points.point_data[\"alpha\"]\n",
    "uac_points_y_alpha_one = alpha_one_points.point_data[\"beta\"]\n",
    "uac_points_z_alpha_one = np.zeros_like(uac_points_x_alpha_one)\n",
    "uac_points_alpha_one = np.column_stack(\n",
    "    (\n",
    "        uac_points_x_alpha_one,\n",
    "        uac_points_y_alpha_one,\n",
    "        uac_points_z_alpha_one,\n",
    "    )\n",
    ")\n",
    "uac_mesh_alpha_one = pv.PolyData(uac_points_alpha_one)"
   ]
  },
  {
   "cell_type": "code",
   "execution_count": 17,
   "id": "acf8afbf",
   "metadata": {},
   "outputs": [
    {
     "data": {
      "application/vnd.jupyter.widget-view+json": {
       "model_id": "a7ef2df17eae463081ea046a27e64330",
       "version_major": 2,
       "version_minor": 0
      },
      "text/plain": [
       "Widget(value='<iframe src=\"http://localhost:33151/index.html?ui=P_0x7f8a0060ed50_6&reconnect=auto\" class=\"pyvi…"
      ]
     },
     "metadata": {},
     "output_type": "display_data"
    }
   ],
   "source": [
    "plotter = pv.Plotter(window_size=[900, 900])\n",
    "plotter.add_mesh(\n",
    "    uac_mesh_pruned,\n",
    "    show_edges=True,\n",
    "    style=\"wireframe\",\n",
    "    color=\"lightgray\",\n",
    "    edge_opacity=1,\n",
    ")\n",
    "plotter.add_mesh(\n",
    "    uac_mesh_beta_half,\n",
    "    style=\"points\",\n",
    "    color=\"firebrick\",\n",
    "    opacity=1,\n",
    "    render_points_as_spheres=True,\n",
    ")\n",
    "plotter.add_mesh(\n",
    "    uac_mesh_alpha_zero,\n",
    "    style=\"points\",\n",
    "    color=\"sapgreen\",\n",
    "    opacity=1,\n",
    "    render_points_as_spheres=True,\n",
    ")\n",
    "plotter.add_mesh(\n",
    "    uac_mesh_alpha_one,\n",
    "    style=\"points\",\n",
    "    color=\"cobalt\",\n",
    "    opacity=1,\n",
    "    render_points_as_spheres=True,\n",
    ")\n",
    "plotter.view_xy()\n",
    "plotter.show()"
   ]
  },
  {
   "cell_type": "markdown",
   "id": "334f093c",
   "metadata": {},
   "source": [
    "# Distort Remaining Values to Match Boundary"
   ]
  },
  {
   "cell_type": "code",
   "execution_count": 18,
   "id": "f365efc0",
   "metadata": {},
   "outputs": [],
   "source": [
    "beta_half_point_inds = []\n",
    "for point in uac_mesh_beta_half.points:\n",
    "    point_ind = uac_mesh_pruned.find_closest_point(point)\n",
    "    beta_half_point_inds.append(point_ind)\n",
    "beta_half_point_inds = np.unique(beta_half_point_inds)\n",
    "\n",
    "alpha_zero_point_inds = []\n",
    "for point in uac_mesh_alpha_zero.points:\n",
    "    point_ind = uac_mesh_pruned.find_closest_point(point)\n",
    "    alpha_zero_point_inds.append(point_ind)\n",
    "alpha_zero_point_inds = np.unique(alpha_zero_point_inds)\n",
    "\n",
    "alpha_one_point_inds = []\n",
    "for point in uac_mesh_alpha_one.points:\n",
    "    point_ind = uac_mesh_pruned.find_closest_point(point)\n",
    "    alpha_one_point_inds.append(point_ind)\n",
    "alpha_one_point_inds = np.unique(alpha_one_point_inds)"
   ]
  },
  {
   "cell_type": "code",
   "execution_count": 19,
   "id": "f07b9bec",
   "metadata": {},
   "outputs": [],
   "source": [
    "uac_mesh_pruned_distorted = uac_mesh_pruned.copy()\n",
    "uac_mesh_beta_half_distorted = uac_mesh_beta_half.copy()\n",
    "uac_mesh_alpha_zero_distorted = uac_mesh_alpha_zero.copy()\n",
    "uac_mesh_alpha_one_distorted = uac_mesh_alpha_one.copy()\n",
    "\n",
    "uac_mesh_pruned_distorted.points[beta_half_point_inds, 1] = 0.5\n",
    "uac_mesh_pruned_distorted.points[alpha_zero_point_inds, 0] = 0.0\n",
    "uac_mesh_pruned_distorted.points[alpha_one_point_inds, 0] = 1.0\n",
    "uac_mesh_beta_half_distorted.points[:, 1] = 0.5\n",
    "uac_mesh_alpha_zero_distorted.points[:, 0] = 0.0\n",
    "uac_mesh_alpha_one_distorted.points[:, 0] = 1.0"
   ]
  },
  {
   "cell_type": "code",
   "execution_count": 20,
   "id": "66d50380",
   "metadata": {},
   "outputs": [
    {
     "data": {
      "application/vnd.jupyter.widget-view+json": {
       "model_id": "45c38e0add8c491ebfcfd9732403accc",
       "version_major": 2,
       "version_minor": 0
      },
      "text/plain": [
       "Widget(value='<iframe src=\"http://localhost:33151/index.html?ui=P_0x7f8a0060f750_7&reconnect=auto\" class=\"pyvi…"
      ]
     },
     "metadata": {},
     "output_type": "display_data"
    }
   ],
   "source": [
    "plotter = pv.Plotter(window_size=[900, 900])\n",
    "plotter.add_mesh(\n",
    "    uac_mesh_pruned_distorted,\n",
    "    show_edges=True,\n",
    "    style=\"wireframe\",\n",
    "    color=\"lightgray\",\n",
    "    edge_opacity=1,\n",
    ")\n",
    "plotter.view_xy()\n",
    "plotter.show()"
   ]
  }
 ],
 "metadata": {
  "kernelspec": {
   "display_name": "default",
   "language": "python",
   "name": "python3"
  },
  "language_info": {
   "codemirror_mode": {
    "name": "ipython",
    "version": 3
   },
   "file_extension": ".py",
   "mimetype": "text/x-python",
   "name": "python",
   "nbconvert_exporter": "python",
   "pygments_lexer": "ipython3",
   "version": "3.13.7"
  }
 },
 "nbformat": 4,
 "nbformat_minor": 5
}
