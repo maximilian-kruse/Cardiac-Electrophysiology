{
 "cells": [
  {
   "cell_type": "code",
   "execution_count": 1,
   "id": "83a90da8",
   "metadata": {},
   "outputs": [],
   "source": [
    "import pickle\n",
    "from pathlib import Path\n",
    "\n",
    "import numpy as np\n",
    "import pyvista as pv\n",
    "\n",
    "from cardiac_electrophysiology import mesh_processing as mp\n",
    "from cardiac_electrophysiology.ulac import construction as ulac"
   ]
  },
  {
   "cell_type": "code",
   "execution_count": 2,
   "id": "075874aa",
   "metadata": {},
   "outputs": [],
   "source": [
    "def plot_over_dict(plotter, mesh, input_value, transformation, color, size):\n",
    "    if isinstance(input_value, dict):\n",
    "        for value in input_value.values():\n",
    "            plot_over_dict(plotter, mesh, value, transformation, color, size)\n",
    "    else:\n",
    "        indices, scalars = transformation(input_value)\n",
    "        point_mesh = pv.PolyData(mesh.points[indices])\n",
    "        if scalars is not None:\n",
    "            point_mesh[\"scalars\"] = scalars\n",
    "            plotter.add_mesh(\n",
    "                point_mesh,\n",
    "                scalars=\"scalars\",\n",
    "                render_points_as_spheres=True,\n",
    "                point_size=size,\n",
    "            )\n",
    "        else:\n",
    "            plotter.add_mesh(\n",
    "                point_mesh,\n",
    "                color=color,\n",
    "                render_points_as_spheres=True,\n",
    "                point_size=size,\n",
    "            )\n",
    "\n",
    "\n",
    "def plot_uacs_over_dict(plotter, mesh, input_value):\n",
    "    if isinstance(input_value, dict):\n",
    "        for value in input_value.values():\n",
    "            plot_uacs_over_dict(plotter, mesh, value)\n",
    "    else:\n",
    "        mapping_3d = np.hstack(\n",
    "            (\n",
    "                input_value.alpha[:, None],\n",
    "                input_value.beta[:, None],\n",
    "                np.zeros((input_value.alpha.shape[0], 1)),\n",
    "            )\n",
    "        )\n",
    "        uac_mesh = pv.PolyData.from_regular_faces(mapping_3d, input_value.connectivity)\n",
    "        plotter.add_mesh(uac_mesh, style=\"wireframe\", color=\"gray\")"
   ]
  },
  {
   "cell_type": "code",
   "execution_count": 3,
   "id": "404fe4a5",
   "metadata": {},
   "outputs": [],
   "source": [
    "patient_id = \"01\"\n",
    "input_mesh_file = Path(f\"../data/processed/patient_{patient_id}/mesh_with_fibers_tags.vtk\")\n",
    "segmentation_file_name = Path(f\"../data/processed/patient_{patient_id}/segmentation.pkl\")\n",
    "anatomical_tags = {\"MV\": 0, \"LAA\": 1, \"LIPV\": 2, \"LSPV\": 3, \"RIPV\": 4, \"RSPV\": 5}\n",
    "\n",
    "mesh = pv.read(input_mesh_file)\n",
    "mesh = mp.convert_unstructured_to_polydata_mesh(mesh)"
   ]
  },
  {
   "cell_type": "code",
   "execution_count": 4,
   "id": "0a215d58",
   "metadata": {},
   "outputs": [
    {
     "data": {
      "application/vnd.jupyter.widget-view+json": {
       "model_id": "2a5fe68314f74856a828f667286356b6",
       "version_major": 2,
       "version_minor": 0
      },
      "text/plain": [
       "Widget(value='<iframe src=\"http://localhost:38185/index.html?ui=P_0x7fe9be0f9940_0&reconnect=auto\" class=\"pyvi…"
      ]
     },
     "metadata": {},
     "output_type": "display_data"
    }
   ],
   "source": [
    "if segmentation_file_name.exists():\n",
    "    with segmentation_file_name.open(\"rb\") as f:\n",
    "        segmentation_paths = pickle.load(f)\n",
    "else:\n",
    "    segmentation_paths = ulac.construct_segmentation(mesh, anatomical_tags)\n",
    "    segmentation_file_name.parent.mkdir(parents=True, exist_ok=True)\n",
    "    with segmentation_file_name.open(\"wb\") as f:\n",
    "        pickle.dump(segmentation_paths, f)\n",
    "\n",
    "transformation = lambda input_value: (input_value, None)\n",
    "plotter = pv.Plotter(window_size=[700, 500])\n",
    "plotter.add_mesh(mesh, style=\"wireframe\", color=\"grey\")\n",
    "\n",
    "plot_over_dict(plotter, mesh, segmentation_paths, transformation, \"blue\", 10)\n",
    "plotter.show()"
   ]
  },
  {
   "cell_type": "code",
   "execution_count": null,
   "id": "df67d6e3",
   "metadata": {},
   "outputs": [],
   "source": [
    "markers = ulac.get_markers(segmentation_paths)\n",
    "\n",
    "plotter = pv.Plotter(window_size=[700, 500])\n",
    "plotter.add_mesh(mesh, style=\"wireframe\", color=\"grey\")\n",
    "transformation = lambda input_value: (input_value, None)\n",
    "plot_over_dict(plotter, mesh, segmentation_paths, transformation, \"blue\", 5)\n",
    "transformation = lambda input_value: (np.array((input_value.ind,)), None)\n",
    "plot_over_dict(plotter, mesh, markers, transformation, \"red\", 10)\n",
    "plotter.show()"
   ]
  },
  {
   "cell_type": "code",
   "execution_count": null,
   "id": "6473b299",
   "metadata": {},
   "outputs": [],
   "source": [
    "parameterized_paths = ulac.parameterize_paths(mesh, segmentation_paths, markers)\n",
    "\n",
    "plotter = pv.Plotter(window_size=[700, 500])\n",
    "plotter.add_mesh(mesh, style=\"wireframe\", color=\"grey\")\n",
    "transformation = lambda input_value: (input_value.inds, input_value.relative_lengths)\n",
    "plot_over_dict(plotter, mesh, parameterized_paths, transformation, \"blue\", 10)\n",
    "plotter.show()"
   ]
  },
  {
   "cell_type": "code",
   "execution_count": null,
   "id": "40bf759d",
   "metadata": {},
   "outputs": [],
   "source": [
    "uac_paths = ulac.construct_uac_paths(parameterized_paths, markers)\n",
    "\n",
    "plotter = pv.Plotter(shape=(1, 2), window_size=[1000, 500])\n",
    "plotter.subplot(0, 0)\n",
    "plotter.add_mesh(mesh, style=\"wireframe\", show_edges=True, color=\"grey\")\n",
    "transformation = lambda input_value: (input_value.inds, input_value.alpha)\n",
    "plot_over_dict(plotter, mesh, uac_paths, transformation, \"blue\", 10)\n",
    "plotter.subplot(0, 1)\n",
    "plotter.add_mesh(mesh, style=\"wireframe\", show_edges=True, color=\"grey\")\n",
    "transformation = lambda input_value: (input_value.inds, input_value.beta)\n",
    "plot_over_dict(plotter, mesh, uac_paths, transformation, \"blue\", 10)\n",
    "plotter.show()"
   ]
  },
  {
   "cell_type": "code",
   "execution_count": null,
   "id": "53e00d77",
   "metadata": {},
   "outputs": [],
   "source": [
    "patch_boundaries = ulac.get_patch_boundaries(uac_paths)\n",
    "uac_patches = ulac.compute_patch_uacs(mesh, patch_boundaries, segmentation_paths)\n",
    "\n",
    "plotter = pv.Plotter(window_size=[900, 900])\n",
    "plot_uacs_over_dict(plotter, mesh, uac_patches)\n",
    "plotter.view_xy()\n",
    "plotter.show()"
   ]
  },
  {
   "cell_type": "code",
   "execution_count": null,
   "id": "df76db19",
   "metadata": {},
   "outputs": [],
   "source": [
    "alpha_list = []\n",
    "beta_list = []\n",
    "simplex_list = []\n",
    "global num_points\n",
    "num_points = 0\n",
    "\n",
    "\n",
    "def collect_uac_data(input_value):\n",
    "    global num_points\n",
    "    if isinstance(input_value, dict):\n",
    "        for value in input_value.values():\n",
    "            collect_uac_data(value)\n",
    "    else:\n",
    "        alpha_list.append(input_value.alpha)\n",
    "        beta_list.append(input_value.beta)\n",
    "        simplex_list.append(input_value.connectivity + num_points)\n",
    "        num_points += input_value.inds.size\n",
    "\n",
    "\n",
    "collect_uac_data(uac_patches)\n",
    "alpha_values = np.concatenate(alpha_list)\n",
    "beta_values = np.concatenate(beta_list)\n",
    "uacs = np.vstack((alpha_values, beta_values)).T\n",
    "uacs = np.hstack((uacs, np.zeros((uacs.shape[0], 1))))\n",
    "simplices = np.vstack(simplex_list)"
   ]
  },
  {
   "cell_type": "code",
   "execution_count": null,
   "id": "b8408b7b",
   "metadata": {},
   "outputs": [],
   "source": [
    "uac_mesh = pv.PolyData.from_regular_faces(uacs, simplices)\n",
    "uac_mesh = uac_mesh.clean(strips_to_polys=True)\n",
    "#uac_mesh = uac_mesh.smooth(n_iter=300, relaxation_factor=0.001, edge_angle=360, feature_angle=360)\n",
    "#uac_mesh = uac_mesh.smooth_taubin(n_iter=10000, pass_band=1, feature_angle=180, edge_angle=180)\n",
    "\n",
    "import trimesh as tm\n",
    "tm_mesh = tm.Trimesh(uac_mesh.points, uac_mesh.faces.reshape(-1, 4)[:, 1:], process=False)\n",
    "print(np.min(np.sum(tm_mesh.face_normals, axis=1)))\n",
    "\n",
    "plotter = pv.Plotter(window_size=[700, 700])\n",
    "plotter.add_mesh(uac_mesh, style=\"wireframe\", color=\"grey\")\n",
    "plotter.view_xy()\n",
    "plotter.show()"
   ]
  }
 ],
 "metadata": {
  "kernelspec": {
   "display_name": "default",
   "language": "python",
   "name": "python3"
  },
  "language_info": {
   "codemirror_mode": {
    "name": "ipython",
    "version": 3
   },
   "file_extension": ".py",
   "mimetype": "text/x-python",
   "name": "python",
   "nbconvert_exporter": "python",
   "pygments_lexer": "ipython3",
   "version": "3.13.7"
  }
 },
 "nbformat": 4,
 "nbformat_minor": 5
}
