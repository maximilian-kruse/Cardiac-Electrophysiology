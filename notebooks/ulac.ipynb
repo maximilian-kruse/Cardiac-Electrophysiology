{
 "cells": [
  {
   "cell_type": "code",
   "execution_count": 1,
   "id": "83a90da8",
   "metadata": {},
   "outputs": [],
   "source": [
    "import pickle\n",
    "from dataclasses import fields\n",
    "from pathlib import Path\n",
    "\n",
    "import numpy as np\n",
    "import pyvista as pv\n",
    "\n",
    "from cardiac_electrophysiology import mesh_processing as mp\n",
    "from cardiac_electrophysiology.ulac import base\n",
    "from cardiac_electrophysiology.ulac import interface as ulac"
   ]
  },
  {
   "cell_type": "code",
   "execution_count": 2,
   "id": "075874aa",
   "metadata": {},
   "outputs": [],
   "source": [
    "def plot_over_dict(plotter, mesh, input_value, transformation, color, size):\n",
    "    if isinstance(input_value, dict):\n",
    "        for value in input_value.values():\n",
    "            plot_over_dict(plotter, mesh, value, transformation, color, size)\n",
    "    else:\n",
    "        indices, scalars = transformation(input_value)\n",
    "        point_mesh = pv.PolyData(mesh.points[indices])\n",
    "        if scalars is not None:\n",
    "            point_mesh[\"scalars\"] = scalars\n",
    "            plotter.add_mesh(\n",
    "                point_mesh,\n",
    "                scalars=\"scalars\",\n",
    "                render_points_as_spheres=True,\n",
    "                point_size=size,\n",
    "            )\n",
    "        else:\n",
    "            plotter.add_mesh(\n",
    "                point_mesh,\n",
    "                color=color,\n",
    "                render_points_as_spheres=True,\n",
    "                point_size=size,\n",
    "            )"
   ]
  },
  {
   "cell_type": "code",
   "execution_count": 3,
   "id": "404fe4a5",
   "metadata": {},
   "outputs": [],
   "source": [
    "patient_id = \"01\"\n",
    "input_mesh_file = Path(f\"../data/processed/patient_{patient_id}/mesh_with_fibers_tags.vtk\")\n",
    "segmentation_file_name = Path(f\"../data/processed/patient_{patient_id}/segmentation.pkl\")\n",
    "anatomical_tags = {\"MV\": 0, \"LAA\": 1, \"LIPV\": 2, \"LSPV\": 3, \"RIPV\": 4, \"RSPV\": 5}\n",
    "\n",
    "mesh = pv.read(input_mesh_file)\n",
    "mesh = mp.convert_unstructured_to_polydata_mesh(mesh)"
   ]
  },
  {
   "cell_type": "code",
   "execution_count": 4,
   "id": "0a215d58",
   "metadata": {},
   "outputs": [
    {
     "data": {
      "application/vnd.jupyter.widget-view+json": {
       "model_id": "c11e26b93d9e449a87e152f6163122ef",
       "version_major": 2,
       "version_minor": 0
      },
      "text/plain": [
       "Widget(value='<iframe src=\"http://localhost:35879/index.html?ui=P_0x7f24edeeba10_0&reconnect=auto\" class=\"pyvi…"
      ]
     },
     "metadata": {},
     "output_type": "display_data"
    }
   ],
   "source": [
    "if segmentation_file_name.exists():\n",
    "    with segmentation_file_name.open(\"rb\") as f:\n",
    "        segmentation_paths = pickle.load(f)\n",
    "else:\n",
    "    segmentation_paths = ulac.construct_segmentation(mesh, anatomical_tags)\n",
    "    segmentation_file_name.parent.mkdir(parents=True, exist_ok=True)\n",
    "    with segmentation_file_name.open(\"wb\") as f:\n",
    "        pickle.dump(segmentation_paths, f)\n",
    "\n",
    "transformation = lambda input_value: (input_value, None)\n",
    "plotter = pv.Plotter(window_size=[700, 500])\n",
    "plotter.add_mesh(mesh, style=\"wireframe\", color=\"grey\", show_edges=True)\n",
    "\n",
    "plot_over_dict(plotter, mesh, segmentation_paths, transformation, \"blue\", 10)\n",
    "plotter.show()"
   ]
  },
  {
   "cell_type": "code",
   "execution_count": 5,
   "id": "df67d6e3",
   "metadata": {},
   "outputs": [
    {
     "data": {
      "application/vnd.jupyter.widget-view+json": {
       "model_id": "d68d752dc3d34f8f9c1d1ce97bc4fcdb",
       "version_major": 2,
       "version_minor": 0
      },
      "text/plain": [
       "Widget(value='<iframe src=\"http://localhost:35879/index.html?ui=P_0x7f24cefa20d0_1&reconnect=auto\" class=\"pyvi…"
      ]
     },
     "metadata": {},
     "output_type": "display_data"
    }
   ],
   "source": [
    "markers = ulac.get_markers(segmentation_paths)\n",
    "\n",
    "plotter = pv.Plotter(window_size=[700, 500])\n",
    "plotter.add_mesh(mesh, style=\"wireframe\", color=\"grey\")\n",
    "transformation = lambda input_value: (input_value, None)\n",
    "plot_over_dict(plotter, mesh, segmentation_paths, transformation, \"blue\", 5)\n",
    "transformation = lambda input_value: (np.array((input_value.ind,)), None)\n",
    "plot_over_dict(plotter, mesh, markers, transformation, \"red\", 10)\n",
    "plotter.show()"
   ]
  },
  {
   "cell_type": "code",
   "execution_count": 6,
   "id": "6473b299",
   "metadata": {},
   "outputs": [
    {
     "data": {
      "application/vnd.jupyter.widget-view+json": {
       "model_id": "8ca07a1e870f47a9987481aa0c2ffb14",
       "version_major": 2,
       "version_minor": 0
      },
      "text/plain": [
       "Widget(value='<iframe src=\"http://localhost:35879/index.html?ui=P_0x7f24cc5bc190_2&reconnect=auto\" class=\"pyvi…"
      ]
     },
     "metadata": {},
     "output_type": "display_data"
    }
   ],
   "source": [
    "parameterized_paths = ulac.parameterize_paths(mesh, segmentation_paths, markers)\n",
    "\n",
    "plotter = pv.Plotter(window_size=[700, 500])\n",
    "plotter.add_mesh(mesh, style=\"wireframe\", color=\"grey\")\n",
    "transformation = lambda input_value: (input_value.inds, input_value.relative_lengths)\n",
    "plot_over_dict(plotter, mesh, parameterized_paths, transformation, \"blue\", 5)\n",
    "plotter.show()"
   ]
  },
  {
   "cell_type": "code",
   "execution_count": 7,
   "id": "40bf759d",
   "metadata": {},
   "outputs": [
    {
     "data": {
      "application/vnd.jupyter.widget-view+json": {
       "model_id": "78a25fd604e14de5844fbdd94375ac11",
       "version_major": 2,
       "version_minor": 0
      },
      "text/plain": [
       "Widget(value='<iframe src=\"http://localhost:35879/index.html?ui=P_0x7f24cc5be210_3&reconnect=auto\" class=\"pyvi…"
      ]
     },
     "metadata": {},
     "output_type": "display_data"
    }
   ],
   "source": [
    "uac_paths = ulac.construct_uac_paths(parameterized_paths, markers)\n",
    "\n",
    "plotter = pv.Plotter(window_size=[700, 500])\n",
    "plotter.add_mesh(mesh, style=\"wireframe\", show_edges=True, color=\"grey\")\n",
    "transformation = lambda input_value: (input_value.inds, input_value.alpha)\n",
    "plot_over_dict(plotter, mesh, uac_paths, transformation, \"blue\", 10)\n",
    "plotter.show()"
   ]
  },
  {
   "cell_type": "code",
   "execution_count": 8,
   "id": "53e00d77",
   "metadata": {},
   "outputs": [],
   "source": [
    "patch_boundaries = ulac.get_patch_boundaries(uac_paths)\n",
    "uac_patches = ulac.compute_patch_uacs(mesh, patch_boundaries, segmentation_paths)"
   ]
  },
  {
   "cell_type": "code",
   "execution_count": 9,
   "id": "e5b9ea59",
   "metadata": {},
   "outputs": [
    {
     "data": {
      "application/vnd.jupyter.widget-view+json": {
       "model_id": "f2f7bcc8da5544f480c9d7eebb599573",
       "version_major": 2,
       "version_minor": 0
      },
      "text/plain": [
       "Widget(value='<iframe src=\"http://localhost:35879/index.html?ui=P_0x7f24cc5bf750_4&reconnect=auto\" class=\"pyvi…"
      ]
     },
     "metadata": {},
     "output_type": "display_data"
    }
   ],
   "source": [
    "def plot_values_over_dict(plotter, mesh, input_value):\n",
    "    if isinstance(input_value, dict):\n",
    "        for value in input_value.values():\n",
    "            plot_values_over_dict(plotter, mesh, value)\n",
    "    else:\n",
    "        mapping, simplices = input_value\n",
    "        mapping_z = np.zeros((mapping.shape[0], 1))\n",
    "        mapping_3d = np.hstack((mapping, mapping_z))\n",
    "        uac_mesh = pv.PolyData.from_regular_faces(mapping_3d, simplices)\n",
    "        plotter.add_mesh(uac_mesh, style=\"wireframe\", color=\"gray\")\n",
    "\n",
    "\n",
    "plotter = pv.Plotter(window_size=[900, 900])\n",
    "plot_values_over_dict(plotter, mesh, uac_patches)\n",
    "plotter.view_xy()\n",
    "plotter.show()"
   ]
  },
  {
   "cell_type": "code",
   "execution_count": 13,
   "id": "df76db19",
   "metadata": {},
   "outputs": [],
   "source": [
    "uac_list = []\n",
    "simplex_list = []\n",
    "global num_points\n",
    "num_points = 0\n",
    "\n",
    "def collect_uac_data(input_value):\n",
    "    global num_points\n",
    "    if isinstance(input_value, dict):\n",
    "        for value in input_value.values():\n",
    "            collect_uac_data(value)\n",
    "    else:\n",
    "        mapping, simplices = input_value\n",
    "        uac_list.append(mapping)\n",
    "        simplex_list.append(simplices + num_points)\n",
    "        num_points += mapping.shape[0]\n",
    "\n",
    "collect_uac_data(uac_patches)"
   ]
  },
  {
   "cell_type": "code",
   "execution_count": null,
   "id": "1268c11e",
   "metadata": {},
   "outputs": [
    {
     "data": {
      "application/vnd.jupyter.widget-view+json": {
       "model_id": "5b2ce04696ec4ae3a06fc0a7d320fb33",
       "version_major": 2,
       "version_minor": 0
      },
      "text/plain": [
       "Widget(value='<iframe src=\"http://localhost:35879/index.html?ui=P_0x7f24ed57d6d0_8&reconnect=auto\" class=\"pyvi…"
      ]
     },
     "metadata": {},
     "output_type": "display_data"
    }
   ],
   "source": [
    "uacs = np.vstack(uac_list)\n",
    "uacs = np.hstack((uacs, np.zeros((uacs.shape[0], 1))))\n",
    "simplices = np.vstack(simplex_list)\n",
    "unique_mask = np.u\n",
    "uac_mesh = pv.PolyData.from_regular_faces(uacs, simplices)\n",
    "smooth_mesh = uac_mesh.smooth(n_iter=100, relaxation_factor=0.1)\n",
    "plotter = pv.Plotter(window_size=[700, 700])\n",
    "plotter.add_mesh(uac_mesh, style=\"wireframe\", color=\"gray\")\n",
    "plotter.view_xy()\n",
    "plotter.show()"
   ]
  }
 ],
 "metadata": {
  "kernelspec": {
   "display_name": "default",
   "language": "python",
   "name": "python3"
  },
  "language_info": {
   "codemirror_mode": {
    "name": "ipython",
    "version": 3
   },
   "file_extension": ".py",
   "mimetype": "text/x-python",
   "name": "python",
   "nbconvert_exporter": "python",
   "pygments_lexer": "ipython3",
   "version": "3.13.7"
  }
 },
 "nbformat": 4,
 "nbformat_minor": 5
}
