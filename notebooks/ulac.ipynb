{
 "cells": [
  {
   "cell_type": "code",
   "execution_count": null,
   "id": "83a90da8",
   "metadata": {},
   "outputs": [],
   "source": [
    "import pickle\n",
    "from dataclasses import fields\n",
    "from pathlib import Path\n",
    "\n",
    "import igl\n",
    "import numpy as np\n",
    "import pyvista as pv\n",
    "\n",
    "from cardiac_electrophysiology import mesh_processing as mp\n",
    "from cardiac_electrophysiology.ulac import base, ulac"
   ]
  },
  {
   "cell_type": "code",
   "execution_count": null,
   "id": "404fe4a5",
   "metadata": {},
   "outputs": [],
   "source": [
    "patient_id = \"01\"\n",
    "input_mesh_file = Path(f\"../data/processed/patient_{patient_id}/mesh_with_fibers_tags.vtk\")\n",
    "segmentation_file_name = Path(f\"../data/processed/patient_{patient_id}/segmentation.pkl\")\n",
    "anatomical_tags = ulac.FeatureTags(MV=0, LAA=1, LIPV=2, LSPV=3, RIPV=4, RSPV=5)\n",
    "\n",
    "mesh = pv.read(input_mesh_file)\n",
    "mesh = mp.convert_unstructured_to_polydata_mesh(mesh)"
   ]
  },
  {
   "cell_type": "code",
   "execution_count": null,
   "id": "80ee5b20",
   "metadata": {},
   "outputs": [],
   "source": [
    "# segmentation_paths = ulac.construct_paths(mesh, anatomical_tags)\n",
    "\n",
    "# segmentation_file_name.parent.mkdir(parents=True, exist_ok=True)\n",
    "# with segmentation_file_name.open(\"wb\") as f:\n",
    "#     pickle.dump(segmentation_paths, f)"
   ]
  },
  {
   "cell_type": "code",
   "execution_count": null,
   "id": "3317f888",
   "metadata": {},
   "outputs": [],
   "source": [
    "with segmentation_file_name.open(\"rb\") as f:\n",
    "    segmentation_paths = pickle.load(f)"
   ]
  },
  {
   "cell_type": "code",
   "execution_count": null,
   "id": "40bf759d",
   "metadata": {},
   "outputs": [],
   "source": [
    "markers = ulac.get_marker_points(segmentation_paths)\n",
    "parameterized_paths = ulac.parameterize_paths(mesh, segmentation_paths, markers)\n",
    "uac_paths = ulac.construct_uac_boundaries(parameterized_paths)\n",
    "path_boundaries = ulac.get_patch_boundaries(uac_paths)"
   ]
  },
  {
   "cell_type": "code",
   "execution_count": null,
   "id": "452c6f15",
   "metadata": {},
   "outputs": [],
   "source": [
    "roof_boundary = path_boundaries.roof.inds\n",
    "splitted_meshes = base.split_from_enclosing_boundary(mesh, roof_boundary)\n",
    "roof_mesh = splitted_meshes[1]\n",
    "\n",
    "vertices = np.array(mesh.points[roof_mesh.point_inds])\n",
    "simplices = roof_mesh.connectivity\n",
    "boundary_inds = np.array([np.where(roof_mesh.point_inds == ind)[0][0] for ind in roof_boundary])\n",
    "uac_coordinates = np.hstack(\n",
    "    (path_boundaries.roof.alpha[:, None], path_boundaries.roof.beta[:, None])\n",
    ")"
   ]
  },
  {
   "cell_type": "code",
   "execution_count": null,
   "id": "9c6cdabc",
   "metadata": {},
   "outputs": [],
   "source": [
    "harmonic_map = igl.bijective_composite_harmonic_mapping(\n",
    "    V=vertices,\n",
    "    F=simplices,\n",
    "    b=boundary_inds,\n",
    "    bc=uac_coordinates,\n",
    "    min_steps=10,\n",
    "    max_steps=100,\n",
    "    num_inner_iters=100,\n",
    "    test_for_flips=True,\n",
    ")\n",
    "harmonic_map_z = np.zeros((harmonic_map.shape[0], 1))\n",
    "harmonic_map_3d = np.hstack((harmonic_map[:, :2], harmonic_map_z))\n",
    "uac_mesh = pv.PolyData.from_regular_faces(harmonic_map_3d, simplices)"
   ]
  },
  {
   "cell_type": "code",
   "execution_count": null,
   "id": "a64ad51f",
   "metadata": {},
   "outputs": [],
   "source": [
    "plotter = pv.Plotter(window_size=[900, 900])\n",
    "plotter.add_mesh(uac_mesh, style=\"wireframe\", color=\"grey\")\n",
    "plotter.view_xy()\n",
    "plotter.show()"
   ]
  }
 ],
 "metadata": {
  "kernelspec": {
   "display_name": "default",
   "language": "python",
   "name": "python3"
  },
  "language_info": {
   "codemirror_mode": {
    "name": "ipython",
    "version": 3
   },
   "file_extension": ".py",
   "mimetype": "text/x-python",
   "name": "python",
   "nbconvert_exporter": "python",
   "pygments_lexer": "ipython3",
   "version": "3.13.7"
  }
 },
 "nbformat": 4,
 "nbformat_minor": 5
}
