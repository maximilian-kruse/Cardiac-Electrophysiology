{
 "cells": [
  {
   "cell_type": "code",
   "execution_count": 1,
   "id": "89290f45",
   "metadata": {},
   "outputs": [],
   "source": [
    "import dolfinx as dlx\n",
    "from mpi4py import MPI"
   ]
  },
  {
   "cell_type": "code",
   "execution_count": 2,
   "id": "726561c0",
   "metadata": {},
   "outputs": [],
   "source": [
    "mesh_file = \"../data/patient_01/mesh_dolfinx.xdmf\"\n",
    "mpi_communicator = MPI.COMM_WORLD\n",
    "mesh = dlx.io.XDMFFile(mpi_communicator, mesh_file, \"r\").read_mesh(name=\"Grid\")"
   ]
  }
 ],
 "metadata": {
  "kernelspec": {
   "display_name": "default",
   "language": "python",
   "name": "python3"
  },
  "language_info": {
   "codemirror_mode": {
    "name": "ipython",
    "version": 3
   },
   "file_extension": ".py",
   "mimetype": "text/x-python",
   "name": "python",
   "nbconvert_exporter": "python",
   "pygments_lexer": "ipython3",
   "version": "3.13.7"
  }
 },
 "nbformat": 4,
 "nbformat_minor": 5
}
