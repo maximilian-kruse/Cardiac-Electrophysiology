{
 "cells": [
  {
   "cell_type": "code",
   "execution_count": null,
   "id": "f8f9b5b4",
   "metadata": {},
   "outputs": [],
   "source": [
    "import dolfinx as dlx\n",
    "import matplotlib.pyplot as plt\n",
    "import numpy as np\n",
    "import seaborn as sns\n",
    "from eikonax import preprocessing, solver, tensorfield\n",
    "from ls_prior import builder\n",
    "from mpi4py import MPI\n",
    "\n",
    "from cardiac_electrophysiology import data_processing as dp\n",
    "from cardiac_electrophysiology import fiberfield\n",
    "\n",
    "sns.set_theme(style=\"ticks\")"
   ]
  },
  {
   "cell_type": "code",
   "execution_count": null,
   "id": "8e3f9d8e",
   "metadata": {},
   "outputs": [],
   "source": [
    "mesh = dlx.mesh.create_rectangle(\n",
    "    MPI.COMM_WORLD,\n",
    "    [np.array([0, 0]), np.array([1, 1])],\n",
    "    [20, 20],\n",
    "    dlx.mesh.CellType.triangle,\n",
    ")\n",
    "vertices = mesh.geometry.x[:, :2]\n",
    "simplices = mesh.geometry.dofmap\n",
    "num_simplices = simplices.shape[0]\n",
    "simplex_to_vertex_matrix = dp.assemble_simplex_to_vertex_interpolation_matrix(simplices)\n",
    "vertex_to_simplex_matrix = dp.assemble_vertex_to_simplex_interpolation_matrix(simplices)\n",
    "\n",
    "num_samples = 1000\n",
    "mean_angle_vector = np.full(simplices.shape[0], 1 / 4 * np.pi)\n",
    "mean_angle_vector = simplex_to_vertex_matrix @ mean_angle_vector\n",
    "mean_parameter_vector = np.arctanh(np.cos(mean_angle_vector + np.pi / 2))\n",
    "first_basis_vector = np.repeat([[1, 0]], num_simplices, axis=0)\n",
    "second_basis_vector = np.repeat([[0, 1]], num_simplices, axis=0)\n",
    "longitudinal_velocity_vector = np.full(num_simplices, 5)\n",
    "transverse_velocity_vector = np.full(num_simplices, 1)"
   ]
  },
  {
   "cell_type": "code",
   "execution_count": null,
   "id": "e63487ad",
   "metadata": {},
   "outputs": [],
   "source": [
    "prior_settings = builder.BilaplacianPriorSettings(\n",
    "    mesh=mesh,\n",
    "    mean_vector=mean_parameter_vector,\n",
    "    kappa=50,\n",
    "    tau=0.05,\n",
    "    seed=0,\n",
    ")\n",
    "prior_builder = builder.BilaplacianPriorBuilder(prior_settings)\n",
    "bilaplace_prior = prior_builder.build()\n",
    "\n",
    "fiber_tensor = fiberfield.FiberTensor(\n",
    "    dimension=2,\n",
    "    mean_angle_vector=mean_angle_vector,\n",
    "    basis_vectors=[first_basis_vector, second_basis_vector],\n",
    "    conduction_velocities=[longitudinal_velocity_vector, transverse_velocity_vector],\n",
    ")\n",
    "tensor_field_mapping = tensorfield.LinearScalarMap()\n",
    "tensor_field_object = tensorfield.TensorField(\n",
    "    num_simplices=num_simplices,\n",
    "    vector_to_simplices_map=tensor_field_mapping,\n",
    "    simplex_tensor=fiber_tensor,\n",
    ")\n",
    "\n",
    "solver_data = solver.SolverData(\n",
    "    tolerance=1e-6,\n",
    "    max_num_iterations=1000,\n",
    "    max_value=1000,\n",
    "    loop_type=\"jitted_while\",\n",
    "    use_soft_update=False,\n",
    "    softminmax_order=20,\n",
    "    softminmax_cutoff=0.01,\n",
    ")\n",
    "initial_site_ind = np.where((vertices[:,0] == 0) & (vertices[:,1] == 0))[0][0]\n",
    "initial_sites = preprocessing.InitialSites(inds=(initial_site_ind,), values=(0,))\n",
    "mesh_data = preprocessing.MeshData(mesh.geometry.x[:, :2], mesh.geometry.dofmap)\n",
    "eikonal_solver = solver.Solver(mesh_data, solver_data, initial_sites)"
   ]
  },
  {
   "cell_type": "code",
   "execution_count": null,
   "id": "fa3da247",
   "metadata": {},
   "outputs": [],
   "source": [
    "solution_samples = []\n",
    "for _ in range(num_samples):\n",
    "    parameter_sample = bilaplace_prior.generate_sample()\n",
    "    parameter_sample = vertex_to_simplex_matrix @ parameter_sample\n",
    "    tensor_field_instance = tensor_field_object.assemble_field(parameter_sample)\n",
    "    solution = eikonal_solver.run(tensor_field_instance)\n",
    "    solution_values = np.array(solution.values)\n",
    "    solution_samples.append(solution_values)\n",
    "\n",
    "solution_samples = np.array(solution_samples).T\n",
    "solution_mean = np.mean(solution_samples, axis=1)\n",
    "solution_std = np.std(solution_samples, axis=1)"
   ]
  },
  {
   "cell_type": "code",
   "execution_count": null,
   "id": "5858b931",
   "metadata": {},
   "outputs": [],
   "source": [
    "fig, axs = plt.subplots(nrows=1, ncols=2, figsize=(12, 5), layout=\"constrained\")\n",
    "contour_plot = axs[0].tricontourf(\n",
    "    vertices[:, 0], vertices[:, 1], solution_mean, levels=20, cmap=\"Blues\"\n",
    ")\n",
    "plt.colorbar(contour_plot, ax=axs[0])\n",
    "contour_plot = axs[1].tricontourf(\n",
    "    vertices[:, 0], vertices[:, 1], solution_std, levels=20, cmap=\"Blues\"\n",
    ")\n",
    "plt.colorbar(contour_plot, ax=axs[1])"
   ]
  }
 ],
 "metadata": {
  "kernelspec": {
   "display_name": "default",
   "language": "python",
   "name": "python3"
  },
  "language_info": {
   "codemirror_mode": {
    "name": "ipython",
    "version": 3
   },
   "file_extension": ".py",
   "mimetype": "text/x-python",
   "name": "python",
   "nbconvert_exporter": "python",
   "pygments_lexer": "ipython3",
   "version": "3.13.9"
  }
 },
 "nbformat": 4,
 "nbformat_minor": 5
}
