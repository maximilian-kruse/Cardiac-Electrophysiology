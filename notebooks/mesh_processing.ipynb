{
 "cells": [
  {
   "cell_type": "code",
   "execution_count": 44,
   "id": "44bf2d59",
   "metadata": {},
   "outputs": [],
   "source": [
    "from dataclasses import fields\n",
    "from pathlib import Path\n",
    "\n",
    "import numpy as np\n",
    "import pyvista as pv\n",
    "\n",
    "from cardiac_electrophysiology import mesh_processing as mp"
   ]
  },
  {
   "cell_type": "code",
   "execution_count": 48,
   "id": "9b1de647",
   "metadata": {},
   "outputs": [],
   "source": [
    "patient_id = \"01\"\n",
    "input_mesh_file = Path(f\"../data/raw/patient_{patient_id}_mesh_with_uacs_fibers_tags.vtk\")\n",
    "output_mesh_file = Path(f\"../data/processed/patient_{patient_id}/mesh_with_fibers_tags.vtk\")\n",
    "decimation_factor = 0.75\n",
    "num_smoothing_iterations = 100\n",
    "\n",
    "legacy_anatomical_tags = mp.FeatureTags(MV=11, LAA=13, LIPV=21, LSPV=23, RIPV=25, RSPV=27)\n",
    "new_anatomical_tags = mp.FeatureTags(MV=0, LAA=1, LIPV=2, LSPV=3, RIPV=4, RSPV=5)"
   ]
  },
  {
   "cell_type": "code",
   "execution_count": 49,
   "id": "d3ad8dd9",
   "metadata": {},
   "outputs": [],
   "source": [
    "input_mesh = pv.read(input_mesh_file)\n",
    "triangular_mesh = mp.convert_unstructured_to_polydata_mesh(input_mesh)\n",
    "del triangular_mesh.point_data[\"alpha\"]\n",
    "del triangular_mesh.point_data[\"beta\"]\n",
    "for tag_field in fields(legacy_anatomical_tags):\n",
    "    tag_value = getattr(legacy_anatomical_tags, tag_field.name)\n",
    "    anatomical_region = np.where(triangular_mesh.cell_data[\"anatomical_tags\"] == tag_value)[0]\n",
    "    triangular_mesh.cell_data[\"anatomical_tags\"][anatomical_region] = getattr(\n",
    "        new_anatomical_tags, tag_field.name\n",
    "    )\n",
    "triangular_mesh = mp.coarsen_mesh_with_feature_tags(\n",
    "    triangular_mesh,\n",
    "    decimation_factor=decimation_factor,\n",
    "    num_smoothing_iters=num_smoothing_iterations,\n",
    ")\n",
    "output_mesh_file.parent.mkdir(parents=True, exist_ok=True)\n",
    "pv.save_meshio(output_mesh_file, triangular_mesh)"
   ]
  },
  {
   "cell_type": "code",
   "execution_count": 50,
   "id": "f3bbeb3f",
   "metadata": {},
   "outputs": [
    {
     "data": {
      "application/vnd.jupyter.widget-view+json": {
       "model_id": "d7ca30bdc3564a3b81ca3ad43c83ce27",
       "version_major": 2,
       "version_minor": 0
      },
      "text/plain": [
       "Widget(value='<iframe src=\"http://localhost:40667/index.html?ui=P_0x7f7dac812c10_10&reconnect=auto\" class=\"pyv…"
      ]
     },
     "metadata": {},
     "output_type": "display_data"
    }
   ],
   "source": [
    "plotter = pv.Plotter(window_size=[900, 900])\n",
    "plotter.add_mesh(\n",
    "    triangular_mesh,\n",
    "    scalars=\"anatomical_tags\",\n",
    "    cmap=\"tab20\",\n",
    "    show_edges=True,\n",
    "    edge_color=\"lightgray\",\n",
    "    edge_opacity=0.3,\n",
    "    show_scalar_bar=False,\n",
    ")\n",
    "plotter.show()"
   ]
  }
 ],
 "metadata": {
  "kernelspec": {
   "display_name": "default",
   "language": "python",
   "name": "python3"
  },
  "language_info": {
   "codemirror_mode": {
    "name": "ipython",
    "version": 3
   },
   "file_extension": ".py",
   "mimetype": "text/x-python",
   "name": "python",
   "nbconvert_exporter": "python",
   "pygments_lexer": "ipython3",
   "version": "3.13.7"
  }
 },
 "nbformat": 4,
 "nbformat_minor": 5
}
