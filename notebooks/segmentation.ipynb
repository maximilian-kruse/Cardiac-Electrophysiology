{
 "cells": [
  {
   "cell_type": "code",
   "execution_count": 1,
   "id": "2683f883",
   "metadata": {},
   "outputs": [],
   "source": [
    "import pickle\n",
    "from pathlib import Path\n",
    "\n",
    "import pyvista as pv\n",
    "\n",
    "from cardiac_electrophysiology import mesh_processing as mp\n",
    "from cardiac_electrophysiology.ulac import segmentation as seg"
   ]
  },
  {
   "cell_type": "code",
   "execution_count": 2,
   "id": "8b19684d",
   "metadata": {},
   "outputs": [],
   "source": [
    "patient_id = \"01\"\n",
    "input_mesh_file = Path(f\"../data/processed/patient_{patient_id}/mesh_with_fibers_tags.vtk\")\n",
    "segmentation_file_name = Path(f\"../data/processed/patient_{patient_id}/segmentation.pkl\")\n",
    "anatomical_tags = mp.FeatureTags(MV=0, LAA=1, LIPV=2, LSPV=3, RIPV=4, RSPV=5)\n",
    "\n",
    "mesh = pv.read(input_mesh_file)\n",
    "mesh = mp.convert_unstructured_to_polydata_mesh(mesh)"
   ]
  },
  {
   "cell_type": "code",
   "execution_count": 3,
   "id": "9b6d45f7",
   "metadata": {},
   "outputs": [],
   "source": [
    "boundary_paths = seg.get_boundary_paths(mesh, anatomical_tags)\n",
    "connection_paths = seg.construct_connection_paths(mesh, boundary_paths)\n",
    "markers = seg.get_markers(connection_paths)\n",
    "parameterized_paths = seg.parameterize_paths(mesh, boundary_paths, connection_paths, markers)\n",
    "\n",
    "objects_to_save = [boundary_paths, connection_paths, markers, parameterized_paths]\n",
    "segmentation_file_name.parent.mkdir(parents=True, exist_ok=True)\n",
    "with segmentation_file_name.open(\"wb\") as f:\n",
    "    pickle.dump(objects_to_save, f)"
   ]
  },
  {
   "cell_type": "code",
   "execution_count": 4,
   "id": "d859a0b6",
   "metadata": {},
   "outputs": [
    {
     "data": {
      "application/vnd.jupyter.widget-view+json": {
       "model_id": "47233be25bb94d0aacb407ebf49e07b6",
       "version_major": 2,
       "version_minor": 0
      },
      "text/plain": [
       "Widget(value='<iframe src=\"http://localhost:33213/index.html?ui=P_0x7f5c24566e40_0&reconnect=auto\" class=\"pyvi…"
      ]
     },
     "metadata": {},
     "output_type": "display_data"
    }
   ],
   "source": [
    "plotter = pv.Plotter(window_size=[900, 900])\n",
    "plotter.add_mesh(\n",
    "    mesh,\n",
    "    color=\"lightgrey\",\n",
    "    show_edges=True,\n",
    "    edge_opacity=0.3,\n",
    ")\n",
    "for path_field in [\"LIPV\", \"LSPV\", \"RIPV\", \"RSPV\"]:\n",
    "    for boundary_type in [\"inner\", \"outer\"]:\n",
    "        path = getattr(parameterized_paths, f\"{path_field}_{boundary_type}\")\n",
    "        path_mesh = pv.PolyData(mesh.points[path.inds])\n",
    "        path_mesh.point_data[\"relative_lengths\"] = path.relative_lengths\n",
    "        plotter.add_points(\n",
    "            path_mesh, scalars=\"relative_lengths\", point_size=5, render_points_as_spheres=True\n",
    "        )\n",
    "\n",
    "path = parameterized_paths.LAA\n",
    "path_mesh = pv.PolyData(mesh.points[path.inds])\n",
    "path_mesh.point_data[\"relative_lengths\"] = path.relative_lengths\n",
    "plotter.add_points(\n",
    "    path_mesh, scalars=\"relative_lengths\", point_size=5, render_points_as_spheres=True\n",
    ")\n",
    "path = parameterized_paths.MV\n",
    "path_mesh = pv.PolyData(mesh.points[path.inds])\n",
    "path_mesh.point_data[\"relative_lengths\"] = path.relative_lengths\n",
    "plotter.add_points(\n",
    "    path_mesh, scalars=\"relative_lengths\", point_size=5, render_points_as_spheres=True\n",
    ")\n",
    "\n",
    "plotter.show()"
   ]
  }
 ],
 "metadata": {
  "kernelspec": {
   "display_name": "default",
   "language": "python",
   "name": "python3"
  },
  "language_info": {
   "codemirror_mode": {
    "name": "ipython",
    "version": 3
   },
   "file_extension": ".py",
   "mimetype": "text/x-python",
   "name": "python",
   "nbconvert_exporter": "python",
   "pygments_lexer": "ipython3",
   "version": "3.13.7"
  }
 },
 "nbformat": 4,
 "nbformat_minor": 5
}
