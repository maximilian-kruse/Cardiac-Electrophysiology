{
 "cells": [
  {
   "cell_type": "code",
   "execution_count": 173,
   "id": "895a90fd",
   "metadata": {},
   "outputs": [],
   "source": [
    "from enum import Enum\n",
    "\n",
    "import numpy as np\n",
    "import pyvista as pv\n",
    "import trimesh as tm\n",
    "import vedo as vd\n",
    "\n",
    "vd.settings.set_vtk_verbosity(0)"
   ]
  },
  {
   "cell_type": "markdown",
   "id": "507da088",
   "metadata": {},
   "source": [
    "# Load Dataset"
   ]
  },
  {
   "cell_type": "code",
   "execution_count": 174,
   "id": "e1522e92",
   "metadata": {},
   "outputs": [],
   "source": [
    "patient_id = \"patient_01\"\n",
    "infile_name = f\"../data/raw/{patient_id}_mesh_with_uacs_fibers_tags.vtk\"\n",
    "\n",
    "vtk_mesh = pv.read(infile_name)\n",
    "pv_mesh = pv.PolyData.from_regular_faces(\n",
    "    vtk_mesh.points, vtk_mesh.cells.reshape(-1, 4)[:, 1:]\n",
    ")"
   ]
  },
  {
   "cell_type": "markdown",
   "id": "4f3d0162",
   "metadata": {},
   "source": [
    "# Clean Up Anatomical Regions"
   ]
  },
  {
   "cell_type": "code",
   "execution_count": 175,
   "id": "7a59d5f0",
   "metadata": {},
   "outputs": [],
   "source": [
    "class LegacyAnatomicalTags(Enum):\n",
    "    BODY = 11\n",
    "    LAA = 13\n",
    "    LIPV = 21\n",
    "    LSPV = 23\n",
    "    RIPV = 25\n",
    "    RSPV = 27\n",
    "\n",
    "\n",
    "class AnatomicalTags(Enum):\n",
    "    BODY = 0\n",
    "    LAA = 1\n",
    "    LIPV = 2\n",
    "    LSPV = 3\n",
    "    RIPV = 4\n",
    "    RSPV = 5"
   ]
  },
  {
   "cell_type": "markdown",
   "id": "747e438f",
   "metadata": {},
   "source": [
    "### Deterministic Fixes, Smoothing, Clipping"
   ]
  },
  {
   "cell_type": "code",
   "execution_count": 176,
   "id": "71a5c445",
   "metadata": {},
   "outputs": [],
   "source": [
    "region_tag = LegacyAnatomicalTags.RSPV.value\n",
    "new_tag = 1\n",
    "\n",
    "pv_region_mesh = vtk_mesh.extract_values(region_tag, scalars=\"anatomical_tags\")\n",
    "tm_region_mesh = tm.Trimesh(\n",
    "    pv_region_mesh.points, pv_region_mesh.cells.reshape(-1, 4)[:, 1:], process=False\n",
    ")\n",
    "tm_region_mesh.fill_holes()\n",
    "connected_segments = tm_region_mesh.split(only_watertight=False)\n",
    "main_segment = connected_segments[0]\n",
    "\n",
    "segment_cell_inds = pv_mesh.find_containing_cell(main_segment.triangles_center)\n",
    "new_anatomical_tags = np.zeros(pv_mesh.n_cells)\n",
    "new_anatomical_tags[segment_cell_inds] = new_tag\n",
    "pv_mesh.cell_data[\"anatomical_tags\"] = new_anatomical_tags\n",
    "pv_mesh = pv_mesh.cell_data_to_point_data()\n",
    "\n",
    "vd_mesh = vd.Mesh([pv_mesh.points, pv_mesh.faces.reshape(-1, 4)[:, 1:]])\n",
    "vd_mesh.pointdata[\"anatomical_tags\"] = pv_mesh.point_data[\"anatomical_tags\"]\n",
    "vd_mesh = vd_mesh.smooth_data(niter=50)\n",
    "pv_mesh.point_data[\"anatomical_tags\"] = vd_mesh.pointdata[\"anatomical_tags\"]\n",
    "pv_region_mesh = pv_mesh.extract_values(ranges=[0.5, 1.1], scalars=\"anatomical_tags\")"
   ]
  },
  {
   "cell_type": "code",
   "execution_count": 177,
   "id": "dbbb1ddc",
   "metadata": {},
   "outputs": [
    {
     "data": {
      "application/vnd.jupyter.widget-view+json": {
       "model_id": "3d431edd1f994ff09181fcb18f3717bf",
       "version_major": 2,
       "version_minor": 0
      },
      "text/plain": [
       "Widget(value='<iframe src=\"http://localhost:46043/index.html?ui=P_0x7efd75b82c10_43&reconnect=auto\" class=\"pyv…"
      ]
     },
     "metadata": {},
     "output_type": "display_data"
    }
   ],
   "source": [
    "plotter = pv.Plotter(window_size=[900, 900])\n",
    "plotter.add_mesh(\n",
    "    pv_mesh,\n",
    "    style=\"wireframe\",\n",
    "    color=\"lightgrey\",\n",
    ")\n",
    "plotter.add_mesh(\n",
    "    pv_region_mesh,\n",
    "    color=\"red\",\n",
    ")\n",
    "plotter.show()"
   ]
  }
 ],
 "metadata": {
  "kernelspec": {
   "display_name": "default",
   "language": "python",
   "name": "python3"
  },
  "language_info": {
   "codemirror_mode": {
    "name": "ipython",
    "version": 3
   },
   "file_extension": ".py",
   "mimetype": "text/x-python",
   "name": "python",
   "nbconvert_exporter": "python",
   "pygments_lexer": "ipython3",
   "version": "3.13.7"
  }
 },
 "nbformat": 4,
 "nbformat_minor": 5
}
